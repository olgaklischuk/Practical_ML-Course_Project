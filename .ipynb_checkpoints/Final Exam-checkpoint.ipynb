{
 "cells": [
  {
   "cell_type": "markdown",
   "id": "1b922796-d60a-45a6-9986-8317f482e7ea",
   "metadata": {},
   "source": [
    "# Weight Lifting Correctness Assessment Case"
   ]
  },
  {
   "cell_type": "markdown",
   "id": "3694ad8e-783a-4571-95a5-d4d64f995dd9",
   "metadata": {},
   "source": [
    "The goal of this project is to predict the manner in which athletes did the exercise. This is the \"classe\" variable in the training set. Also coordinates obtained from accelerometers on the belt, forearm, arm, and dumbell have been used to predict quality of doing bicep curl. I have created a report describing model details on how I have used cross validation, what was the expected out of sample error is, and why I chose the random forest as a prediction instrument. I have also use my prediction model to predict 20 different test cases. "
   ]
  },
  {
   "cell_type": "code",
   "execution_count": null,
   "id": "b6ed60af-f3dd-4874-9c24-e57d47be545d",
   "metadata": {
    "tags": []
   },
   "outputs": [],
   "source": [
    "library('lattice')\n",
    "library('ggplot2')\n",
    "suppressWarnings(suppressMessages(library('dplyr', quiet = T)))\n",
    "library('caret', quiet = T)\n",
    "library('splines')\n",
    "library('parallel')\n",
    "suppressWarnings(suppressMessages(library('survival', quiet = T)))\n",
    "suppressWarnings(suppressMessages(library('randomForest', quiet = T)))\n",
    "suppressWarnings(suppressMessages(library('gbm', quiet = T)))\n",
    "suppressWarnings(suppressMessages(library('rattle', quiet = T)))"
   ]
  },
  {
   "cell_type": "code",
   "execution_count": 2,
   "id": "dbc9b57b-f488-49aa-84d7-6d0a2d004b08",
   "metadata": {
    "tags": []
   },
   "outputs": [],
   "source": [
    "suppressWarnings(\n",
    "    suppressMessages(\n",
    "    training <- readr::read_csv('pml-training.csv')))\n",
    "\n",
    "suppressWarnings(\n",
    "    suppressMessages(\n",
    "    testing <- readr::read_csv('pml-testing.csv')))"
   ]
  },
  {
   "cell_type": "code",
   "execution_count": 3,
   "id": "09ee946e-b553-46dc-bfdf-9c42efee2708",
   "metadata": {
    "tags": []
   },
   "outputs": [
    {
     "name": "stdout",
     "output_type": "stream",
     "text": [
      "spec_tbl_df [19,622 × 160] (S3: spec_tbl_df/tbl_df/tbl/data.frame)\n",
      " $ ...1                    : num [1:19622] 1 2 3 4 5 6 7 8 9 10 ...\n",
      " $ user_name               : chr [1:19622] \"carlitos\" \"carlitos\" \"carlitos\" \"carlitos\" ...\n",
      " $ raw_timestamp_part_1    : num [1:19622] 1.32e+09 1.32e+09 1.32e+09 1.32e+09 1.32e+09 ...\n",
      " $ raw_timestamp_part_2    : num [1:19622] 788290 808298 820366 120339 196328 ...\n",
      " $ cvtd_timestamp          : chr [1:19622] \"05/12/2011 11:23\" \"05/12/2011 11:23\" \"05/12/2011 11:23\" \"05/12/2011 11:23\" ...\n",
      " $ new_window              : chr [1:19622] \"no\" \"no\" \"no\" \"no\" ...\n",
      " $ num_window              : num [1:19622] 11 11 11 12 12 12 12 12 12 12 ...\n",
      " $ roll_belt               : num [1:19622] 1.41 1.41 1.42 1.48 1.48 1.45 1.42 1.42 1.43 1.45 ...\n",
      " $ pitch_belt              : num [1:19622] 8.07 8.07 8.07 8.05 8.07 8.06 8.09 8.13 8.16 8.17 ...\n",
      " $ yaw_belt                : num [1:19622] -94.4 -94.4 -94.4 -94.4 -94.4 -94.4 -94.4 -94.4 -94.4 -94.4 ...\n",
      " $ total_accel_belt        : num [1:19622] 3 3 3 3 3 3 3 3 3 3 ...\n",
      " $ kurtosis_roll_belt      : chr [1:19622] NA NA NA NA ...\n",
      " $ kurtosis_picth_belt     : chr [1:19622] NA NA NA NA ...\n",
      " $ kurtosis_yaw_belt       : chr [1:19622] NA NA NA NA ...\n",
      " $ skewness_roll_belt      : num [1:19622] NA NA NA NA NA NA NA NA NA NA ...\n",
      " $ skewness_roll_belt.1    : chr [1:19622] NA NA NA NA ...\n",
      " $ skewness_yaw_belt       : chr [1:19622] NA NA NA NA ...\n",
      " $ max_roll_belt           : num [1:19622] NA NA NA NA NA NA NA NA NA NA ...\n",
      " $ max_picth_belt          : num [1:19622] NA NA NA NA NA NA NA NA NA NA ...\n",
      " $ max_yaw_belt            : chr [1:19622] NA NA NA NA ...\n",
      " $ min_roll_belt           : num [1:19622] NA NA NA NA NA NA NA NA NA NA ...\n",
      " $ min_pitch_belt          : num [1:19622] NA NA NA NA NA NA NA NA NA NA ...\n",
      " $ min_yaw_belt            : chr [1:19622] NA NA NA NA ...\n",
      " $ amplitude_roll_belt     : num [1:19622] NA NA NA NA NA NA NA NA NA NA ...\n",
      " $ amplitude_pitch_belt    : num [1:19622] NA NA NA NA NA NA NA NA NA NA ...\n",
      " $ amplitude_yaw_belt      : chr [1:19622] NA NA NA NA ...\n",
      " $ var_total_accel_belt    : num [1:19622] NA NA NA NA NA NA NA NA NA NA ...\n",
      " $ avg_roll_belt           : num [1:19622] NA NA NA NA NA NA NA NA NA NA ...\n",
      " $ stddev_roll_belt        : num [1:19622] NA NA NA NA NA NA NA NA NA NA ...\n",
      " $ var_roll_belt           : num [1:19622] NA NA NA NA NA NA NA NA NA NA ...\n",
      " $ avg_pitch_belt          : num [1:19622] NA NA NA NA NA NA NA NA NA NA ...\n",
      " $ stddev_pitch_belt       : num [1:19622] NA NA NA NA NA NA NA NA NA NA ...\n",
      " $ var_pitch_belt          : num [1:19622] NA NA NA NA NA NA NA NA NA NA ...\n",
      " $ avg_yaw_belt            : num [1:19622] NA NA NA NA NA NA NA NA NA NA ...\n",
      " $ stddev_yaw_belt         : num [1:19622] NA NA NA NA NA NA NA NA NA NA ...\n",
      " $ var_yaw_belt            : num [1:19622] NA NA NA NA NA NA NA NA NA NA ...\n",
      " $ gyros_belt_x            : num [1:19622] 0 0.02 0 0.02 0.02 0.02 0.02 0.02 0.02 0.03 ...\n",
      " $ gyros_belt_y            : num [1:19622] 0 0 0 0 0.02 0 0 0 0 0 ...\n",
      " $ gyros_belt_z            : num [1:19622] -0.02 -0.02 -0.02 -0.03 -0.02 -0.02 -0.02 -0.02 -0.02 0 ...\n",
      " $ accel_belt_x            : num [1:19622] -21 -22 -20 -22 -21 -21 -22 -22 -20 -21 ...\n",
      " $ accel_belt_y            : num [1:19622] 4 4 5 3 2 4 3 4 2 4 ...\n",
      " $ accel_belt_z            : num [1:19622] 22 22 23 21 24 21 21 21 24 22 ...\n",
      " $ magnet_belt_x           : num [1:19622] -3 -7 -2 -6 -6 0 -4 -2 1 -3 ...\n",
      " $ magnet_belt_y           : num [1:19622] 599 608 600 604 600 603 599 603 602 609 ...\n",
      " $ magnet_belt_z           : num [1:19622] -313 -311 -305 -310 -302 -312 -311 -313 -312 -308 ...\n",
      " $ roll_arm                : num [1:19622] -128 -128 -128 -128 -128 -128 -128 -128 -128 -128 ...\n",
      " $ pitch_arm               : num [1:19622] 22.5 22.5 22.5 22.1 22.1 22 21.9 21.8 21.7 21.6 ...\n",
      " $ yaw_arm                 : num [1:19622] -161 -161 -161 -161 -161 -161 -161 -161 -161 -161 ...\n",
      " $ total_accel_arm         : num [1:19622] 34 34 34 34 34 34 34 34 34 34 ...\n",
      " $ var_accel_arm           : num [1:19622] NA NA NA NA NA NA NA NA NA NA ...\n",
      " $ avg_roll_arm            : num [1:19622] NA NA NA NA NA NA NA NA NA NA ...\n",
      " $ stddev_roll_arm         : num [1:19622] NA NA NA NA NA NA NA NA NA NA ...\n",
      " $ var_roll_arm            : num [1:19622] NA NA NA NA NA NA NA NA NA NA ...\n",
      " $ avg_pitch_arm           : num [1:19622] NA NA NA NA NA NA NA NA NA NA ...\n",
      " $ stddev_pitch_arm        : num [1:19622] NA NA NA NA NA NA NA NA NA NA ...\n",
      " $ var_pitch_arm           : num [1:19622] NA NA NA NA NA NA NA NA NA NA ...\n",
      " $ avg_yaw_arm             : num [1:19622] NA NA NA NA NA NA NA NA NA NA ...\n",
      " $ stddev_yaw_arm          : num [1:19622] NA NA NA NA NA NA NA NA NA NA ...\n",
      " $ var_yaw_arm             : num [1:19622] NA NA NA NA NA NA NA NA NA NA ...\n",
      " $ gyros_arm_x             : num [1:19622] 0 0.02 0.02 0.02 0 0.02 0 0.02 0.02 0.02 ...\n",
      " $ gyros_arm_y             : num [1:19622] 0 -0.02 -0.02 -0.03 -0.03 -0.03 -0.03 -0.02 -0.03 -0.03 ...\n",
      " $ gyros_arm_z             : num [1:19622] -0.02 -0.02 -0.02 0.02 0 0 0 0 -0.02 -0.02 ...\n",
      " $ accel_arm_x             : num [1:19622] -288 -290 -289 -289 -289 -289 -289 -289 -288 -288 ...\n",
      " $ accel_arm_y             : num [1:19622] 109 110 110 111 111 111 111 111 109 110 ...\n",
      " $ accel_arm_z             : num [1:19622] -123 -125 -126 -123 -123 -122 -125 -124 -122 -124 ...\n",
      " $ magnet_arm_x            : num [1:19622] -368 -369 -368 -372 -374 -369 -373 -372 -369 -376 ...\n",
      " $ magnet_arm_y            : num [1:19622] 337 337 344 344 337 342 336 338 341 334 ...\n",
      " $ magnet_arm_z            : num [1:19622] 516 513 513 512 506 513 509 510 518 516 ...\n",
      " $ kurtosis_roll_arm       : chr [1:19622] NA NA NA NA ...\n",
      " $ kurtosis_picth_arm      : chr [1:19622] NA NA NA NA ...\n",
      " $ kurtosis_yaw_arm        : chr [1:19622] NA NA NA NA ...\n",
      " $ skewness_roll_arm       : chr [1:19622] NA NA NA NA ...\n",
      " $ skewness_pitch_arm      : chr [1:19622] NA NA NA NA ...\n",
      " $ skewness_yaw_arm        : chr [1:19622] NA NA NA NA ...\n",
      " $ max_roll_arm            : num [1:19622] NA NA NA NA NA NA NA NA NA NA ...\n",
      " $ max_picth_arm           : num [1:19622] NA NA NA NA NA NA NA NA NA NA ...\n",
      " $ max_yaw_arm             : num [1:19622] NA NA NA NA NA NA NA NA NA NA ...\n",
      " $ min_roll_arm            : num [1:19622] NA NA NA NA NA NA NA NA NA NA ...\n",
      " $ min_pitch_arm           : num [1:19622] NA NA NA NA NA NA NA NA NA NA ...\n",
      " $ min_yaw_arm             : num [1:19622] NA NA NA NA NA NA NA NA NA NA ...\n",
      " $ amplitude_roll_arm      : num [1:19622] NA NA NA NA NA NA NA NA NA NA ...\n",
      " $ amplitude_pitch_arm     : num [1:19622] NA NA NA NA NA NA NA NA NA NA ...\n",
      " $ amplitude_yaw_arm       : num [1:19622] NA NA NA NA NA NA NA NA NA NA ...\n",
      " $ roll_dumbbell           : num [1:19622] 13.1 13.1 12.9 13.4 13.4 ...\n",
      " $ pitch_dumbbell          : num [1:19622] -70.5 -70.6 -70.3 -70.4 -70.4 ...\n",
      " $ yaw_dumbbell            : num [1:19622] -84.9 -84.7 -85.1 -84.9 -84.9 ...\n",
      " $ kurtosis_roll_dumbbell  : chr [1:19622] NA NA NA NA ...\n",
      " $ kurtosis_picth_dumbbell : chr [1:19622] NA NA NA NA ...\n",
      " $ kurtosis_yaw_dumbbell   : chr [1:19622] NA NA NA NA ...\n",
      " $ skewness_roll_dumbbell  : num [1:19622] NA NA NA NA NA NA NA NA NA NA ...\n",
      " $ skewness_pitch_dumbbell : num [1:19622] NA NA NA NA NA NA NA NA NA NA ...\n",
      " $ skewness_yaw_dumbbell   : chr [1:19622] NA NA NA NA ...\n",
      " $ max_roll_dumbbell       : num [1:19622] NA NA NA NA NA NA NA NA NA NA ...\n",
      " $ max_picth_dumbbell      : num [1:19622] NA NA NA NA NA NA NA NA NA NA ...\n",
      " $ max_yaw_dumbbell        : chr [1:19622] NA NA NA NA ...\n",
      " $ min_roll_dumbbell       : num [1:19622] NA NA NA NA NA NA NA NA NA NA ...\n",
      " $ min_pitch_dumbbell      : num [1:19622] NA NA NA NA NA NA NA NA NA NA ...\n",
      " $ min_yaw_dumbbell        : chr [1:19622] NA NA NA NA ...\n",
      " $ amplitude_roll_dumbbell : num [1:19622] NA NA NA NA NA NA NA NA NA NA ...\n",
      "  [list output truncated]\n",
      " - attr(*, \"spec\")=\n",
      "  .. cols(\n",
      "  ..   ...1 = \u001b[32mcol_double()\u001b[39m,\n",
      "  ..   user_name = \u001b[31mcol_character()\u001b[39m,\n",
      "  ..   raw_timestamp_part_1 = \u001b[32mcol_double()\u001b[39m,\n",
      "  ..   raw_timestamp_part_2 = \u001b[32mcol_double()\u001b[39m,\n",
      "  ..   cvtd_timestamp = \u001b[31mcol_character()\u001b[39m,\n",
      "  ..   new_window = \u001b[31mcol_character()\u001b[39m,\n",
      "  ..   num_window = \u001b[32mcol_double()\u001b[39m,\n",
      "  ..   roll_belt = \u001b[32mcol_double()\u001b[39m,\n",
      "  ..   pitch_belt = \u001b[32mcol_double()\u001b[39m,\n",
      "  ..   yaw_belt = \u001b[32mcol_double()\u001b[39m,\n",
      "  ..   total_accel_belt = \u001b[32mcol_double()\u001b[39m,\n",
      "  ..   kurtosis_roll_belt = \u001b[31mcol_character()\u001b[39m,\n",
      "  ..   kurtosis_picth_belt = \u001b[31mcol_character()\u001b[39m,\n",
      "  ..   kurtosis_yaw_belt = \u001b[31mcol_character()\u001b[39m,\n",
      "  ..   skewness_roll_belt = \u001b[32mcol_double()\u001b[39m,\n",
      "  ..   skewness_roll_belt.1 = \u001b[31mcol_character()\u001b[39m,\n",
      "  ..   skewness_yaw_belt = \u001b[31mcol_character()\u001b[39m,\n",
      "  ..   max_roll_belt = \u001b[32mcol_double()\u001b[39m,\n",
      "  ..   max_picth_belt = \u001b[32mcol_double()\u001b[39m,\n",
      "  ..   max_yaw_belt = \u001b[31mcol_character()\u001b[39m,\n",
      "  ..   min_roll_belt = \u001b[32mcol_double()\u001b[39m,\n",
      "  ..   min_pitch_belt = \u001b[32mcol_double()\u001b[39m,\n",
      "  ..   min_yaw_belt = \u001b[31mcol_character()\u001b[39m,\n",
      "  ..   amplitude_roll_belt = \u001b[32mcol_double()\u001b[39m,\n",
      "  ..   amplitude_pitch_belt = \u001b[32mcol_double()\u001b[39m,\n",
      "  ..   amplitude_yaw_belt = \u001b[31mcol_character()\u001b[39m,\n",
      "  ..   var_total_accel_belt = \u001b[32mcol_double()\u001b[39m,\n",
      "  ..   avg_roll_belt = \u001b[32mcol_double()\u001b[39m,\n",
      "  ..   stddev_roll_belt = \u001b[32mcol_double()\u001b[39m,\n",
      "  ..   var_roll_belt = \u001b[32mcol_double()\u001b[39m,\n",
      "  ..   avg_pitch_belt = \u001b[32mcol_double()\u001b[39m,\n",
      "  ..   stddev_pitch_belt = \u001b[32mcol_double()\u001b[39m,\n",
      "  ..   var_pitch_belt = \u001b[32mcol_double()\u001b[39m,\n",
      "  ..   avg_yaw_belt = \u001b[32mcol_double()\u001b[39m,\n",
      "  ..   stddev_yaw_belt = \u001b[32mcol_double()\u001b[39m,\n",
      "  ..   var_yaw_belt = \u001b[32mcol_double()\u001b[39m,\n",
      "  ..   gyros_belt_x = \u001b[32mcol_double()\u001b[39m,\n",
      "  ..   gyros_belt_y = \u001b[32mcol_double()\u001b[39m,\n",
      "  ..   gyros_belt_z = \u001b[32mcol_double()\u001b[39m,\n",
      "  ..   accel_belt_x = \u001b[32mcol_double()\u001b[39m,\n",
      "  ..   accel_belt_y = \u001b[32mcol_double()\u001b[39m,\n",
      "  ..   accel_belt_z = \u001b[32mcol_double()\u001b[39m,\n",
      "  ..   magnet_belt_x = \u001b[32mcol_double()\u001b[39m,\n",
      "  ..   magnet_belt_y = \u001b[32mcol_double()\u001b[39m,\n",
      "  ..   magnet_belt_z = \u001b[32mcol_double()\u001b[39m,\n",
      "  ..   roll_arm = \u001b[32mcol_double()\u001b[39m,\n",
      "  ..   pitch_arm = \u001b[32mcol_double()\u001b[39m,\n",
      "  ..   yaw_arm = \u001b[32mcol_double()\u001b[39m,\n",
      "  ..   total_accel_arm = \u001b[32mcol_double()\u001b[39m,\n",
      "  ..   var_accel_arm = \u001b[32mcol_double()\u001b[39m,\n",
      "  ..   avg_roll_arm = \u001b[32mcol_double()\u001b[39m,\n",
      "  ..   stddev_roll_arm = \u001b[32mcol_double()\u001b[39m,\n",
      "  ..   var_roll_arm = \u001b[32mcol_double()\u001b[39m,\n",
      "  ..   avg_pitch_arm = \u001b[32mcol_double()\u001b[39m,\n",
      "  ..   stddev_pitch_arm = \u001b[32mcol_double()\u001b[39m,\n",
      "  ..   var_pitch_arm = \u001b[32mcol_double()\u001b[39m,\n",
      "  ..   avg_yaw_arm = \u001b[32mcol_double()\u001b[39m,\n",
      "  ..   stddev_yaw_arm = \u001b[32mcol_double()\u001b[39m,\n",
      "  ..   var_yaw_arm = \u001b[32mcol_double()\u001b[39m,\n",
      "  ..   gyros_arm_x = \u001b[32mcol_double()\u001b[39m,\n",
      "  ..   gyros_arm_y = \u001b[32mcol_double()\u001b[39m,\n",
      "  ..   gyros_arm_z = \u001b[32mcol_double()\u001b[39m,\n",
      "  ..   accel_arm_x = \u001b[32mcol_double()\u001b[39m,\n",
      "  ..   accel_arm_y = \u001b[32mcol_double()\u001b[39m,\n",
      "  ..   accel_arm_z = \u001b[32mcol_double()\u001b[39m,\n",
      "  ..   magnet_arm_x = \u001b[32mcol_double()\u001b[39m,\n",
      "  ..   magnet_arm_y = \u001b[32mcol_double()\u001b[39m,\n",
      "  ..   magnet_arm_z = \u001b[32mcol_double()\u001b[39m,\n",
      "  ..   kurtosis_roll_arm = \u001b[31mcol_character()\u001b[39m,\n",
      "  ..   kurtosis_picth_arm = \u001b[31mcol_character()\u001b[39m,\n",
      "  ..   kurtosis_yaw_arm = \u001b[31mcol_character()\u001b[39m,\n",
      "  ..   skewness_roll_arm = \u001b[31mcol_character()\u001b[39m,\n",
      "  ..   skewness_pitch_arm = \u001b[31mcol_character()\u001b[39m,\n",
      "  ..   skewness_yaw_arm = \u001b[31mcol_character()\u001b[39m,\n",
      "  ..   max_roll_arm = \u001b[32mcol_double()\u001b[39m,\n",
      "  ..   max_picth_arm = \u001b[32mcol_double()\u001b[39m,\n",
      "  ..   max_yaw_arm = \u001b[32mcol_double()\u001b[39m,\n",
      "  ..   min_roll_arm = \u001b[32mcol_double()\u001b[39m,\n",
      "  ..   min_pitch_arm = \u001b[32mcol_double()\u001b[39m,\n",
      "  ..   min_yaw_arm = \u001b[32mcol_double()\u001b[39m,\n",
      "  ..   amplitude_roll_arm = \u001b[32mcol_double()\u001b[39m,\n",
      "  ..   amplitude_pitch_arm = \u001b[32mcol_double()\u001b[39m,\n",
      "  ..   amplitude_yaw_arm = \u001b[32mcol_double()\u001b[39m,\n",
      "  ..   roll_dumbbell = \u001b[32mcol_double()\u001b[39m,\n",
      "  ..   pitch_dumbbell = \u001b[32mcol_double()\u001b[39m,\n",
      "  ..   yaw_dumbbell = \u001b[32mcol_double()\u001b[39m,\n",
      "  ..   kurtosis_roll_dumbbell = \u001b[31mcol_character()\u001b[39m,\n",
      "  ..   kurtosis_picth_dumbbell = \u001b[31mcol_character()\u001b[39m,\n",
      "  ..   kurtosis_yaw_dumbbell = \u001b[31mcol_character()\u001b[39m,\n",
      "  ..   skewness_roll_dumbbell = \u001b[32mcol_double()\u001b[39m,\n",
      "  ..   skewness_pitch_dumbbell = \u001b[32mcol_double()\u001b[39m,\n",
      "  ..   skewness_yaw_dumbbell = \u001b[31mcol_character()\u001b[39m,\n",
      "  ..   max_roll_dumbbell = \u001b[32mcol_double()\u001b[39m,\n",
      "  ..   max_picth_dumbbell = \u001b[32mcol_double()\u001b[39m,\n",
      "  ..   max_yaw_dumbbell = \u001b[31mcol_character()\u001b[39m,\n",
      "  ..   min_roll_dumbbell = \u001b[32mcol_double()\u001b[39m,\n",
      "  ..   min_pitch_dumbbell = \u001b[32mcol_double()\u001b[39m,\n",
      "  ..   min_yaw_dumbbell = \u001b[31mcol_character()\u001b[39m,\n",
      "  ..   amplitude_roll_dumbbell = \u001b[32mcol_double()\u001b[39m,\n",
      "  ..   amplitude_pitch_dumbbell = \u001b[32mcol_double()\u001b[39m,\n",
      "  ..   amplitude_yaw_dumbbell = \u001b[31mcol_character()\u001b[39m,\n",
      "  ..   total_accel_dumbbell = \u001b[32mcol_double()\u001b[39m,\n",
      "  ..   var_accel_dumbbell = \u001b[32mcol_double()\u001b[39m,\n",
      "  ..   avg_roll_dumbbell = \u001b[32mcol_double()\u001b[39m,\n",
      "  ..   stddev_roll_dumbbell = \u001b[32mcol_double()\u001b[39m,\n",
      "  ..   var_roll_dumbbell = \u001b[32mcol_double()\u001b[39m,\n",
      "  ..   avg_pitch_dumbbell = \u001b[32mcol_double()\u001b[39m,\n",
      "  ..   stddev_pitch_dumbbell = \u001b[32mcol_double()\u001b[39m,\n",
      "  ..   var_pitch_dumbbell = \u001b[32mcol_double()\u001b[39m,\n",
      "  ..   avg_yaw_dumbbell = \u001b[32mcol_double()\u001b[39m,\n",
      "  ..   stddev_yaw_dumbbell = \u001b[32mcol_double()\u001b[39m,\n",
      "  ..   var_yaw_dumbbell = \u001b[32mcol_double()\u001b[39m,\n",
      "  ..   gyros_dumbbell_x = \u001b[32mcol_double()\u001b[39m,\n",
      "  ..   gyros_dumbbell_y = \u001b[32mcol_double()\u001b[39m,\n",
      "  ..   gyros_dumbbell_z = \u001b[32mcol_double()\u001b[39m,\n",
      "  ..   accel_dumbbell_x = \u001b[32mcol_double()\u001b[39m,\n",
      "  ..   accel_dumbbell_y = \u001b[32mcol_double()\u001b[39m,\n",
      "  ..   accel_dumbbell_z = \u001b[32mcol_double()\u001b[39m,\n",
      "  ..   magnet_dumbbell_x = \u001b[32mcol_double()\u001b[39m,\n",
      "  ..   magnet_dumbbell_y = \u001b[32mcol_double()\u001b[39m,\n",
      "  ..   magnet_dumbbell_z = \u001b[32mcol_double()\u001b[39m,\n",
      "  ..   roll_forearm = \u001b[32mcol_double()\u001b[39m,\n",
      "  ..   pitch_forearm = \u001b[32mcol_double()\u001b[39m,\n",
      "  ..   yaw_forearm = \u001b[32mcol_double()\u001b[39m,\n",
      "  ..   kurtosis_roll_forearm = \u001b[31mcol_character()\u001b[39m,\n",
      "  ..   kurtosis_picth_forearm = \u001b[31mcol_character()\u001b[39m,\n",
      "  ..   kurtosis_yaw_forearm = \u001b[31mcol_character()\u001b[39m,\n",
      "  ..   skewness_roll_forearm = \u001b[31mcol_character()\u001b[39m,\n",
      "  ..   skewness_pitch_forearm = \u001b[31mcol_character()\u001b[39m,\n",
      "  ..   skewness_yaw_forearm = \u001b[31mcol_character()\u001b[39m,\n",
      "  ..   max_roll_forearm = \u001b[32mcol_double()\u001b[39m,\n",
      "  ..   max_picth_forearm = \u001b[32mcol_double()\u001b[39m,\n",
      "  ..   max_yaw_forearm = \u001b[31mcol_character()\u001b[39m,\n",
      "  ..   min_roll_forearm = \u001b[32mcol_double()\u001b[39m,\n",
      "  ..   min_pitch_forearm = \u001b[32mcol_double()\u001b[39m,\n",
      "  ..   min_yaw_forearm = \u001b[31mcol_character()\u001b[39m,\n",
      "  ..   amplitude_roll_forearm = \u001b[32mcol_double()\u001b[39m,\n",
      "  ..   amplitude_pitch_forearm = \u001b[32mcol_double()\u001b[39m,\n",
      "  ..   amplitude_yaw_forearm = \u001b[31mcol_character()\u001b[39m,\n",
      "  ..   total_accel_forearm = \u001b[32mcol_double()\u001b[39m,\n",
      "  ..   var_accel_forearm = \u001b[32mcol_double()\u001b[39m,\n",
      "  ..   avg_roll_forearm = \u001b[32mcol_double()\u001b[39m,\n",
      "  ..   stddev_roll_forearm = \u001b[32mcol_double()\u001b[39m,\n",
      "  ..   var_roll_forearm = \u001b[32mcol_double()\u001b[39m,\n",
      "  ..   avg_pitch_forearm = \u001b[32mcol_double()\u001b[39m,\n",
      "  ..   stddev_pitch_forearm = \u001b[32mcol_double()\u001b[39m,\n",
      "  ..   var_pitch_forearm = \u001b[32mcol_double()\u001b[39m,\n",
      "  ..   avg_yaw_forearm = \u001b[32mcol_double()\u001b[39m,\n",
      "  ..   stddev_yaw_forearm = \u001b[32mcol_double()\u001b[39m,\n",
      "  ..   var_yaw_forearm = \u001b[32mcol_double()\u001b[39m,\n",
      "  ..   gyros_forearm_x = \u001b[32mcol_double()\u001b[39m,\n",
      "  ..   gyros_forearm_y = \u001b[32mcol_double()\u001b[39m,\n",
      "  ..   gyros_forearm_z = \u001b[32mcol_double()\u001b[39m,\n",
      "  ..   accel_forearm_x = \u001b[32mcol_double()\u001b[39m,\n",
      "  ..   accel_forearm_y = \u001b[32mcol_double()\u001b[39m,\n",
      "  ..   accel_forearm_z = \u001b[32mcol_double()\u001b[39m,\n",
      "  ..   magnet_forearm_x = \u001b[32mcol_double()\u001b[39m,\n",
      "  ..   magnet_forearm_y = \u001b[32mcol_double()\u001b[39m,\n",
      "  ..   magnet_forearm_z = \u001b[32mcol_double()\u001b[39m,\n",
      "  ..   classe = \u001b[31mcol_character()\u001b[39m\n",
      "  .. )\n",
      " - attr(*, \"problems\")=<externalptr> \n"
     ]
    }
   ],
   "source": [
    "str(training)"
   ]
  },
  {
   "cell_type": "code",
   "execution_count": 4,
   "id": "2e8d9a4a-282c-4185-ad69-a9e86730720a",
   "metadata": {
    "tags": []
   },
   "outputs": [
    {
     "data": {
      "text/html": [
       "<table class=\"dataframe\">\n",
       "<caption>A tibble: 6 × 160</caption>\n",
       "<thead>\n",
       "\t<tr><th scope=col>...1</th><th scope=col>user_name</th><th scope=col>raw_timestamp_part_1</th><th scope=col>raw_timestamp_part_2</th><th scope=col>cvtd_timestamp</th><th scope=col>new_window</th><th scope=col>num_window</th><th scope=col>roll_belt</th><th scope=col>pitch_belt</th><th scope=col>yaw_belt</th><th scope=col>⋯</th><th scope=col>gyros_forearm_x</th><th scope=col>gyros_forearm_y</th><th scope=col>gyros_forearm_z</th><th scope=col>accel_forearm_x</th><th scope=col>accel_forearm_y</th><th scope=col>accel_forearm_z</th><th scope=col>magnet_forearm_x</th><th scope=col>magnet_forearm_y</th><th scope=col>magnet_forearm_z</th><th scope=col>problem_id</th></tr>\n",
       "\t<tr><th scope=col>&lt;dbl&gt;</th><th scope=col>&lt;chr&gt;</th><th scope=col>&lt;dbl&gt;</th><th scope=col>&lt;dbl&gt;</th><th scope=col>&lt;chr&gt;</th><th scope=col>&lt;chr&gt;</th><th scope=col>&lt;dbl&gt;</th><th scope=col>&lt;dbl&gt;</th><th scope=col>&lt;dbl&gt;</th><th scope=col>&lt;dbl&gt;</th><th scope=col>⋯</th><th scope=col>&lt;dbl&gt;</th><th scope=col>&lt;dbl&gt;</th><th scope=col>&lt;dbl&gt;</th><th scope=col>&lt;dbl&gt;</th><th scope=col>&lt;dbl&gt;</th><th scope=col>&lt;dbl&gt;</th><th scope=col>&lt;dbl&gt;</th><th scope=col>&lt;dbl&gt;</th><th scope=col>&lt;dbl&gt;</th><th scope=col>&lt;dbl&gt;</th></tr>\n",
       "</thead>\n",
       "<tbody>\n",
       "\t<tr><td>1</td><td>pedro </td><td>1323095002</td><td>868349</td><td>05/12/2011 14:23</td><td>no</td><td> 74</td><td>123.00</td><td> 27.00</td><td> -4.75</td><td>⋯</td><td> 0.74</td><td>-3.34</td><td>-0.59</td><td>-110</td><td>267</td><td>-149</td><td>-714</td><td> 419</td><td>617</td><td>1</td></tr>\n",
       "\t<tr><td>2</td><td>jeremy</td><td>1322673067</td><td>778725</td><td>30/11/2011 17:11</td><td>no</td><td>431</td><td>  1.02</td><td>  4.87</td><td>-88.90</td><td>⋯</td><td> 1.12</td><td>-2.78</td><td>-0.18</td><td> 212</td><td>297</td><td>-118</td><td>-237</td><td> 791</td><td>873</td><td>2</td></tr>\n",
       "\t<tr><td>3</td><td>jeremy</td><td>1322673075</td><td>342967</td><td>30/11/2011 17:11</td><td>no</td><td>439</td><td>  0.87</td><td>  1.82</td><td>-88.50</td><td>⋯</td><td> 0.18</td><td>-0.79</td><td> 0.28</td><td> 154</td><td>271</td><td>-129</td><td> -51</td><td> 698</td><td>783</td><td>3</td></tr>\n",
       "\t<tr><td>4</td><td>adelmo</td><td>1322832789</td><td>560311</td><td>02/12/2011 13:33</td><td>no</td><td>194</td><td>125.00</td><td>-41.60</td><td>162.00</td><td>⋯</td><td> 1.38</td><td> 0.69</td><td> 1.80</td><td> -92</td><td>406</td><td> -39</td><td>-233</td><td> 783</td><td>521</td><td>4</td></tr>\n",
       "\t<tr><td>5</td><td>eurico</td><td>1322489635</td><td>814776</td><td>28/11/2011 14:13</td><td>no</td><td>235</td><td>  1.35</td><td>  3.33</td><td>-88.60</td><td>⋯</td><td>-0.75</td><td> 3.10</td><td> 0.80</td><td> 131</td><td>-93</td><td> 172</td><td> 375</td><td>-787</td><td> 91</td><td>5</td></tr>\n",
       "\t<tr><td>6</td><td>jeremy</td><td>1322673149</td><td>510661</td><td>30/11/2011 17:12</td><td>no</td><td>504</td><td> -5.92</td><td>  1.59</td><td>-87.70</td><td>⋯</td><td>-0.88</td><td> 4.26</td><td> 1.35</td><td> 230</td><td>322</td><td>-144</td><td>-300</td><td> 800</td><td>884</td><td>6</td></tr>\n",
       "</tbody>\n",
       "</table>\n"
      ],
      "text/latex": [
       "A tibble: 6 × 160\n",
       "\\begin{tabular}{lllllllllllllllllllll}\n",
       " ...1 & user\\_name & raw\\_timestamp\\_part\\_1 & raw\\_timestamp\\_part\\_2 & cvtd\\_timestamp & new\\_window & num\\_window & roll\\_belt & pitch\\_belt & yaw\\_belt & ⋯ & gyros\\_forearm\\_x & gyros\\_forearm\\_y & gyros\\_forearm\\_z & accel\\_forearm\\_x & accel\\_forearm\\_y & accel\\_forearm\\_z & magnet\\_forearm\\_x & magnet\\_forearm\\_y & magnet\\_forearm\\_z & problem\\_id\\\\\n",
       " <dbl> & <chr> & <dbl> & <dbl> & <chr> & <chr> & <dbl> & <dbl> & <dbl> & <dbl> & ⋯ & <dbl> & <dbl> & <dbl> & <dbl> & <dbl> & <dbl> & <dbl> & <dbl> & <dbl> & <dbl>\\\\\n",
       "\\hline\n",
       "\t 1 & pedro  & 1323095002 & 868349 & 05/12/2011 14:23 & no &  74 & 123.00 &  27.00 &  -4.75 & ⋯ &  0.74 & -3.34 & -0.59 & -110 & 267 & -149 & -714 &  419 & 617 & 1\\\\\n",
       "\t 2 & jeremy & 1322673067 & 778725 & 30/11/2011 17:11 & no & 431 &   1.02 &   4.87 & -88.90 & ⋯ &  1.12 & -2.78 & -0.18 &  212 & 297 & -118 & -237 &  791 & 873 & 2\\\\\n",
       "\t 3 & jeremy & 1322673075 & 342967 & 30/11/2011 17:11 & no & 439 &   0.87 &   1.82 & -88.50 & ⋯ &  0.18 & -0.79 &  0.28 &  154 & 271 & -129 &  -51 &  698 & 783 & 3\\\\\n",
       "\t 4 & adelmo & 1322832789 & 560311 & 02/12/2011 13:33 & no & 194 & 125.00 & -41.60 & 162.00 & ⋯ &  1.38 &  0.69 &  1.80 &  -92 & 406 &  -39 & -233 &  783 & 521 & 4\\\\\n",
       "\t 5 & eurico & 1322489635 & 814776 & 28/11/2011 14:13 & no & 235 &   1.35 &   3.33 & -88.60 & ⋯ & -0.75 &  3.10 &  0.80 &  131 & -93 &  172 &  375 & -787 &  91 & 5\\\\\n",
       "\t 6 & jeremy & 1322673149 & 510661 & 30/11/2011 17:12 & no & 504 &  -5.92 &   1.59 & -87.70 & ⋯ & -0.88 &  4.26 &  1.35 &  230 & 322 & -144 & -300 &  800 & 884 & 6\\\\\n",
       "\\end{tabular}\n"
      ],
      "text/markdown": [
       "\n",
       "A tibble: 6 × 160\n",
       "\n",
       "| ...1 &lt;dbl&gt; | user_name &lt;chr&gt; | raw_timestamp_part_1 &lt;dbl&gt; | raw_timestamp_part_2 &lt;dbl&gt; | cvtd_timestamp &lt;chr&gt; | new_window &lt;chr&gt; | num_window &lt;dbl&gt; | roll_belt &lt;dbl&gt; | pitch_belt &lt;dbl&gt; | yaw_belt &lt;dbl&gt; | ⋯ ⋯ | gyros_forearm_x &lt;dbl&gt; | gyros_forearm_y &lt;dbl&gt; | gyros_forearm_z &lt;dbl&gt; | accel_forearm_x &lt;dbl&gt; | accel_forearm_y &lt;dbl&gt; | accel_forearm_z &lt;dbl&gt; | magnet_forearm_x &lt;dbl&gt; | magnet_forearm_y &lt;dbl&gt; | magnet_forearm_z &lt;dbl&gt; | problem_id &lt;dbl&gt; |\n",
       "|---|---|---|---|---|---|---|---|---|---|---|---|---|---|---|---|---|---|---|---|---|\n",
       "| 1 | pedro  | 1323095002 | 868349 | 05/12/2011 14:23 | no |  74 | 123.00 |  27.00 |  -4.75 | ⋯ |  0.74 | -3.34 | -0.59 | -110 | 267 | -149 | -714 |  419 | 617 | 1 |\n",
       "| 2 | jeremy | 1322673067 | 778725 | 30/11/2011 17:11 | no | 431 |   1.02 |   4.87 | -88.90 | ⋯ |  1.12 | -2.78 | -0.18 |  212 | 297 | -118 | -237 |  791 | 873 | 2 |\n",
       "| 3 | jeremy | 1322673075 | 342967 | 30/11/2011 17:11 | no | 439 |   0.87 |   1.82 | -88.50 | ⋯ |  0.18 | -0.79 |  0.28 |  154 | 271 | -129 |  -51 |  698 | 783 | 3 |\n",
       "| 4 | adelmo | 1322832789 | 560311 | 02/12/2011 13:33 | no | 194 | 125.00 | -41.60 | 162.00 | ⋯ |  1.38 |  0.69 |  1.80 |  -92 | 406 |  -39 | -233 |  783 | 521 | 4 |\n",
       "| 5 | eurico | 1322489635 | 814776 | 28/11/2011 14:13 | no | 235 |   1.35 |   3.33 | -88.60 | ⋯ | -0.75 |  3.10 |  0.80 |  131 | -93 |  172 |  375 | -787 |  91 | 5 |\n",
       "| 6 | jeremy | 1322673149 | 510661 | 30/11/2011 17:12 | no | 504 |  -5.92 |   1.59 | -87.70 | ⋯ | -0.88 |  4.26 |  1.35 |  230 | 322 | -144 | -300 |  800 | 884 | 6 |\n",
       "\n"
      ],
      "text/plain": [
       "  ...1 user_name raw_timestamp_part_1 raw_timestamp_part_2 cvtd_timestamp  \n",
       "1 1    pedro     1323095002           868349               05/12/2011 14:23\n",
       "2 2    jeremy    1322673067           778725               30/11/2011 17:11\n",
       "3 3    jeremy    1322673075           342967               30/11/2011 17:11\n",
       "4 4    adelmo    1322832789           560311               02/12/2011 13:33\n",
       "5 5    eurico    1322489635           814776               28/11/2011 14:13\n",
       "6 6    jeremy    1322673149           510661               30/11/2011 17:12\n",
       "  new_window num_window roll_belt pitch_belt yaw_belt ⋯ gyros_forearm_x\n",
       "1 no          74        123.00     27.00      -4.75   ⋯  0.74          \n",
       "2 no         431          1.02      4.87     -88.90   ⋯  1.12          \n",
       "3 no         439          0.87      1.82     -88.50   ⋯  0.18          \n",
       "4 no         194        125.00    -41.60     162.00   ⋯  1.38          \n",
       "5 no         235          1.35      3.33     -88.60   ⋯ -0.75          \n",
       "6 no         504         -5.92      1.59     -87.70   ⋯ -0.88          \n",
       "  gyros_forearm_y gyros_forearm_z accel_forearm_x accel_forearm_y\n",
       "1 -3.34           -0.59           -110            267            \n",
       "2 -2.78           -0.18            212            297            \n",
       "3 -0.79            0.28            154            271            \n",
       "4  0.69            1.80            -92            406            \n",
       "5  3.10            0.80            131            -93            \n",
       "6  4.26            1.35            230            322            \n",
       "  accel_forearm_z magnet_forearm_x magnet_forearm_y magnet_forearm_z problem_id\n",
       "1 -149            -714              419             617              1         \n",
       "2 -118            -237              791             873              2         \n",
       "3 -129             -51              698             783              3         \n",
       "4  -39            -233              783             521              4         \n",
       "5  172             375             -787              91              5         \n",
       "6 -144            -300              800             884              6         "
      ]
     },
     "metadata": {},
     "output_type": "display_data"
    }
   ],
   "source": [
    "head(testing)"
   ]
  },
  {
   "cell_type": "code",
   "execution_count": 5,
   "id": "cbe92cc8-d8aa-434b-a414-12e08f35e83c",
   "metadata": {
    "tags": []
   },
   "outputs": [],
   "source": [
    "# Count the number of missing values in each row\n",
    "row_na_count <- lapply(training, FUN = function(x) length(which(is.na(x))))"
   ]
  },
  {
   "cell_type": "code",
   "execution_count": 6,
   "id": "500d02b6-7dde-45a7-9994-9d9aea9f3f61",
   "metadata": {
    "tags": []
   },
   "outputs": [
    {
     "data": {
      "text/html": [
       "<table class=\"dataframe\">\n",
       "<caption>A data.frame: 159 × 1</caption>\n",
       "<thead>\n",
       "\t<tr><th></th><th scope=col>number_of_ommisions</th></tr>\n",
       "\t<tr><th></th><th scope=col>&lt;int&gt;</th></tr>\n",
       "</thead>\n",
       "<tbody>\n",
       "\t<tr><th scope=row>user_name</th><td>    0</td></tr>\n",
       "\t<tr><th scope=row>raw_timestamp_part_1</th><td>    0</td></tr>\n",
       "\t<tr><th scope=row>raw_timestamp_part_2</th><td>    0</td></tr>\n",
       "\t<tr><th scope=row>cvtd_timestamp</th><td>    0</td></tr>\n",
       "\t<tr><th scope=row>new_window</th><td>    0</td></tr>\n",
       "\t<tr><th scope=row>num_window</th><td>    0</td></tr>\n",
       "\t<tr><th scope=row>roll_belt</th><td>    0</td></tr>\n",
       "\t<tr><th scope=row>pitch_belt</th><td>    0</td></tr>\n",
       "\t<tr><th scope=row>yaw_belt</th><td>    0</td></tr>\n",
       "\t<tr><th scope=row>total_accel_belt</th><td>    0</td></tr>\n",
       "\t<tr><th scope=row>kurtosis_roll_belt</th><td>19216</td></tr>\n",
       "\t<tr><th scope=row>kurtosis_picth_belt</th><td>19216</td></tr>\n",
       "\t<tr><th scope=row>kurtosis_yaw_belt</th><td>19216</td></tr>\n",
       "\t<tr><th scope=row>skewness_roll_belt</th><td>19225</td></tr>\n",
       "\t<tr><th scope=row>skewness_roll_belt.1</th><td>19216</td></tr>\n",
       "\t<tr><th scope=row>skewness_yaw_belt</th><td>19216</td></tr>\n",
       "\t<tr><th scope=row>max_roll_belt</th><td>19216</td></tr>\n",
       "\t<tr><th scope=row>max_picth_belt</th><td>19216</td></tr>\n",
       "\t<tr><th scope=row>max_yaw_belt</th><td>19216</td></tr>\n",
       "\t<tr><th scope=row>min_roll_belt</th><td>19216</td></tr>\n",
       "\t<tr><th scope=row>min_pitch_belt</th><td>19216</td></tr>\n",
       "\t<tr><th scope=row>min_yaw_belt</th><td>19216</td></tr>\n",
       "\t<tr><th scope=row>amplitude_roll_belt</th><td>19216</td></tr>\n",
       "\t<tr><th scope=row>amplitude_pitch_belt</th><td>19216</td></tr>\n",
       "\t<tr><th scope=row>amplitude_yaw_belt</th><td>19216</td></tr>\n",
       "\t<tr><th scope=row>var_total_accel_belt</th><td>19216</td></tr>\n",
       "\t<tr><th scope=row>avg_roll_belt</th><td>19216</td></tr>\n",
       "\t<tr><th scope=row>stddev_roll_belt</th><td>19216</td></tr>\n",
       "\t<tr><th scope=row>var_roll_belt</th><td>19216</td></tr>\n",
       "\t<tr><th scope=row>avg_pitch_belt</th><td>19216</td></tr>\n",
       "\t<tr><th scope=row>⋮</th><td>⋮</td></tr>\n",
       "\t<tr><th scope=row>max_roll_forearm</th><td>19216</td></tr>\n",
       "\t<tr><th scope=row>max_picth_forearm</th><td>19216</td></tr>\n",
       "\t<tr><th scope=row>max_yaw_forearm</th><td>19216</td></tr>\n",
       "\t<tr><th scope=row>min_roll_forearm</th><td>19216</td></tr>\n",
       "\t<tr><th scope=row>min_pitch_forearm</th><td>19216</td></tr>\n",
       "\t<tr><th scope=row>min_yaw_forearm</th><td>19216</td></tr>\n",
       "\t<tr><th scope=row>amplitude_roll_forearm</th><td>19216</td></tr>\n",
       "\t<tr><th scope=row>amplitude_pitch_forearm</th><td>19216</td></tr>\n",
       "\t<tr><th scope=row>amplitude_yaw_forearm</th><td>19216</td></tr>\n",
       "\t<tr><th scope=row>total_accel_forearm</th><td>    0</td></tr>\n",
       "\t<tr><th scope=row>var_accel_forearm</th><td>19216</td></tr>\n",
       "\t<tr><th scope=row>avg_roll_forearm</th><td>19216</td></tr>\n",
       "\t<tr><th scope=row>stddev_roll_forearm</th><td>19216</td></tr>\n",
       "\t<tr><th scope=row>var_roll_forearm</th><td>19216</td></tr>\n",
       "\t<tr><th scope=row>avg_pitch_forearm</th><td>19216</td></tr>\n",
       "\t<tr><th scope=row>stddev_pitch_forearm</th><td>19216</td></tr>\n",
       "\t<tr><th scope=row>var_pitch_forearm</th><td>19216</td></tr>\n",
       "\t<tr><th scope=row>avg_yaw_forearm</th><td>19216</td></tr>\n",
       "\t<tr><th scope=row>stddev_yaw_forearm</th><td>19216</td></tr>\n",
       "\t<tr><th scope=row>var_yaw_forearm</th><td>19216</td></tr>\n",
       "\t<tr><th scope=row>gyros_forearm_x</th><td>    0</td></tr>\n",
       "\t<tr><th scope=row>gyros_forearm_y</th><td>    0</td></tr>\n",
       "\t<tr><th scope=row>gyros_forearm_z</th><td>    0</td></tr>\n",
       "\t<tr><th scope=row>accel_forearm_x</th><td>    0</td></tr>\n",
       "\t<tr><th scope=row>accel_forearm_y</th><td>    0</td></tr>\n",
       "\t<tr><th scope=row>accel_forearm_z</th><td>    0</td></tr>\n",
       "\t<tr><th scope=row>magnet_forearm_x</th><td>    0</td></tr>\n",
       "\t<tr><th scope=row>magnet_forearm_y</th><td>    0</td></tr>\n",
       "\t<tr><th scope=row>magnet_forearm_z</th><td>    0</td></tr>\n",
       "\t<tr><th scope=row>classe</th><td>    0</td></tr>\n",
       "</tbody>\n",
       "</table>\n"
      ],
      "text/latex": [
       "A data.frame: 159 × 1\n",
       "\\begin{tabular}{r|l}\n",
       "  & number\\_of\\_ommisions\\\\\n",
       "  & <int>\\\\\n",
       "\\hline\n",
       "\tuser\\_name &     0\\\\\n",
       "\traw\\_timestamp\\_part\\_1 &     0\\\\\n",
       "\traw\\_timestamp\\_part\\_2 &     0\\\\\n",
       "\tcvtd\\_timestamp &     0\\\\\n",
       "\tnew\\_window &     0\\\\\n",
       "\tnum\\_window &     0\\\\\n",
       "\troll\\_belt &     0\\\\\n",
       "\tpitch\\_belt &     0\\\\\n",
       "\tyaw\\_belt &     0\\\\\n",
       "\ttotal\\_accel\\_belt &     0\\\\\n",
       "\tkurtosis\\_roll\\_belt & 19216\\\\\n",
       "\tkurtosis\\_picth\\_belt & 19216\\\\\n",
       "\tkurtosis\\_yaw\\_belt & 19216\\\\\n",
       "\tskewness\\_roll\\_belt & 19225\\\\\n",
       "\tskewness\\_roll\\_belt.1 & 19216\\\\\n",
       "\tskewness\\_yaw\\_belt & 19216\\\\\n",
       "\tmax\\_roll\\_belt & 19216\\\\\n",
       "\tmax\\_picth\\_belt & 19216\\\\\n",
       "\tmax\\_yaw\\_belt & 19216\\\\\n",
       "\tmin\\_roll\\_belt & 19216\\\\\n",
       "\tmin\\_pitch\\_belt & 19216\\\\\n",
       "\tmin\\_yaw\\_belt & 19216\\\\\n",
       "\tamplitude\\_roll\\_belt & 19216\\\\\n",
       "\tamplitude\\_pitch\\_belt & 19216\\\\\n",
       "\tamplitude\\_yaw\\_belt & 19216\\\\\n",
       "\tvar\\_total\\_accel\\_belt & 19216\\\\\n",
       "\tavg\\_roll\\_belt & 19216\\\\\n",
       "\tstddev\\_roll\\_belt & 19216\\\\\n",
       "\tvar\\_roll\\_belt & 19216\\\\\n",
       "\tavg\\_pitch\\_belt & 19216\\\\\n",
       "\t⋮ & ⋮\\\\\n",
       "\tmax\\_roll\\_forearm & 19216\\\\\n",
       "\tmax\\_picth\\_forearm & 19216\\\\\n",
       "\tmax\\_yaw\\_forearm & 19216\\\\\n",
       "\tmin\\_roll\\_forearm & 19216\\\\\n",
       "\tmin\\_pitch\\_forearm & 19216\\\\\n",
       "\tmin\\_yaw\\_forearm & 19216\\\\\n",
       "\tamplitude\\_roll\\_forearm & 19216\\\\\n",
       "\tamplitude\\_pitch\\_forearm & 19216\\\\\n",
       "\tamplitude\\_yaw\\_forearm & 19216\\\\\n",
       "\ttotal\\_accel\\_forearm &     0\\\\\n",
       "\tvar\\_accel\\_forearm & 19216\\\\\n",
       "\tavg\\_roll\\_forearm & 19216\\\\\n",
       "\tstddev\\_roll\\_forearm & 19216\\\\\n",
       "\tvar\\_roll\\_forearm & 19216\\\\\n",
       "\tavg\\_pitch\\_forearm & 19216\\\\\n",
       "\tstddev\\_pitch\\_forearm & 19216\\\\\n",
       "\tvar\\_pitch\\_forearm & 19216\\\\\n",
       "\tavg\\_yaw\\_forearm & 19216\\\\\n",
       "\tstddev\\_yaw\\_forearm & 19216\\\\\n",
       "\tvar\\_yaw\\_forearm & 19216\\\\\n",
       "\tgyros\\_forearm\\_x &     0\\\\\n",
       "\tgyros\\_forearm\\_y &     0\\\\\n",
       "\tgyros\\_forearm\\_z &     0\\\\\n",
       "\taccel\\_forearm\\_x &     0\\\\\n",
       "\taccel\\_forearm\\_y &     0\\\\\n",
       "\taccel\\_forearm\\_z &     0\\\\\n",
       "\tmagnet\\_forearm\\_x &     0\\\\\n",
       "\tmagnet\\_forearm\\_y &     0\\\\\n",
       "\tmagnet\\_forearm\\_z &     0\\\\\n",
       "\tclasse &     0\\\\\n",
       "\\end{tabular}\n"
      ],
      "text/markdown": [
       "\n",
       "A data.frame: 159 × 1\n",
       "\n",
       "| <!--/--> | number_of_ommisions &lt;int&gt; |\n",
       "|---|---|\n",
       "| user_name |     0 |\n",
       "| raw_timestamp_part_1 |     0 |\n",
       "| raw_timestamp_part_2 |     0 |\n",
       "| cvtd_timestamp |     0 |\n",
       "| new_window |     0 |\n",
       "| num_window |     0 |\n",
       "| roll_belt |     0 |\n",
       "| pitch_belt |     0 |\n",
       "| yaw_belt |     0 |\n",
       "| total_accel_belt |     0 |\n",
       "| kurtosis_roll_belt | 19216 |\n",
       "| kurtosis_picth_belt | 19216 |\n",
       "| kurtosis_yaw_belt | 19216 |\n",
       "| skewness_roll_belt | 19225 |\n",
       "| skewness_roll_belt.1 | 19216 |\n",
       "| skewness_yaw_belt | 19216 |\n",
       "| max_roll_belt | 19216 |\n",
       "| max_picth_belt | 19216 |\n",
       "| max_yaw_belt | 19216 |\n",
       "| min_roll_belt | 19216 |\n",
       "| min_pitch_belt | 19216 |\n",
       "| min_yaw_belt | 19216 |\n",
       "| amplitude_roll_belt | 19216 |\n",
       "| amplitude_pitch_belt | 19216 |\n",
       "| amplitude_yaw_belt | 19216 |\n",
       "| var_total_accel_belt | 19216 |\n",
       "| avg_roll_belt | 19216 |\n",
       "| stddev_roll_belt | 19216 |\n",
       "| var_roll_belt | 19216 |\n",
       "| avg_pitch_belt | 19216 |\n",
       "| ⋮ | ⋮ |\n",
       "| max_roll_forearm | 19216 |\n",
       "| max_picth_forearm | 19216 |\n",
       "| max_yaw_forearm | 19216 |\n",
       "| min_roll_forearm | 19216 |\n",
       "| min_pitch_forearm | 19216 |\n",
       "| min_yaw_forearm | 19216 |\n",
       "| amplitude_roll_forearm | 19216 |\n",
       "| amplitude_pitch_forearm | 19216 |\n",
       "| amplitude_yaw_forearm | 19216 |\n",
       "| total_accel_forearm |     0 |\n",
       "| var_accel_forearm | 19216 |\n",
       "| avg_roll_forearm | 19216 |\n",
       "| stddev_roll_forearm | 19216 |\n",
       "| var_roll_forearm | 19216 |\n",
       "| avg_pitch_forearm | 19216 |\n",
       "| stddev_pitch_forearm | 19216 |\n",
       "| var_pitch_forearm | 19216 |\n",
       "| avg_yaw_forearm | 19216 |\n",
       "| stddev_yaw_forearm | 19216 |\n",
       "| var_yaw_forearm | 19216 |\n",
       "| gyros_forearm_x |     0 |\n",
       "| gyros_forearm_y |     0 |\n",
       "| gyros_forearm_z |     0 |\n",
       "| accel_forearm_x |     0 |\n",
       "| accel_forearm_y |     0 |\n",
       "| accel_forearm_z |     0 |\n",
       "| magnet_forearm_x |     0 |\n",
       "| magnet_forearm_y |     0 |\n",
       "| magnet_forearm_z |     0 |\n",
       "| classe |     0 |\n",
       "\n"
      ],
      "text/plain": [
       "                        number_of_ommisions\n",
       "user_name                   0              \n",
       "raw_timestamp_part_1        0              \n",
       "raw_timestamp_part_2        0              \n",
       "cvtd_timestamp              0              \n",
       "new_window                  0              \n",
       "num_window                  0              \n",
       "roll_belt                   0              \n",
       "pitch_belt                  0              \n",
       "yaw_belt                    0              \n",
       "total_accel_belt            0              \n",
       "kurtosis_roll_belt      19216              \n",
       "kurtosis_picth_belt     19216              \n",
       "kurtosis_yaw_belt       19216              \n",
       "skewness_roll_belt      19225              \n",
       "skewness_roll_belt.1    19216              \n",
       "skewness_yaw_belt       19216              \n",
       "max_roll_belt           19216              \n",
       "max_picth_belt          19216              \n",
       "max_yaw_belt            19216              \n",
       "min_roll_belt           19216              \n",
       "min_pitch_belt          19216              \n",
       "min_yaw_belt            19216              \n",
       "amplitude_roll_belt     19216              \n",
       "amplitude_pitch_belt    19216              \n",
       "amplitude_yaw_belt      19216              \n",
       "var_total_accel_belt    19216              \n",
       "avg_roll_belt           19216              \n",
       "stddev_roll_belt        19216              \n",
       "var_roll_belt           19216              \n",
       "avg_pitch_belt          19216              \n",
       "⋮                       ⋮                  \n",
       "max_roll_forearm        19216              \n",
       "max_picth_forearm       19216              \n",
       "max_yaw_forearm         19216              \n",
       "min_roll_forearm        19216              \n",
       "min_pitch_forearm       19216              \n",
       "min_yaw_forearm         19216              \n",
       "amplitude_roll_forearm  19216              \n",
       "amplitude_pitch_forearm 19216              \n",
       "amplitude_yaw_forearm   19216              \n",
       "total_accel_forearm         0              \n",
       "var_accel_forearm       19216              \n",
       "avg_roll_forearm        19216              \n",
       "stddev_roll_forearm     19216              \n",
       "var_roll_forearm        19216              \n",
       "avg_pitch_forearm       19216              \n",
       "stddev_pitch_forearm    19216              \n",
       "var_pitch_forearm       19216              \n",
       "avg_yaw_forearm         19216              \n",
       "stddev_yaw_forearm      19216              \n",
       "var_yaw_forearm         19216              \n",
       "gyros_forearm_x             0              \n",
       "gyros_forearm_y             0              \n",
       "gyros_forearm_z             0              \n",
       "accel_forearm_x             0              \n",
       "accel_forearm_y             0              \n",
       "accel_forearm_z             0              \n",
       "magnet_forearm_x            0              \n",
       "magnet_forearm_y            0              \n",
       "magnet_forearm_z            0              \n",
       "classe                      0              "
      ]
     },
     "metadata": {},
     "output_type": "display_data"
    }
   ],
   "source": [
    "data.frame(number_of_ommisions=t(data.frame(row_na_count)[-1]))"
   ]
  },
  {
   "cell_type": "code",
   "execution_count": 7,
   "id": "45b84d8f-dc56-459f-a3a3-75c08abe1d7a",
   "metadata": {
    "tags": []
   },
   "outputs": [],
   "source": [
    "training$classe <- as.factor(training$classe)"
   ]
  },
  {
   "cell_type": "code",
   "execution_count": 8,
   "id": "ca18c100-df62-4c0b-a7d0-b7d3cc03c604",
   "metadata": {
    "tags": []
   },
   "outputs": [
    {
     "name": "stdout",
     "output_type": "stream",
     "text": [
      " Factor w/ 5 levels \"A\",\"B\",\"C\",\"D\",..: 1 1 1 1 1 1 1 1 1 1 ...\n"
     ]
    }
   ],
   "source": [
    "str(training$classe)"
   ]
  },
  {
   "cell_type": "code",
   "execution_count": 9,
   "id": "47f28b25-1e2e-41d3-be96-2cf6464f201e",
   "metadata": {
    "tags": []
   },
   "outputs": [
    {
     "data": {
      "text/html": [
       "'classe'"
      ],
      "text/latex": [
       "'classe'"
      ],
      "text/markdown": [
       "'classe'"
      ],
      "text/plain": [
       "[1] \"classe\""
      ]
     },
     "metadata": {},
     "output_type": "display_data"
    }
   ],
   "source": [
    "names(training)[names(testing) != names(training)]"
   ]
  },
  {
   "cell_type": "code",
   "execution_count": 10,
   "id": "c5915ba1-c44d-41cb-bf0b-df2d1f686942",
   "metadata": {
    "tags": []
   },
   "outputs": [
    {
     "data": {
      "text/html": [
       "'problem_id'"
      ],
      "text/latex": [
       "'problem\\_id'"
      ],
      "text/markdown": [
       "'problem_id'"
      ],
      "text/plain": [
       "[1] \"problem_id\""
      ]
     },
     "metadata": {},
     "output_type": "display_data"
    }
   ],
   "source": [
    "names(testing)[names(testing) != names(training)]"
   ]
  },
  {
   "cell_type": "markdown",
   "id": "4c241951-e5cc-4cac-a381-a3334e0b0206",
   "metadata": {},
   "source": [
    "For feature extraction we only use the variables which are related to the raw measurements from the sensors located on the belt, forearm, arm, and dumbell for the physical movement during the exercise. The sensor data can be represented in variables related to the Euler angles (roll, pitch, and yaw) and accelerometer, gyroscope, and magnetometer readings for each of the 4 sensor locations. These variables appear with the following name patterns in the dataset."
   ]
  },
  {
   "cell_type": "markdown",
   "id": "a4ff4505-4e06-43c8-b087-85587742ba59",
   "metadata": {},
   "source": [
    "## Predictors Data Set"
   ]
  },
  {
   "cell_type": "code",
   "execution_count": 11,
   "id": "a9df4b97-0415-4ec0-bd25-210ecf096124",
   "metadata": {
    "tags": []
   },
   "outputs": [],
   "source": [
    "predictorIdx <- c(grep(\"^accel\", names(training)), \n",
    "                  grep(\"^gyros\", names(training)), \n",
    "                  grep(\"^magnet\", names(training)), \n",
    "                  grep(\"^roll\", names(training)), \n",
    "                  grep(\"^pitch\", names(training)), \n",
    "                  grep(\"^yaw\", names(training)), \n",
    "                  grep(\"^total\", names(training)))\n",
    "trainPredSet <- training[, c(predictorIdx, 160)]\n",
    "testPredSet <- testing[, c(predictorIdx, 160)]"
   ]
  },
  {
   "cell_type": "code",
   "execution_count": 12,
   "id": "0d86755d-863e-4ade-b6d7-1ac8cfb5fb05",
   "metadata": {
    "tags": []
   },
   "outputs": [
    {
     "data": {
      "text/html": [
       "<style>\n",
       ".list-inline {list-style: none; margin:0; padding: 0}\n",
       ".list-inline>li {display: inline-block}\n",
       ".list-inline>li:not(:last-child)::after {content: \"\\00b7\"; padding: 0 .5ex}\n",
       "</style>\n",
       "<ol class=list-inline><li>'accel_belt_x'</li><li>'accel_belt_y'</li><li>'accel_belt_z'</li><li>'accel_arm_x'</li><li>'accel_arm_y'</li><li>'accel_arm_z'</li><li>'accel_dumbbell_x'</li><li>'accel_dumbbell_y'</li><li>'accel_dumbbell_z'</li><li>'accel_forearm_x'</li><li>'accel_forearm_y'</li><li>'accel_forearm_z'</li><li>'gyros_belt_x'</li><li>'gyros_belt_y'</li><li>'gyros_belt_z'</li><li>'gyros_arm_x'</li><li>'gyros_arm_y'</li><li>'gyros_arm_z'</li><li>'gyros_dumbbell_x'</li><li>'gyros_dumbbell_y'</li><li>'gyros_dumbbell_z'</li><li>'gyros_forearm_x'</li><li>'gyros_forearm_y'</li><li>'gyros_forearm_z'</li><li>'magnet_belt_x'</li><li>'magnet_belt_y'</li><li>'magnet_belt_z'</li><li>'magnet_arm_x'</li><li>'magnet_arm_y'</li><li>'magnet_arm_z'</li><li>'magnet_dumbbell_x'</li><li>'magnet_dumbbell_y'</li><li>'magnet_dumbbell_z'</li><li>'magnet_forearm_x'</li><li>'magnet_forearm_y'</li><li>'magnet_forearm_z'</li><li>'roll_belt'</li><li>'roll_arm'</li><li>'roll_dumbbell'</li><li>'roll_forearm'</li><li>'pitch_belt'</li><li>'pitch_arm'</li><li>'pitch_dumbbell'</li><li>'pitch_forearm'</li><li>'yaw_belt'</li><li>'yaw_arm'</li><li>'yaw_dumbbell'</li><li>'yaw_forearm'</li><li>'total_accel_belt'</li><li>'total_accel_arm'</li><li>'total_accel_dumbbell'</li><li>'total_accel_forearm'</li><li>'problem_id'</li></ol>\n"
      ],
      "text/latex": [
       "\\begin{enumerate*}\n",
       "\\item 'accel\\_belt\\_x'\n",
       "\\item 'accel\\_belt\\_y'\n",
       "\\item 'accel\\_belt\\_z'\n",
       "\\item 'accel\\_arm\\_x'\n",
       "\\item 'accel\\_arm\\_y'\n",
       "\\item 'accel\\_arm\\_z'\n",
       "\\item 'accel\\_dumbbell\\_x'\n",
       "\\item 'accel\\_dumbbell\\_y'\n",
       "\\item 'accel\\_dumbbell\\_z'\n",
       "\\item 'accel\\_forearm\\_x'\n",
       "\\item 'accel\\_forearm\\_y'\n",
       "\\item 'accel\\_forearm\\_z'\n",
       "\\item 'gyros\\_belt\\_x'\n",
       "\\item 'gyros\\_belt\\_y'\n",
       "\\item 'gyros\\_belt\\_z'\n",
       "\\item 'gyros\\_arm\\_x'\n",
       "\\item 'gyros\\_arm\\_y'\n",
       "\\item 'gyros\\_arm\\_z'\n",
       "\\item 'gyros\\_dumbbell\\_x'\n",
       "\\item 'gyros\\_dumbbell\\_y'\n",
       "\\item 'gyros\\_dumbbell\\_z'\n",
       "\\item 'gyros\\_forearm\\_x'\n",
       "\\item 'gyros\\_forearm\\_y'\n",
       "\\item 'gyros\\_forearm\\_z'\n",
       "\\item 'magnet\\_belt\\_x'\n",
       "\\item 'magnet\\_belt\\_y'\n",
       "\\item 'magnet\\_belt\\_z'\n",
       "\\item 'magnet\\_arm\\_x'\n",
       "\\item 'magnet\\_arm\\_y'\n",
       "\\item 'magnet\\_arm\\_z'\n",
       "\\item 'magnet\\_dumbbell\\_x'\n",
       "\\item 'magnet\\_dumbbell\\_y'\n",
       "\\item 'magnet\\_dumbbell\\_z'\n",
       "\\item 'magnet\\_forearm\\_x'\n",
       "\\item 'magnet\\_forearm\\_y'\n",
       "\\item 'magnet\\_forearm\\_z'\n",
       "\\item 'roll\\_belt'\n",
       "\\item 'roll\\_arm'\n",
       "\\item 'roll\\_dumbbell'\n",
       "\\item 'roll\\_forearm'\n",
       "\\item 'pitch\\_belt'\n",
       "\\item 'pitch\\_arm'\n",
       "\\item 'pitch\\_dumbbell'\n",
       "\\item 'pitch\\_forearm'\n",
       "\\item 'yaw\\_belt'\n",
       "\\item 'yaw\\_arm'\n",
       "\\item 'yaw\\_dumbbell'\n",
       "\\item 'yaw\\_forearm'\n",
       "\\item 'total\\_accel\\_belt'\n",
       "\\item 'total\\_accel\\_arm'\n",
       "\\item 'total\\_accel\\_dumbbell'\n",
       "\\item 'total\\_accel\\_forearm'\n",
       "\\item 'problem\\_id'\n",
       "\\end{enumerate*}\n"
      ],
      "text/markdown": [
       "1. 'accel_belt_x'\n",
       "2. 'accel_belt_y'\n",
       "3. 'accel_belt_z'\n",
       "4. 'accel_arm_x'\n",
       "5. 'accel_arm_y'\n",
       "6. 'accel_arm_z'\n",
       "7. 'accel_dumbbell_x'\n",
       "8. 'accel_dumbbell_y'\n",
       "9. 'accel_dumbbell_z'\n",
       "10. 'accel_forearm_x'\n",
       "11. 'accel_forearm_y'\n",
       "12. 'accel_forearm_z'\n",
       "13. 'gyros_belt_x'\n",
       "14. 'gyros_belt_y'\n",
       "15. 'gyros_belt_z'\n",
       "16. 'gyros_arm_x'\n",
       "17. 'gyros_arm_y'\n",
       "18. 'gyros_arm_z'\n",
       "19. 'gyros_dumbbell_x'\n",
       "20. 'gyros_dumbbell_y'\n",
       "21. 'gyros_dumbbell_z'\n",
       "22. 'gyros_forearm_x'\n",
       "23. 'gyros_forearm_y'\n",
       "24. 'gyros_forearm_z'\n",
       "25. 'magnet_belt_x'\n",
       "26. 'magnet_belt_y'\n",
       "27. 'magnet_belt_z'\n",
       "28. 'magnet_arm_x'\n",
       "29. 'magnet_arm_y'\n",
       "30. 'magnet_arm_z'\n",
       "31. 'magnet_dumbbell_x'\n",
       "32. 'magnet_dumbbell_y'\n",
       "33. 'magnet_dumbbell_z'\n",
       "34. 'magnet_forearm_x'\n",
       "35. 'magnet_forearm_y'\n",
       "36. 'magnet_forearm_z'\n",
       "37. 'roll_belt'\n",
       "38. 'roll_arm'\n",
       "39. 'roll_dumbbell'\n",
       "40. 'roll_forearm'\n",
       "41. 'pitch_belt'\n",
       "42. 'pitch_arm'\n",
       "43. 'pitch_dumbbell'\n",
       "44. 'pitch_forearm'\n",
       "45. 'yaw_belt'\n",
       "46. 'yaw_arm'\n",
       "47. 'yaw_dumbbell'\n",
       "48. 'yaw_forearm'\n",
       "49. 'total_accel_belt'\n",
       "50. 'total_accel_arm'\n",
       "51. 'total_accel_dumbbell'\n",
       "52. 'total_accel_forearm'\n",
       "53. 'problem_id'\n",
       "\n",
       "\n"
      ],
      "text/plain": [
       " [1] \"accel_belt_x\"         \"accel_belt_y\"         \"accel_belt_z\"        \n",
       " [4] \"accel_arm_x\"          \"accel_arm_y\"          \"accel_arm_z\"         \n",
       " [7] \"accel_dumbbell_x\"     \"accel_dumbbell_y\"     \"accel_dumbbell_z\"    \n",
       "[10] \"accel_forearm_x\"      \"accel_forearm_y\"      \"accel_forearm_z\"     \n",
       "[13] \"gyros_belt_x\"         \"gyros_belt_y\"         \"gyros_belt_z\"        \n",
       "[16] \"gyros_arm_x\"          \"gyros_arm_y\"          \"gyros_arm_z\"         \n",
       "[19] \"gyros_dumbbell_x\"     \"gyros_dumbbell_y\"     \"gyros_dumbbell_z\"    \n",
       "[22] \"gyros_forearm_x\"      \"gyros_forearm_y\"      \"gyros_forearm_z\"     \n",
       "[25] \"magnet_belt_x\"        \"magnet_belt_y\"        \"magnet_belt_z\"       \n",
       "[28] \"magnet_arm_x\"         \"magnet_arm_y\"         \"magnet_arm_z\"        \n",
       "[31] \"magnet_dumbbell_x\"    \"magnet_dumbbell_y\"    \"magnet_dumbbell_z\"   \n",
       "[34] \"magnet_forearm_x\"     \"magnet_forearm_y\"     \"magnet_forearm_z\"    \n",
       "[37] \"roll_belt\"            \"roll_arm\"             \"roll_dumbbell\"       \n",
       "[40] \"roll_forearm\"         \"pitch_belt\"           \"pitch_arm\"           \n",
       "[43] \"pitch_dumbbell\"       \"pitch_forearm\"        \"yaw_belt\"            \n",
       "[46] \"yaw_arm\"              \"yaw_dumbbell\"         \"yaw_forearm\"         \n",
       "[49] \"total_accel_belt\"     \"total_accel_arm\"      \"total_accel_dumbbell\"\n",
       "[52] \"total_accel_forearm\"  \"problem_id\"          "
      ]
     },
     "metadata": {},
     "output_type": "display_data"
    }
   ],
   "source": [
    "names(testPredSet)"
   ]
  },
  {
   "cell_type": "code",
   "execution_count": 13,
   "id": "895ab814-e9e8-4fc4-85af-16e8f73ae311",
   "metadata": {
    "tags": []
   },
   "outputs": [
    {
     "data": {
      "text/html": [
       "<table class=\"dataframe\">\n",
       "<caption>A tibble: 6 × 53</caption>\n",
       "<thead>\n",
       "\t<tr><th scope=col>accel_belt_x</th><th scope=col>accel_belt_y</th><th scope=col>accel_belt_z</th><th scope=col>accel_arm_x</th><th scope=col>accel_arm_y</th><th scope=col>accel_arm_z</th><th scope=col>accel_dumbbell_x</th><th scope=col>accel_dumbbell_y</th><th scope=col>accel_dumbbell_z</th><th scope=col>accel_forearm_x</th><th scope=col>⋯</th><th scope=col>pitch_forearm</th><th scope=col>yaw_belt</th><th scope=col>yaw_arm</th><th scope=col>yaw_dumbbell</th><th scope=col>yaw_forearm</th><th scope=col>total_accel_belt</th><th scope=col>total_accel_arm</th><th scope=col>total_accel_dumbbell</th><th scope=col>total_accel_forearm</th><th scope=col>classe</th></tr>\n",
       "\t<tr><th scope=col>&lt;dbl&gt;</th><th scope=col>&lt;dbl&gt;</th><th scope=col>&lt;dbl&gt;</th><th scope=col>&lt;dbl&gt;</th><th scope=col>&lt;dbl&gt;</th><th scope=col>&lt;dbl&gt;</th><th scope=col>&lt;dbl&gt;</th><th scope=col>&lt;dbl&gt;</th><th scope=col>&lt;dbl&gt;</th><th scope=col>&lt;dbl&gt;</th><th scope=col>⋯</th><th scope=col>&lt;dbl&gt;</th><th scope=col>&lt;dbl&gt;</th><th scope=col>&lt;dbl&gt;</th><th scope=col>&lt;dbl&gt;</th><th scope=col>&lt;dbl&gt;</th><th scope=col>&lt;dbl&gt;</th><th scope=col>&lt;dbl&gt;</th><th scope=col>&lt;dbl&gt;</th><th scope=col>&lt;dbl&gt;</th><th scope=col>&lt;fct&gt;</th></tr>\n",
       "</thead>\n",
       "<tbody>\n",
       "\t<tr><td>-21</td><td>4</td><td>22</td><td>-288</td><td>109</td><td>-123</td><td>-234</td><td>47</td><td>-271</td><td>192</td><td>⋯</td><td>-63.9</td><td>-94.4</td><td>-161</td><td>-84.87394</td><td>-153</td><td>3</td><td>34</td><td>37</td><td>36</td><td>A</td></tr>\n",
       "\t<tr><td>-22</td><td>4</td><td>22</td><td>-290</td><td>110</td><td>-125</td><td>-233</td><td>47</td><td>-269</td><td>192</td><td>⋯</td><td>-63.9</td><td>-94.4</td><td>-161</td><td>-84.71065</td><td>-153</td><td>3</td><td>34</td><td>37</td><td>36</td><td>A</td></tr>\n",
       "\t<tr><td>-20</td><td>5</td><td>23</td><td>-289</td><td>110</td><td>-126</td><td>-232</td><td>46</td><td>-270</td><td>196</td><td>⋯</td><td>-63.9</td><td>-94.4</td><td>-161</td><td>-85.14078</td><td>-152</td><td>3</td><td>34</td><td>37</td><td>36</td><td>A</td></tr>\n",
       "\t<tr><td>-22</td><td>3</td><td>21</td><td>-289</td><td>111</td><td>-123</td><td>-232</td><td>48</td><td>-269</td><td>189</td><td>⋯</td><td>-63.9</td><td>-94.4</td><td>-161</td><td>-84.87363</td><td>-152</td><td>3</td><td>34</td><td>37</td><td>36</td><td>A</td></tr>\n",
       "\t<tr><td>-21</td><td>2</td><td>24</td><td>-289</td><td>111</td><td>-123</td><td>-233</td><td>48</td><td>-270</td><td>189</td><td>⋯</td><td>-63.9</td><td>-94.4</td><td>-161</td><td>-84.85306</td><td>-152</td><td>3</td><td>34</td><td>37</td><td>36</td><td>A</td></tr>\n",
       "\t<tr><td>-21</td><td>4</td><td>21</td><td>-289</td><td>111</td><td>-122</td><td>-234</td><td>48</td><td>-269</td><td>193</td><td>⋯</td><td>-63.9</td><td>-94.4</td><td>-161</td><td>-84.46500</td><td>-152</td><td>3</td><td>34</td><td>37</td><td>36</td><td>A</td></tr>\n",
       "</tbody>\n",
       "</table>\n"
      ],
      "text/latex": [
       "A tibble: 6 × 53\n",
       "\\begin{tabular}{lllllllllllllllllllll}\n",
       " accel\\_belt\\_x & accel\\_belt\\_y & accel\\_belt\\_z & accel\\_arm\\_x & accel\\_arm\\_y & accel\\_arm\\_z & accel\\_dumbbell\\_x & accel\\_dumbbell\\_y & accel\\_dumbbell\\_z & accel\\_forearm\\_x & ⋯ & pitch\\_forearm & yaw\\_belt & yaw\\_arm & yaw\\_dumbbell & yaw\\_forearm & total\\_accel\\_belt & total\\_accel\\_arm & total\\_accel\\_dumbbell & total\\_accel\\_forearm & classe\\\\\n",
       " <dbl> & <dbl> & <dbl> & <dbl> & <dbl> & <dbl> & <dbl> & <dbl> & <dbl> & <dbl> & ⋯ & <dbl> & <dbl> & <dbl> & <dbl> & <dbl> & <dbl> & <dbl> & <dbl> & <dbl> & <fct>\\\\\n",
       "\\hline\n",
       "\t -21 & 4 & 22 & -288 & 109 & -123 & -234 & 47 & -271 & 192 & ⋯ & -63.9 & -94.4 & -161 & -84.87394 & -153 & 3 & 34 & 37 & 36 & A\\\\\n",
       "\t -22 & 4 & 22 & -290 & 110 & -125 & -233 & 47 & -269 & 192 & ⋯ & -63.9 & -94.4 & -161 & -84.71065 & -153 & 3 & 34 & 37 & 36 & A\\\\\n",
       "\t -20 & 5 & 23 & -289 & 110 & -126 & -232 & 46 & -270 & 196 & ⋯ & -63.9 & -94.4 & -161 & -85.14078 & -152 & 3 & 34 & 37 & 36 & A\\\\\n",
       "\t -22 & 3 & 21 & -289 & 111 & -123 & -232 & 48 & -269 & 189 & ⋯ & -63.9 & -94.4 & -161 & -84.87363 & -152 & 3 & 34 & 37 & 36 & A\\\\\n",
       "\t -21 & 2 & 24 & -289 & 111 & -123 & -233 & 48 & -270 & 189 & ⋯ & -63.9 & -94.4 & -161 & -84.85306 & -152 & 3 & 34 & 37 & 36 & A\\\\\n",
       "\t -21 & 4 & 21 & -289 & 111 & -122 & -234 & 48 & -269 & 193 & ⋯ & -63.9 & -94.4 & -161 & -84.46500 & -152 & 3 & 34 & 37 & 36 & A\\\\\n",
       "\\end{tabular}\n"
      ],
      "text/markdown": [
       "\n",
       "A tibble: 6 × 53\n",
       "\n",
       "| accel_belt_x &lt;dbl&gt; | accel_belt_y &lt;dbl&gt; | accel_belt_z &lt;dbl&gt; | accel_arm_x &lt;dbl&gt; | accel_arm_y &lt;dbl&gt; | accel_arm_z &lt;dbl&gt; | accel_dumbbell_x &lt;dbl&gt; | accel_dumbbell_y &lt;dbl&gt; | accel_dumbbell_z &lt;dbl&gt; | accel_forearm_x &lt;dbl&gt; | ⋯ ⋯ | pitch_forearm &lt;dbl&gt; | yaw_belt &lt;dbl&gt; | yaw_arm &lt;dbl&gt; | yaw_dumbbell &lt;dbl&gt; | yaw_forearm &lt;dbl&gt; | total_accel_belt &lt;dbl&gt; | total_accel_arm &lt;dbl&gt; | total_accel_dumbbell &lt;dbl&gt; | total_accel_forearm &lt;dbl&gt; | classe &lt;fct&gt; |\n",
       "|---|---|---|---|---|---|---|---|---|---|---|---|---|---|---|---|---|---|---|---|---|\n",
       "| -21 | 4 | 22 | -288 | 109 | -123 | -234 | 47 | -271 | 192 | ⋯ | -63.9 | -94.4 | -161 | -84.87394 | -153 | 3 | 34 | 37 | 36 | A |\n",
       "| -22 | 4 | 22 | -290 | 110 | -125 | -233 | 47 | -269 | 192 | ⋯ | -63.9 | -94.4 | -161 | -84.71065 | -153 | 3 | 34 | 37 | 36 | A |\n",
       "| -20 | 5 | 23 | -289 | 110 | -126 | -232 | 46 | -270 | 196 | ⋯ | -63.9 | -94.4 | -161 | -85.14078 | -152 | 3 | 34 | 37 | 36 | A |\n",
       "| -22 | 3 | 21 | -289 | 111 | -123 | -232 | 48 | -269 | 189 | ⋯ | -63.9 | -94.4 | -161 | -84.87363 | -152 | 3 | 34 | 37 | 36 | A |\n",
       "| -21 | 2 | 24 | -289 | 111 | -123 | -233 | 48 | -270 | 189 | ⋯ | -63.9 | -94.4 | -161 | -84.85306 | -152 | 3 | 34 | 37 | 36 | A |\n",
       "| -21 | 4 | 21 | -289 | 111 | -122 | -234 | 48 | -269 | 193 | ⋯ | -63.9 | -94.4 | -161 | -84.46500 | -152 | 3 | 34 | 37 | 36 | A |\n",
       "\n"
      ],
      "text/plain": [
       "  accel_belt_x accel_belt_y accel_belt_z accel_arm_x accel_arm_y accel_arm_z\n",
       "1 -21          4            22           -288        109         -123       \n",
       "2 -22          4            22           -290        110         -125       \n",
       "3 -20          5            23           -289        110         -126       \n",
       "4 -22          3            21           -289        111         -123       \n",
       "5 -21          2            24           -289        111         -123       \n",
       "6 -21          4            21           -289        111         -122       \n",
       "  accel_dumbbell_x accel_dumbbell_y accel_dumbbell_z accel_forearm_x ⋯\n",
       "1 -234             47               -271             192             ⋯\n",
       "2 -233             47               -269             192             ⋯\n",
       "3 -232             46               -270             196             ⋯\n",
       "4 -232             48               -269             189             ⋯\n",
       "5 -233             48               -270             189             ⋯\n",
       "6 -234             48               -269             193             ⋯\n",
       "  pitch_forearm yaw_belt yaw_arm yaw_dumbbell yaw_forearm total_accel_belt\n",
       "1 -63.9         -94.4    -161    -84.87394    -153        3               \n",
       "2 -63.9         -94.4    -161    -84.71065    -153        3               \n",
       "3 -63.9         -94.4    -161    -85.14078    -152        3               \n",
       "4 -63.9         -94.4    -161    -84.87363    -152        3               \n",
       "5 -63.9         -94.4    -161    -84.85306    -152        3               \n",
       "6 -63.9         -94.4    -161    -84.46500    -152        3               \n",
       "  total_accel_arm total_accel_dumbbell total_accel_forearm classe\n",
       "1 34              37                   36                  A     \n",
       "2 34              37                   36                  A     \n",
       "3 34              37                   36                  A     \n",
       "4 34              37                   36                  A     \n",
       "5 34              37                   36                  A     \n",
       "6 34              37                   36                  A     "
      ]
     },
     "metadata": {},
     "output_type": "display_data"
    },
    {
     "data": {
      "text/html": [
       "<table class=\"dataframe\">\n",
       "<caption>A tibble: 6 × 53</caption>\n",
       "<thead>\n",
       "\t<tr><th scope=col>accel_belt_x</th><th scope=col>accel_belt_y</th><th scope=col>accel_belt_z</th><th scope=col>accel_arm_x</th><th scope=col>accel_arm_y</th><th scope=col>accel_arm_z</th><th scope=col>accel_dumbbell_x</th><th scope=col>accel_dumbbell_y</th><th scope=col>accel_dumbbell_z</th><th scope=col>accel_forearm_x</th><th scope=col>⋯</th><th scope=col>pitch_forearm</th><th scope=col>yaw_belt</th><th scope=col>yaw_arm</th><th scope=col>yaw_dumbbell</th><th scope=col>yaw_forearm</th><th scope=col>total_accel_belt</th><th scope=col>total_accel_arm</th><th scope=col>total_accel_dumbbell</th><th scope=col>total_accel_forearm</th><th scope=col>problem_id</th></tr>\n",
       "\t<tr><th scope=col>&lt;dbl&gt;</th><th scope=col>&lt;dbl&gt;</th><th scope=col>&lt;dbl&gt;</th><th scope=col>&lt;dbl&gt;</th><th scope=col>&lt;dbl&gt;</th><th scope=col>&lt;dbl&gt;</th><th scope=col>&lt;dbl&gt;</th><th scope=col>&lt;dbl&gt;</th><th scope=col>&lt;dbl&gt;</th><th scope=col>&lt;dbl&gt;</th><th scope=col>⋯</th><th scope=col>&lt;dbl&gt;</th><th scope=col>&lt;dbl&gt;</th><th scope=col>&lt;dbl&gt;</th><th scope=col>&lt;dbl&gt;</th><th scope=col>&lt;dbl&gt;</th><th scope=col>&lt;dbl&gt;</th><th scope=col>&lt;dbl&gt;</th><th scope=col>&lt;dbl&gt;</th><th scope=col>&lt;dbl&gt;</th><th scope=col>&lt;dbl&gt;</th></tr>\n",
       "</thead>\n",
       "<tbody>\n",
       "\t<tr><td>-38</td><td> 69</td><td>-179</td><td>  16</td><td> 38</td><td> 93</td><td>  21</td><td>-15</td><td>  81</td><td>-110</td><td>⋯</td><td> 49.30</td><td> -4.75</td><td> 178</td><td> 126.23596</td><td>156.0</td><td>20</td><td>10</td><td> 9</td><td>33</td><td>1</td></tr>\n",
       "\t<tr><td>-13</td><td> 11</td><td>  39</td><td>-290</td><td>215</td><td>-90</td><td>-153</td><td>155</td><td>-205</td><td> 212</td><td>⋯</td><td>-17.60</td><td>-88.90</td><td>   0</td><td> -75.51480</td><td>106.0</td><td> 4</td><td>38</td><td>31</td><td>39</td><td>2</td></tr>\n",
       "\t<tr><td>  1</td><td> -1</td><td>  49</td><td>-341</td><td>245</td><td>-87</td><td>-141</td><td>155</td><td>-196</td><td> 154</td><td>⋯</td><td>-32.60</td><td>-88.50</td><td>   0</td><td> -75.20287</td><td> 93.0</td><td> 5</td><td>44</td><td>29</td><td>34</td><td>3</td></tr>\n",
       "\t<tr><td> 46</td><td> 45</td><td>-156</td><td>-238</td><td>-57</td><td>  6</td><td> -51</td><td> 72</td><td>-148</td><td> -92</td><td>⋯</td><td>  0.00</td><td>162.00</td><td>-142</td><td>-103.32003</td><td>  0.0</td><td>17</td><td>25</td><td>18</td><td>43</td><td>4</td></tr>\n",
       "\t<tr><td> -8</td><td>  4</td><td>  27</td><td>-197</td><td>200</td><td>-30</td><td> -18</td><td>-30</td><td>  -5</td><td> 131</td><td>⋯</td><td> -2.16</td><td>-88.60</td><td> 102</td><td> -14.19542</td><td>-47.9</td><td> 3</td><td>29</td><td> 4</td><td>24</td><td>5</td></tr>\n",
       "\t<tr><td>-11</td><td>-16</td><td>  38</td><td> -26</td><td>130</td><td>-19</td><td>-138</td><td>166</td><td>-186</td><td> 230</td><td>⋯</td><td>  1.46</td><td>-87.70</td><td>   0</td><td> -71.12063</td><td> 89.7</td><td> 4</td><td>14</td><td>29</td><td>43</td><td>6</td></tr>\n",
       "</tbody>\n",
       "</table>\n"
      ],
      "text/latex": [
       "A tibble: 6 × 53\n",
       "\\begin{tabular}{lllllllllllllllllllll}\n",
       " accel\\_belt\\_x & accel\\_belt\\_y & accel\\_belt\\_z & accel\\_arm\\_x & accel\\_arm\\_y & accel\\_arm\\_z & accel\\_dumbbell\\_x & accel\\_dumbbell\\_y & accel\\_dumbbell\\_z & accel\\_forearm\\_x & ⋯ & pitch\\_forearm & yaw\\_belt & yaw\\_arm & yaw\\_dumbbell & yaw\\_forearm & total\\_accel\\_belt & total\\_accel\\_arm & total\\_accel\\_dumbbell & total\\_accel\\_forearm & problem\\_id\\\\\n",
       " <dbl> & <dbl> & <dbl> & <dbl> & <dbl> & <dbl> & <dbl> & <dbl> & <dbl> & <dbl> & ⋯ & <dbl> & <dbl> & <dbl> & <dbl> & <dbl> & <dbl> & <dbl> & <dbl> & <dbl> & <dbl>\\\\\n",
       "\\hline\n",
       "\t -38 &  69 & -179 &   16 &  38 &  93 &   21 & -15 &   81 & -110 & ⋯ &  49.30 &  -4.75 &  178 &  126.23596 & 156.0 & 20 & 10 &  9 & 33 & 1\\\\\n",
       "\t -13 &  11 &   39 & -290 & 215 & -90 & -153 & 155 & -205 &  212 & ⋯ & -17.60 & -88.90 &    0 &  -75.51480 & 106.0 &  4 & 38 & 31 & 39 & 2\\\\\n",
       "\t   1 &  -1 &   49 & -341 & 245 & -87 & -141 & 155 & -196 &  154 & ⋯ & -32.60 & -88.50 &    0 &  -75.20287 &  93.0 &  5 & 44 & 29 & 34 & 3\\\\\n",
       "\t  46 &  45 & -156 & -238 & -57 &   6 &  -51 &  72 & -148 &  -92 & ⋯ &   0.00 & 162.00 & -142 & -103.32003 &   0.0 & 17 & 25 & 18 & 43 & 4\\\\\n",
       "\t  -8 &   4 &   27 & -197 & 200 & -30 &  -18 & -30 &   -5 &  131 & ⋯ &  -2.16 & -88.60 &  102 &  -14.19542 & -47.9 &  3 & 29 &  4 & 24 & 5\\\\\n",
       "\t -11 & -16 &   38 &  -26 & 130 & -19 & -138 & 166 & -186 &  230 & ⋯ &   1.46 & -87.70 &    0 &  -71.12063 &  89.7 &  4 & 14 & 29 & 43 & 6\\\\\n",
       "\\end{tabular}\n"
      ],
      "text/markdown": [
       "\n",
       "A tibble: 6 × 53\n",
       "\n",
       "| accel_belt_x &lt;dbl&gt; | accel_belt_y &lt;dbl&gt; | accel_belt_z &lt;dbl&gt; | accel_arm_x &lt;dbl&gt; | accel_arm_y &lt;dbl&gt; | accel_arm_z &lt;dbl&gt; | accel_dumbbell_x &lt;dbl&gt; | accel_dumbbell_y &lt;dbl&gt; | accel_dumbbell_z &lt;dbl&gt; | accel_forearm_x &lt;dbl&gt; | ⋯ ⋯ | pitch_forearm &lt;dbl&gt; | yaw_belt &lt;dbl&gt; | yaw_arm &lt;dbl&gt; | yaw_dumbbell &lt;dbl&gt; | yaw_forearm &lt;dbl&gt; | total_accel_belt &lt;dbl&gt; | total_accel_arm &lt;dbl&gt; | total_accel_dumbbell &lt;dbl&gt; | total_accel_forearm &lt;dbl&gt; | problem_id &lt;dbl&gt; |\n",
       "|---|---|---|---|---|---|---|---|---|---|---|---|---|---|---|---|---|---|---|---|---|\n",
       "| -38 |  69 | -179 |   16 |  38 |  93 |   21 | -15 |   81 | -110 | ⋯ |  49.30 |  -4.75 |  178 |  126.23596 | 156.0 | 20 | 10 |  9 | 33 | 1 |\n",
       "| -13 |  11 |   39 | -290 | 215 | -90 | -153 | 155 | -205 |  212 | ⋯ | -17.60 | -88.90 |    0 |  -75.51480 | 106.0 |  4 | 38 | 31 | 39 | 2 |\n",
       "|   1 |  -1 |   49 | -341 | 245 | -87 | -141 | 155 | -196 |  154 | ⋯ | -32.60 | -88.50 |    0 |  -75.20287 |  93.0 |  5 | 44 | 29 | 34 | 3 |\n",
       "|  46 |  45 | -156 | -238 | -57 |   6 |  -51 |  72 | -148 |  -92 | ⋯ |   0.00 | 162.00 | -142 | -103.32003 |   0.0 | 17 | 25 | 18 | 43 | 4 |\n",
       "|  -8 |   4 |   27 | -197 | 200 | -30 |  -18 | -30 |   -5 |  131 | ⋯ |  -2.16 | -88.60 |  102 |  -14.19542 | -47.9 |  3 | 29 |  4 | 24 | 5 |\n",
       "| -11 | -16 |   38 |  -26 | 130 | -19 | -138 | 166 | -186 |  230 | ⋯ |   1.46 | -87.70 |    0 |  -71.12063 |  89.7 |  4 | 14 | 29 | 43 | 6 |\n",
       "\n"
      ],
      "text/plain": [
       "  accel_belt_x accel_belt_y accel_belt_z accel_arm_x accel_arm_y accel_arm_z\n",
       "1 -38           69          -179           16         38          93        \n",
       "2 -13           11            39         -290        215         -90        \n",
       "3   1           -1            49         -341        245         -87        \n",
       "4  46           45          -156         -238        -57           6        \n",
       "5  -8            4            27         -197        200         -30        \n",
       "6 -11          -16            38          -26        130         -19        \n",
       "  accel_dumbbell_x accel_dumbbell_y accel_dumbbell_z accel_forearm_x ⋯\n",
       "1   21             -15                81             -110            ⋯\n",
       "2 -153             155              -205              212            ⋯\n",
       "3 -141             155              -196              154            ⋯\n",
       "4  -51              72              -148              -92            ⋯\n",
       "5  -18             -30                -5              131            ⋯\n",
       "6 -138             166              -186              230            ⋯\n",
       "  pitch_forearm yaw_belt yaw_arm yaw_dumbbell yaw_forearm total_accel_belt\n",
       "1  49.30         -4.75    178     126.23596   156.0       20              \n",
       "2 -17.60        -88.90      0     -75.51480   106.0        4              \n",
       "3 -32.60        -88.50      0     -75.20287    93.0        5              \n",
       "4   0.00        162.00   -142    -103.32003     0.0       17              \n",
       "5  -2.16        -88.60    102     -14.19542   -47.9        3              \n",
       "6   1.46        -87.70      0     -71.12063    89.7        4              \n",
       "  total_accel_arm total_accel_dumbbell total_accel_forearm problem_id\n",
       "1 10               9                   33                  1         \n",
       "2 38              31                   39                  2         \n",
       "3 44              29                   34                  3         \n",
       "4 25              18                   43                  4         \n",
       "5 29               4                   24                  5         \n",
       "6 14              29                   43                  6         "
      ]
     },
     "metadata": {},
     "output_type": "display_data"
    }
   ],
   "source": [
    "head(trainPredSet); head(testPredSet)"
   ]
  },
  {
   "cell_type": "code",
   "execution_count": 14,
   "id": "03068957-7c93-4c6d-8c98-f377b802784e",
   "metadata": {
    "tags": []
   },
   "outputs": [
    {
     "data": {
      "text/html": [
       "0"
      ],
      "text/latex": [
       "0"
      ],
      "text/markdown": [
       "0"
      ],
      "text/plain": [
       "[1] 0"
      ]
     },
     "metadata": {},
     "output_type": "display_data"
    },
    {
     "data": {
      "text/html": [
       "0"
      ],
      "text/latex": [
       "0"
      ],
      "text/markdown": [
       "0"
      ],
      "text/plain": [
       "[1] 0"
      ]
     },
     "metadata": {},
     "output_type": "display_data"
    }
   ],
   "source": [
    "#Check on ommited data\n",
    "sum(is.na(trainPredSet));sum(is.na(testPredSet))"
   ]
  },
  {
   "cell_type": "code",
   "execution_count": 15,
   "id": "68ebb142-0016-47d6-86cc-f57e5440a94d",
   "metadata": {
    "tags": []
   },
   "outputs": [
    {
     "data": {
      "text/html": [
       "<table class=\"dataframe\">\n",
       "<caption>A data.frame: 53 × 4</caption>\n",
       "<thead>\n",
       "\t<tr><th></th><th scope=col>freqRatio</th><th scope=col>percentUnique</th><th scope=col>zeroVar</th><th scope=col>nzv</th></tr>\n",
       "\t<tr><th></th><th scope=col>&lt;dbl&gt;</th><th scope=col>&lt;dbl&gt;</th><th scope=col>&lt;lgl&gt;</th><th scope=col>&lt;lgl&gt;</th></tr>\n",
       "</thead>\n",
       "<tbody>\n",
       "\t<tr><th scope=row>accel_belt_x</th><td> 1.055412</td><td> 0.8357966</td><td>FALSE</td><td>FALSE</td></tr>\n",
       "\t<tr><th scope=row>accel_belt_y</th><td> 1.113725</td><td> 0.7287738</td><td>FALSE</td><td>FALSE</td></tr>\n",
       "\t<tr><th scope=row>accel_belt_z</th><td> 1.078767</td><td> 1.5237998</td><td>FALSE</td><td>FALSE</td></tr>\n",
       "\t<tr><th scope=row>accel_arm_x</th><td> 1.017341</td><td> 3.9598410</td><td>FALSE</td><td>FALSE</td></tr>\n",
       "\t<tr><th scope=row>accel_arm_y</th><td> 1.140187</td><td> 2.7367241</td><td>FALSE</td><td>FALSE</td></tr>\n",
       "\t<tr><th scope=row>accel_arm_z</th><td> 1.128000</td><td> 4.0362858</td><td>FALSE</td><td>FALSE</td></tr>\n",
       "\t<tr><th scope=row>accel_dumbbell_x</th><td> 1.018018</td><td> 2.1659362</td><td>FALSE</td><td>FALSE</td></tr>\n",
       "\t<tr><th scope=row>accel_dumbbell_y</th><td> 1.053061</td><td> 2.3748853</td><td>FALSE</td><td>FALSE</td></tr>\n",
       "\t<tr><th scope=row>accel_dumbbell_z</th><td> 1.133333</td><td> 2.0894914</td><td>FALSE</td><td>FALSE</td></tr>\n",
       "\t<tr><th scope=row>accel_forearm_x</th><td> 1.126437</td><td> 4.0464784</td><td>FALSE</td><td>FALSE</td></tr>\n",
       "\t<tr><th scope=row>accel_forearm_y</th><td> 1.059406</td><td> 5.1116094</td><td>FALSE</td><td>FALSE</td></tr>\n",
       "\t<tr><th scope=row>accel_forearm_z</th><td> 1.006250</td><td> 2.9558659</td><td>FALSE</td><td>FALSE</td></tr>\n",
       "\t<tr><th scope=row>gyros_belt_x</th><td> 1.058651</td><td> 0.7134849</td><td>FALSE</td><td>FALSE</td></tr>\n",
       "\t<tr><th scope=row>gyros_belt_y</th><td> 1.144000</td><td> 0.3516461</td><td>FALSE</td><td>FALSE</td></tr>\n",
       "\t<tr><th scope=row>gyros_belt_z</th><td> 1.066214</td><td> 0.8612782</td><td>FALSE</td><td>FALSE</td></tr>\n",
       "\t<tr><th scope=row>gyros_arm_x</th><td> 1.015504</td><td> 3.2769341</td><td>FALSE</td><td>FALSE</td></tr>\n",
       "\t<tr><th scope=row>gyros_arm_y</th><td> 1.454369</td><td> 1.9162165</td><td>FALSE</td><td>FALSE</td></tr>\n",
       "\t<tr><th scope=row>gyros_arm_z</th><td> 1.110687</td><td> 1.2638875</td><td>FALSE</td><td>FALSE</td></tr>\n",
       "\t<tr><th scope=row>gyros_dumbbell_x</th><td> 1.003268</td><td> 1.2282132</td><td>FALSE</td><td>FALSE</td></tr>\n",
       "\t<tr><th scope=row>gyros_dumbbell_y</th><td> 1.264957</td><td> 1.4167771</td><td>FALSE</td><td>FALSE</td></tr>\n",
       "\t<tr><th scope=row>gyros_dumbbell_z</th><td> 1.060100</td><td> 1.0498420</td><td>FALSE</td><td>FALSE</td></tr>\n",
       "\t<tr><th scope=row>gyros_forearm_x</th><td> 1.059273</td><td> 1.5187035</td><td>FALSE</td><td>FALSE</td></tr>\n",
       "\t<tr><th scope=row>gyros_forearm_y</th><td> 1.036554</td><td> 3.7763735</td><td>FALSE</td><td>FALSE</td></tr>\n",
       "\t<tr><th scope=row>gyros_forearm_z</th><td> 1.122917</td><td> 1.5645704</td><td>FALSE</td><td>FALSE</td></tr>\n",
       "\t<tr><th scope=row>magnet_belt_x</th><td> 1.090141</td><td> 1.6664968</td><td>FALSE</td><td>FALSE</td></tr>\n",
       "\t<tr><th scope=row>magnet_belt_y</th><td> 1.099688</td><td> 1.5187035</td><td>FALSE</td><td>FALSE</td></tr>\n",
       "\t<tr><th scope=row>magnet_belt_z</th><td> 1.006369</td><td> 2.3290184</td><td>FALSE</td><td>FALSE</td></tr>\n",
       "\t<tr><th scope=row>magnet_arm_x</th><td> 1.000000</td><td> 6.8239731</td><td>FALSE</td><td>FALSE</td></tr>\n",
       "\t<tr><th scope=row>magnet_arm_y</th><td> 1.056818</td><td> 4.4439914</td><td>FALSE</td><td>FALSE</td></tr>\n",
       "\t<tr><th scope=row>magnet_arm_z</th><td> 1.036364</td><td> 6.4468454</td><td>FALSE</td><td>FALSE</td></tr>\n",
       "\t<tr><th scope=row>magnet_dumbbell_x</th><td> 1.098266</td><td> 5.7486495</td><td>FALSE</td><td>FALSE</td></tr>\n",
       "\t<tr><th scope=row>magnet_dumbbell_y</th><td> 1.197740</td><td> 4.3012945</td><td>FALSE</td><td>FALSE</td></tr>\n",
       "\t<tr><th scope=row>magnet_dumbbell_z</th><td> 1.020833</td><td> 3.4451126</td><td>FALSE</td><td>FALSE</td></tr>\n",
       "\t<tr><th scope=row>magnet_forearm_x</th><td> 1.012346</td><td> 7.7667924</td><td>FALSE</td><td>FALSE</td></tr>\n",
       "\t<tr><th scope=row>magnet_forearm_y</th><td> 1.246914</td><td> 9.5403119</td><td>FALSE</td><td>FALSE</td></tr>\n",
       "\t<tr><th scope=row>magnet_forearm_z</th><td> 1.000000</td><td> 8.5771073</td><td>FALSE</td><td>FALSE</td></tr>\n",
       "\t<tr><th scope=row>roll_belt</th><td> 1.101904</td><td> 6.7781062</td><td>FALSE</td><td>FALSE</td></tr>\n",
       "\t<tr><th scope=row>roll_arm</th><td>52.338462</td><td>13.5256345</td><td>FALSE</td><td>FALSE</td></tr>\n",
       "\t<tr><th scope=row>roll_dumbbell</th><td> 1.022388</td><td>84.2065029</td><td>FALSE</td><td>FALSE</td></tr>\n",
       "\t<tr><th scope=row>roll_forearm</th><td>11.589286</td><td>11.0895933</td><td>FALSE</td><td>FALSE</td></tr>\n",
       "\t<tr><th scope=row>pitch_belt</th><td> 1.036082</td><td> 9.3772296</td><td>FALSE</td><td>FALSE</td></tr>\n",
       "\t<tr><th scope=row>pitch_arm</th><td>87.256410</td><td>15.7323412</td><td>FALSE</td><td>FALSE</td></tr>\n",
       "\t<tr><th scope=row>pitch_dumbbell</th><td> 2.277372</td><td>81.7449801</td><td>FALSE</td><td>FALSE</td></tr>\n",
       "\t<tr><th scope=row>pitch_forearm</th><td>65.983051</td><td>14.8557741</td><td>FALSE</td><td>FALSE</td></tr>\n",
       "\t<tr><th scope=row>yaw_belt</th><td> 1.058480</td><td> 9.9734991</td><td>FALSE</td><td>FALSE</td></tr>\n",
       "\t<tr><th scope=row>yaw_arm</th><td>33.029126</td><td>14.6570176</td><td>FALSE</td><td>FALSE</td></tr>\n",
       "\t<tr><th scope=row>yaw_dumbbell</th><td> 1.132231</td><td>83.4828254</td><td>FALSE</td><td>FALSE</td></tr>\n",
       "\t<tr><th scope=row>yaw_forearm</th><td>15.322835</td><td>10.1467740</td><td>FALSE</td><td>FALSE</td></tr>\n",
       "\t<tr><th scope=row>total_accel_belt</th><td> 1.063160</td><td> 0.1477933</td><td>FALSE</td><td>FALSE</td></tr>\n",
       "\t<tr><th scope=row>total_accel_arm</th><td> 1.024526</td><td> 0.3363572</td><td>FALSE</td><td>FALSE</td></tr>\n",
       "\t<tr><th scope=row>total_accel_dumbbell</th><td> 1.072634</td><td> 0.2191418</td><td>FALSE</td><td>FALSE</td></tr>\n",
       "\t<tr><th scope=row>total_accel_forearm</th><td> 1.128928</td><td> 0.3567424</td><td>FALSE</td><td>FALSE</td></tr>\n",
       "\t<tr><th scope=row>classe</th><td> 1.469581</td><td> 0.0254816</td><td>FALSE</td><td>FALSE</td></tr>\n",
       "</tbody>\n",
       "</table>\n"
      ],
      "text/latex": [
       "A data.frame: 53 × 4\n",
       "\\begin{tabular}{r|llll}\n",
       "  & freqRatio & percentUnique & zeroVar & nzv\\\\\n",
       "  & <dbl> & <dbl> & <lgl> & <lgl>\\\\\n",
       "\\hline\n",
       "\taccel\\_belt\\_x &  1.055412 &  0.8357966 & FALSE & FALSE\\\\\n",
       "\taccel\\_belt\\_y &  1.113725 &  0.7287738 & FALSE & FALSE\\\\\n",
       "\taccel\\_belt\\_z &  1.078767 &  1.5237998 & FALSE & FALSE\\\\\n",
       "\taccel\\_arm\\_x &  1.017341 &  3.9598410 & FALSE & FALSE\\\\\n",
       "\taccel\\_arm\\_y &  1.140187 &  2.7367241 & FALSE & FALSE\\\\\n",
       "\taccel\\_arm\\_z &  1.128000 &  4.0362858 & FALSE & FALSE\\\\\n",
       "\taccel\\_dumbbell\\_x &  1.018018 &  2.1659362 & FALSE & FALSE\\\\\n",
       "\taccel\\_dumbbell\\_y &  1.053061 &  2.3748853 & FALSE & FALSE\\\\\n",
       "\taccel\\_dumbbell\\_z &  1.133333 &  2.0894914 & FALSE & FALSE\\\\\n",
       "\taccel\\_forearm\\_x &  1.126437 &  4.0464784 & FALSE & FALSE\\\\\n",
       "\taccel\\_forearm\\_y &  1.059406 &  5.1116094 & FALSE & FALSE\\\\\n",
       "\taccel\\_forearm\\_z &  1.006250 &  2.9558659 & FALSE & FALSE\\\\\n",
       "\tgyros\\_belt\\_x &  1.058651 &  0.7134849 & FALSE & FALSE\\\\\n",
       "\tgyros\\_belt\\_y &  1.144000 &  0.3516461 & FALSE & FALSE\\\\\n",
       "\tgyros\\_belt\\_z &  1.066214 &  0.8612782 & FALSE & FALSE\\\\\n",
       "\tgyros\\_arm\\_x &  1.015504 &  3.2769341 & FALSE & FALSE\\\\\n",
       "\tgyros\\_arm\\_y &  1.454369 &  1.9162165 & FALSE & FALSE\\\\\n",
       "\tgyros\\_arm\\_z &  1.110687 &  1.2638875 & FALSE & FALSE\\\\\n",
       "\tgyros\\_dumbbell\\_x &  1.003268 &  1.2282132 & FALSE & FALSE\\\\\n",
       "\tgyros\\_dumbbell\\_y &  1.264957 &  1.4167771 & FALSE & FALSE\\\\\n",
       "\tgyros\\_dumbbell\\_z &  1.060100 &  1.0498420 & FALSE & FALSE\\\\\n",
       "\tgyros\\_forearm\\_x &  1.059273 &  1.5187035 & FALSE & FALSE\\\\\n",
       "\tgyros\\_forearm\\_y &  1.036554 &  3.7763735 & FALSE & FALSE\\\\\n",
       "\tgyros\\_forearm\\_z &  1.122917 &  1.5645704 & FALSE & FALSE\\\\\n",
       "\tmagnet\\_belt\\_x &  1.090141 &  1.6664968 & FALSE & FALSE\\\\\n",
       "\tmagnet\\_belt\\_y &  1.099688 &  1.5187035 & FALSE & FALSE\\\\\n",
       "\tmagnet\\_belt\\_z &  1.006369 &  2.3290184 & FALSE & FALSE\\\\\n",
       "\tmagnet\\_arm\\_x &  1.000000 &  6.8239731 & FALSE & FALSE\\\\\n",
       "\tmagnet\\_arm\\_y &  1.056818 &  4.4439914 & FALSE & FALSE\\\\\n",
       "\tmagnet\\_arm\\_z &  1.036364 &  6.4468454 & FALSE & FALSE\\\\\n",
       "\tmagnet\\_dumbbell\\_x &  1.098266 &  5.7486495 & FALSE & FALSE\\\\\n",
       "\tmagnet\\_dumbbell\\_y &  1.197740 &  4.3012945 & FALSE & FALSE\\\\\n",
       "\tmagnet\\_dumbbell\\_z &  1.020833 &  3.4451126 & FALSE & FALSE\\\\\n",
       "\tmagnet\\_forearm\\_x &  1.012346 &  7.7667924 & FALSE & FALSE\\\\\n",
       "\tmagnet\\_forearm\\_y &  1.246914 &  9.5403119 & FALSE & FALSE\\\\\n",
       "\tmagnet\\_forearm\\_z &  1.000000 &  8.5771073 & FALSE & FALSE\\\\\n",
       "\troll\\_belt &  1.101904 &  6.7781062 & FALSE & FALSE\\\\\n",
       "\troll\\_arm & 52.338462 & 13.5256345 & FALSE & FALSE\\\\\n",
       "\troll\\_dumbbell &  1.022388 & 84.2065029 & FALSE & FALSE\\\\\n",
       "\troll\\_forearm & 11.589286 & 11.0895933 & FALSE & FALSE\\\\\n",
       "\tpitch\\_belt &  1.036082 &  9.3772296 & FALSE & FALSE\\\\\n",
       "\tpitch\\_arm & 87.256410 & 15.7323412 & FALSE & FALSE\\\\\n",
       "\tpitch\\_dumbbell &  2.277372 & 81.7449801 & FALSE & FALSE\\\\\n",
       "\tpitch\\_forearm & 65.983051 & 14.8557741 & FALSE & FALSE\\\\\n",
       "\tyaw\\_belt &  1.058480 &  9.9734991 & FALSE & FALSE\\\\\n",
       "\tyaw\\_arm & 33.029126 & 14.6570176 & FALSE & FALSE\\\\\n",
       "\tyaw\\_dumbbell &  1.132231 & 83.4828254 & FALSE & FALSE\\\\\n",
       "\tyaw\\_forearm & 15.322835 & 10.1467740 & FALSE & FALSE\\\\\n",
       "\ttotal\\_accel\\_belt &  1.063160 &  0.1477933 & FALSE & FALSE\\\\\n",
       "\ttotal\\_accel\\_arm &  1.024526 &  0.3363572 & FALSE & FALSE\\\\\n",
       "\ttotal\\_accel\\_dumbbell &  1.072634 &  0.2191418 & FALSE & FALSE\\\\\n",
       "\ttotal\\_accel\\_forearm &  1.128928 &  0.3567424 & FALSE & FALSE\\\\\n",
       "\tclasse &  1.469581 &  0.0254816 & FALSE & FALSE\\\\\n",
       "\\end{tabular}\n"
      ],
      "text/markdown": [
       "\n",
       "A data.frame: 53 × 4\n",
       "\n",
       "| <!--/--> | freqRatio &lt;dbl&gt; | percentUnique &lt;dbl&gt; | zeroVar &lt;lgl&gt; | nzv &lt;lgl&gt; |\n",
       "|---|---|---|---|---|\n",
       "| accel_belt_x |  1.055412 |  0.8357966 | FALSE | FALSE |\n",
       "| accel_belt_y |  1.113725 |  0.7287738 | FALSE | FALSE |\n",
       "| accel_belt_z |  1.078767 |  1.5237998 | FALSE | FALSE |\n",
       "| accel_arm_x |  1.017341 |  3.9598410 | FALSE | FALSE |\n",
       "| accel_arm_y |  1.140187 |  2.7367241 | FALSE | FALSE |\n",
       "| accel_arm_z |  1.128000 |  4.0362858 | FALSE | FALSE |\n",
       "| accel_dumbbell_x |  1.018018 |  2.1659362 | FALSE | FALSE |\n",
       "| accel_dumbbell_y |  1.053061 |  2.3748853 | FALSE | FALSE |\n",
       "| accel_dumbbell_z |  1.133333 |  2.0894914 | FALSE | FALSE |\n",
       "| accel_forearm_x |  1.126437 |  4.0464784 | FALSE | FALSE |\n",
       "| accel_forearm_y |  1.059406 |  5.1116094 | FALSE | FALSE |\n",
       "| accel_forearm_z |  1.006250 |  2.9558659 | FALSE | FALSE |\n",
       "| gyros_belt_x |  1.058651 |  0.7134849 | FALSE | FALSE |\n",
       "| gyros_belt_y |  1.144000 |  0.3516461 | FALSE | FALSE |\n",
       "| gyros_belt_z |  1.066214 |  0.8612782 | FALSE | FALSE |\n",
       "| gyros_arm_x |  1.015504 |  3.2769341 | FALSE | FALSE |\n",
       "| gyros_arm_y |  1.454369 |  1.9162165 | FALSE | FALSE |\n",
       "| gyros_arm_z |  1.110687 |  1.2638875 | FALSE | FALSE |\n",
       "| gyros_dumbbell_x |  1.003268 |  1.2282132 | FALSE | FALSE |\n",
       "| gyros_dumbbell_y |  1.264957 |  1.4167771 | FALSE | FALSE |\n",
       "| gyros_dumbbell_z |  1.060100 |  1.0498420 | FALSE | FALSE |\n",
       "| gyros_forearm_x |  1.059273 |  1.5187035 | FALSE | FALSE |\n",
       "| gyros_forearm_y |  1.036554 |  3.7763735 | FALSE | FALSE |\n",
       "| gyros_forearm_z |  1.122917 |  1.5645704 | FALSE | FALSE |\n",
       "| magnet_belt_x |  1.090141 |  1.6664968 | FALSE | FALSE |\n",
       "| magnet_belt_y |  1.099688 |  1.5187035 | FALSE | FALSE |\n",
       "| magnet_belt_z |  1.006369 |  2.3290184 | FALSE | FALSE |\n",
       "| magnet_arm_x |  1.000000 |  6.8239731 | FALSE | FALSE |\n",
       "| magnet_arm_y |  1.056818 |  4.4439914 | FALSE | FALSE |\n",
       "| magnet_arm_z |  1.036364 |  6.4468454 | FALSE | FALSE |\n",
       "| magnet_dumbbell_x |  1.098266 |  5.7486495 | FALSE | FALSE |\n",
       "| magnet_dumbbell_y |  1.197740 |  4.3012945 | FALSE | FALSE |\n",
       "| magnet_dumbbell_z |  1.020833 |  3.4451126 | FALSE | FALSE |\n",
       "| magnet_forearm_x |  1.012346 |  7.7667924 | FALSE | FALSE |\n",
       "| magnet_forearm_y |  1.246914 |  9.5403119 | FALSE | FALSE |\n",
       "| magnet_forearm_z |  1.000000 |  8.5771073 | FALSE | FALSE |\n",
       "| roll_belt |  1.101904 |  6.7781062 | FALSE | FALSE |\n",
       "| roll_arm | 52.338462 | 13.5256345 | FALSE | FALSE |\n",
       "| roll_dumbbell |  1.022388 | 84.2065029 | FALSE | FALSE |\n",
       "| roll_forearm | 11.589286 | 11.0895933 | FALSE | FALSE |\n",
       "| pitch_belt |  1.036082 |  9.3772296 | FALSE | FALSE |\n",
       "| pitch_arm | 87.256410 | 15.7323412 | FALSE | FALSE |\n",
       "| pitch_dumbbell |  2.277372 | 81.7449801 | FALSE | FALSE |\n",
       "| pitch_forearm | 65.983051 | 14.8557741 | FALSE | FALSE |\n",
       "| yaw_belt |  1.058480 |  9.9734991 | FALSE | FALSE |\n",
       "| yaw_arm | 33.029126 | 14.6570176 | FALSE | FALSE |\n",
       "| yaw_dumbbell |  1.132231 | 83.4828254 | FALSE | FALSE |\n",
       "| yaw_forearm | 15.322835 | 10.1467740 | FALSE | FALSE |\n",
       "| total_accel_belt |  1.063160 |  0.1477933 | FALSE | FALSE |\n",
       "| total_accel_arm |  1.024526 |  0.3363572 | FALSE | FALSE |\n",
       "| total_accel_dumbbell |  1.072634 |  0.2191418 | FALSE | FALSE |\n",
       "| total_accel_forearm |  1.128928 |  0.3567424 | FALSE | FALSE |\n",
       "| classe |  1.469581 |  0.0254816 | FALSE | FALSE |\n",
       "\n"
      ],
      "text/plain": [
       "                     freqRatio percentUnique zeroVar nzv  \n",
       "accel_belt_x          1.055412  0.8357966    FALSE   FALSE\n",
       "accel_belt_y          1.113725  0.7287738    FALSE   FALSE\n",
       "accel_belt_z          1.078767  1.5237998    FALSE   FALSE\n",
       "accel_arm_x           1.017341  3.9598410    FALSE   FALSE\n",
       "accel_arm_y           1.140187  2.7367241    FALSE   FALSE\n",
       "accel_arm_z           1.128000  4.0362858    FALSE   FALSE\n",
       "accel_dumbbell_x      1.018018  2.1659362    FALSE   FALSE\n",
       "accel_dumbbell_y      1.053061  2.3748853    FALSE   FALSE\n",
       "accel_dumbbell_z      1.133333  2.0894914    FALSE   FALSE\n",
       "accel_forearm_x       1.126437  4.0464784    FALSE   FALSE\n",
       "accel_forearm_y       1.059406  5.1116094    FALSE   FALSE\n",
       "accel_forearm_z       1.006250  2.9558659    FALSE   FALSE\n",
       "gyros_belt_x          1.058651  0.7134849    FALSE   FALSE\n",
       "gyros_belt_y          1.144000  0.3516461    FALSE   FALSE\n",
       "gyros_belt_z          1.066214  0.8612782    FALSE   FALSE\n",
       "gyros_arm_x           1.015504  3.2769341    FALSE   FALSE\n",
       "gyros_arm_y           1.454369  1.9162165    FALSE   FALSE\n",
       "gyros_arm_z           1.110687  1.2638875    FALSE   FALSE\n",
       "gyros_dumbbell_x      1.003268  1.2282132    FALSE   FALSE\n",
       "gyros_dumbbell_y      1.264957  1.4167771    FALSE   FALSE\n",
       "gyros_dumbbell_z      1.060100  1.0498420    FALSE   FALSE\n",
       "gyros_forearm_x       1.059273  1.5187035    FALSE   FALSE\n",
       "gyros_forearm_y       1.036554  3.7763735    FALSE   FALSE\n",
       "gyros_forearm_z       1.122917  1.5645704    FALSE   FALSE\n",
       "magnet_belt_x         1.090141  1.6664968    FALSE   FALSE\n",
       "magnet_belt_y         1.099688  1.5187035    FALSE   FALSE\n",
       "magnet_belt_z         1.006369  2.3290184    FALSE   FALSE\n",
       "magnet_arm_x          1.000000  6.8239731    FALSE   FALSE\n",
       "magnet_arm_y          1.056818  4.4439914    FALSE   FALSE\n",
       "magnet_arm_z          1.036364  6.4468454    FALSE   FALSE\n",
       "magnet_dumbbell_x     1.098266  5.7486495    FALSE   FALSE\n",
       "magnet_dumbbell_y     1.197740  4.3012945    FALSE   FALSE\n",
       "magnet_dumbbell_z     1.020833  3.4451126    FALSE   FALSE\n",
       "magnet_forearm_x      1.012346  7.7667924    FALSE   FALSE\n",
       "magnet_forearm_y      1.246914  9.5403119    FALSE   FALSE\n",
       "magnet_forearm_z      1.000000  8.5771073    FALSE   FALSE\n",
       "roll_belt             1.101904  6.7781062    FALSE   FALSE\n",
       "roll_arm             52.338462 13.5256345    FALSE   FALSE\n",
       "roll_dumbbell         1.022388 84.2065029    FALSE   FALSE\n",
       "roll_forearm         11.589286 11.0895933    FALSE   FALSE\n",
       "pitch_belt            1.036082  9.3772296    FALSE   FALSE\n",
       "pitch_arm            87.256410 15.7323412    FALSE   FALSE\n",
       "pitch_dumbbell        2.277372 81.7449801    FALSE   FALSE\n",
       "pitch_forearm        65.983051 14.8557741    FALSE   FALSE\n",
       "yaw_belt              1.058480  9.9734991    FALSE   FALSE\n",
       "yaw_arm              33.029126 14.6570176    FALSE   FALSE\n",
       "yaw_dumbbell          1.132231 83.4828254    FALSE   FALSE\n",
       "yaw_forearm          15.322835 10.1467740    FALSE   FALSE\n",
       "total_accel_belt      1.063160  0.1477933    FALSE   FALSE\n",
       "total_accel_arm       1.024526  0.3363572    FALSE   FALSE\n",
       "total_accel_dumbbell  1.072634  0.2191418    FALSE   FALSE\n",
       "total_accel_forearm   1.128928  0.3567424    FALSE   FALSE\n",
       "classe                1.469581  0.0254816    FALSE   FALSE"
      ]
     },
     "metadata": {},
     "output_type": "display_data"
    }
   ],
   "source": [
    "nearZeroVar(trainPredSet, saveMetric = T)"
   ]
  },
  {
   "cell_type": "markdown",
   "id": "ecab85a2-3a2f-41fa-90c9-e27d9db6e5a5",
   "metadata": {},
   "source": [
    "# Training Model"
   ]
  },
  {
   "cell_type": "markdown",
   "id": "55f307c1-4af9-403f-a3aa-e3e29db2187e",
   "metadata": {},
   "source": [
    "In order to evaluate our prediction algorithm cross-validation is used. "
   ]
  },
  {
   "cell_type": "code",
   "execution_count": 16,
   "id": "a1ae3b02-a46a-4186-b86e-d6ade6e7d57b",
   "metadata": {
    "tags": []
   },
   "outputs": [],
   "source": [
    "set.seed(3335) \n",
    "inTrain <- createDataPartition(y = trainPredSet[['classe']], p =.8, list = F)\n",
    "Train <- trainPredSet[inTrain,]\n",
    "Test <- trainPredSet[-inTrain,]"
   ]
  },
  {
   "cell_type": "code",
   "execution_count": 17,
   "id": "59b7fb90-be02-430b-9046-b67ffe7f2c66",
   "metadata": {
    "tags": []
   },
   "outputs": [
    {
     "data": {
      "text/html": [
       "<table class=\"dataframe\">\n",
       "<caption>A tibble: 6 × 53</caption>\n",
       "<thead>\n",
       "\t<tr><th scope=col>accel_belt_x</th><th scope=col>accel_belt_y</th><th scope=col>accel_belt_z</th><th scope=col>accel_arm_x</th><th scope=col>accel_arm_y</th><th scope=col>accel_arm_z</th><th scope=col>accel_dumbbell_x</th><th scope=col>accel_dumbbell_y</th><th scope=col>accel_dumbbell_z</th><th scope=col>accel_forearm_x</th><th scope=col>⋯</th><th scope=col>pitch_forearm</th><th scope=col>yaw_belt</th><th scope=col>yaw_arm</th><th scope=col>yaw_dumbbell</th><th scope=col>yaw_forearm</th><th scope=col>total_accel_belt</th><th scope=col>total_accel_arm</th><th scope=col>total_accel_dumbbell</th><th scope=col>total_accel_forearm</th><th scope=col>classe</th></tr>\n",
       "\t<tr><th scope=col>&lt;dbl&gt;</th><th scope=col>&lt;dbl&gt;</th><th scope=col>&lt;dbl&gt;</th><th scope=col>&lt;dbl&gt;</th><th scope=col>&lt;dbl&gt;</th><th scope=col>&lt;dbl&gt;</th><th scope=col>&lt;dbl&gt;</th><th scope=col>&lt;dbl&gt;</th><th scope=col>&lt;dbl&gt;</th><th scope=col>&lt;dbl&gt;</th><th scope=col>⋯</th><th scope=col>&lt;dbl&gt;</th><th scope=col>&lt;dbl&gt;</th><th scope=col>&lt;dbl&gt;</th><th scope=col>&lt;dbl&gt;</th><th scope=col>&lt;dbl&gt;</th><th scope=col>&lt;dbl&gt;</th><th scope=col>&lt;dbl&gt;</th><th scope=col>&lt;dbl&gt;</th><th scope=col>&lt;dbl&gt;</th><th scope=col>&lt;fct&gt;</th></tr>\n",
       "</thead>\n",
       "<tbody>\n",
       "\t<tr><td>-21</td><td>4</td><td>22</td><td>-288</td><td>109</td><td>-123</td><td>-234</td><td>47</td><td>-271</td><td>192</td><td>⋯</td><td>-63.9</td><td>-94.4</td><td>-161</td><td>-84.87394</td><td>-153</td><td>3</td><td>34</td><td>37</td><td>36</td><td>A</td></tr>\n",
       "\t<tr><td>-20</td><td>5</td><td>23</td><td>-289</td><td>110</td><td>-126</td><td>-232</td><td>46</td><td>-270</td><td>196</td><td>⋯</td><td>-63.9</td><td>-94.4</td><td>-161</td><td>-85.14078</td><td>-152</td><td>3</td><td>34</td><td>37</td><td>36</td><td>A</td></tr>\n",
       "\t<tr><td>-21</td><td>2</td><td>24</td><td>-289</td><td>111</td><td>-123</td><td>-233</td><td>48</td><td>-270</td><td>189</td><td>⋯</td><td>-63.9</td><td>-94.4</td><td>-161</td><td>-84.85306</td><td>-152</td><td>3</td><td>34</td><td>37</td><td>36</td><td>A</td></tr>\n",
       "\t<tr><td>-22</td><td>3</td><td>21</td><td>-289</td><td>111</td><td>-125</td><td>-232</td><td>47</td><td>-270</td><td>195</td><td>⋯</td><td>-63.9</td><td>-94.4</td><td>-161</td><td>-85.09961</td><td>-152</td><td>3</td><td>34</td><td>37</td><td>36</td><td>A</td></tr>\n",
       "\t<tr><td>-22</td><td>4</td><td>21</td><td>-289</td><td>111</td><td>-124</td><td>-234</td><td>46</td><td>-272</td><td>193</td><td>⋯</td><td>-63.8</td><td>-94.4</td><td>-161</td><td>-85.09708</td><td>-152</td><td>3</td><td>34</td><td>37</td><td>36</td><td>A</td></tr>\n",
       "\t<tr><td>-20</td><td>2</td><td>24</td><td>-288</td><td>109</td><td>-122</td><td>-232</td><td>47</td><td>-269</td><td>193</td><td>⋯</td><td>-63.8</td><td>-94.4</td><td>-161</td><td>-84.91563</td><td>-152</td><td>3</td><td>34</td><td>37</td><td>36</td><td>A</td></tr>\n",
       "</tbody>\n",
       "</table>\n"
      ],
      "text/latex": [
       "A tibble: 6 × 53\n",
       "\\begin{tabular}{lllllllllllllllllllll}\n",
       " accel\\_belt\\_x & accel\\_belt\\_y & accel\\_belt\\_z & accel\\_arm\\_x & accel\\_arm\\_y & accel\\_arm\\_z & accel\\_dumbbell\\_x & accel\\_dumbbell\\_y & accel\\_dumbbell\\_z & accel\\_forearm\\_x & ⋯ & pitch\\_forearm & yaw\\_belt & yaw\\_arm & yaw\\_dumbbell & yaw\\_forearm & total\\_accel\\_belt & total\\_accel\\_arm & total\\_accel\\_dumbbell & total\\_accel\\_forearm & classe\\\\\n",
       " <dbl> & <dbl> & <dbl> & <dbl> & <dbl> & <dbl> & <dbl> & <dbl> & <dbl> & <dbl> & ⋯ & <dbl> & <dbl> & <dbl> & <dbl> & <dbl> & <dbl> & <dbl> & <dbl> & <dbl> & <fct>\\\\\n",
       "\\hline\n",
       "\t -21 & 4 & 22 & -288 & 109 & -123 & -234 & 47 & -271 & 192 & ⋯ & -63.9 & -94.4 & -161 & -84.87394 & -153 & 3 & 34 & 37 & 36 & A\\\\\n",
       "\t -20 & 5 & 23 & -289 & 110 & -126 & -232 & 46 & -270 & 196 & ⋯ & -63.9 & -94.4 & -161 & -85.14078 & -152 & 3 & 34 & 37 & 36 & A\\\\\n",
       "\t -21 & 2 & 24 & -289 & 111 & -123 & -233 & 48 & -270 & 189 & ⋯ & -63.9 & -94.4 & -161 & -84.85306 & -152 & 3 & 34 & 37 & 36 & A\\\\\n",
       "\t -22 & 3 & 21 & -289 & 111 & -125 & -232 & 47 & -270 & 195 & ⋯ & -63.9 & -94.4 & -161 & -85.09961 & -152 & 3 & 34 & 37 & 36 & A\\\\\n",
       "\t -22 & 4 & 21 & -289 & 111 & -124 & -234 & 46 & -272 & 193 & ⋯ & -63.8 & -94.4 & -161 & -85.09708 & -152 & 3 & 34 & 37 & 36 & A\\\\\n",
       "\t -20 & 2 & 24 & -288 & 109 & -122 & -232 & 47 & -269 & 193 & ⋯ & -63.8 & -94.4 & -161 & -84.91563 & -152 & 3 & 34 & 37 & 36 & A\\\\\n",
       "\\end{tabular}\n"
      ],
      "text/markdown": [
       "\n",
       "A tibble: 6 × 53\n",
       "\n",
       "| accel_belt_x &lt;dbl&gt; | accel_belt_y &lt;dbl&gt; | accel_belt_z &lt;dbl&gt; | accel_arm_x &lt;dbl&gt; | accel_arm_y &lt;dbl&gt; | accel_arm_z &lt;dbl&gt; | accel_dumbbell_x &lt;dbl&gt; | accel_dumbbell_y &lt;dbl&gt; | accel_dumbbell_z &lt;dbl&gt; | accel_forearm_x &lt;dbl&gt; | ⋯ ⋯ | pitch_forearm &lt;dbl&gt; | yaw_belt &lt;dbl&gt; | yaw_arm &lt;dbl&gt; | yaw_dumbbell &lt;dbl&gt; | yaw_forearm &lt;dbl&gt; | total_accel_belt &lt;dbl&gt; | total_accel_arm &lt;dbl&gt; | total_accel_dumbbell &lt;dbl&gt; | total_accel_forearm &lt;dbl&gt; | classe &lt;fct&gt; |\n",
       "|---|---|---|---|---|---|---|---|---|---|---|---|---|---|---|---|---|---|---|---|---|\n",
       "| -21 | 4 | 22 | -288 | 109 | -123 | -234 | 47 | -271 | 192 | ⋯ | -63.9 | -94.4 | -161 | -84.87394 | -153 | 3 | 34 | 37 | 36 | A |\n",
       "| -20 | 5 | 23 | -289 | 110 | -126 | -232 | 46 | -270 | 196 | ⋯ | -63.9 | -94.4 | -161 | -85.14078 | -152 | 3 | 34 | 37 | 36 | A |\n",
       "| -21 | 2 | 24 | -289 | 111 | -123 | -233 | 48 | -270 | 189 | ⋯ | -63.9 | -94.4 | -161 | -84.85306 | -152 | 3 | 34 | 37 | 36 | A |\n",
       "| -22 | 3 | 21 | -289 | 111 | -125 | -232 | 47 | -270 | 195 | ⋯ | -63.9 | -94.4 | -161 | -85.09961 | -152 | 3 | 34 | 37 | 36 | A |\n",
       "| -22 | 4 | 21 | -289 | 111 | -124 | -234 | 46 | -272 | 193 | ⋯ | -63.8 | -94.4 | -161 | -85.09708 | -152 | 3 | 34 | 37 | 36 | A |\n",
       "| -20 | 2 | 24 | -288 | 109 | -122 | -232 | 47 | -269 | 193 | ⋯ | -63.8 | -94.4 | -161 | -84.91563 | -152 | 3 | 34 | 37 | 36 | A |\n",
       "\n"
      ],
      "text/plain": [
       "  accel_belt_x accel_belt_y accel_belt_z accel_arm_x accel_arm_y accel_arm_z\n",
       "1 -21          4            22           -288        109         -123       \n",
       "2 -20          5            23           -289        110         -126       \n",
       "3 -21          2            24           -289        111         -123       \n",
       "4 -22          3            21           -289        111         -125       \n",
       "5 -22          4            21           -289        111         -124       \n",
       "6 -20          2            24           -288        109         -122       \n",
       "  accel_dumbbell_x accel_dumbbell_y accel_dumbbell_z accel_forearm_x ⋯\n",
       "1 -234             47               -271             192             ⋯\n",
       "2 -232             46               -270             196             ⋯\n",
       "3 -233             48               -270             189             ⋯\n",
       "4 -232             47               -270             195             ⋯\n",
       "5 -234             46               -272             193             ⋯\n",
       "6 -232             47               -269             193             ⋯\n",
       "  pitch_forearm yaw_belt yaw_arm yaw_dumbbell yaw_forearm total_accel_belt\n",
       "1 -63.9         -94.4    -161    -84.87394    -153        3               \n",
       "2 -63.9         -94.4    -161    -85.14078    -152        3               \n",
       "3 -63.9         -94.4    -161    -84.85306    -152        3               \n",
       "4 -63.9         -94.4    -161    -85.09961    -152        3               \n",
       "5 -63.8         -94.4    -161    -85.09708    -152        3               \n",
       "6 -63.8         -94.4    -161    -84.91563    -152        3               \n",
       "  total_accel_arm total_accel_dumbbell total_accel_forearm classe\n",
       "1 34              37                   36                  A     \n",
       "2 34              37                   36                  A     \n",
       "3 34              37                   36                  A     \n",
       "4 34              37                   36                  A     \n",
       "5 34              37                   36                  A     \n",
       "6 34              37                   36                  A     "
      ]
     },
     "metadata": {},
     "output_type": "display_data"
    }
   ],
   "source": [
    "head(Train)"
   ]
  },
  {
   "cell_type": "code",
   "execution_count": 18,
   "id": "83171b84-5ef9-4c79-a795-9770441cfb7b",
   "metadata": {
    "tags": []
   },
   "outputs": [
    {
     "data": {
      "text/html": [
       "<dl>\n",
       "\t<dt>$method</dt>\n",
       "\t\t<dd>'repeatedcv'</dd>\n",
       "\t<dt>$number</dt>\n",
       "\t\t<dd>5</dd>\n",
       "\t<dt>$repeats</dt>\n",
       "\t\t<dd>5</dd>\n",
       "\t<dt>$p</dt>\n",
       "\t\t<dd>0.75</dd>\n",
       "\t<dt>$initialWindow</dt>\n",
       "\t\t<dd>NULL</dd>\n",
       "\t<dt>$horizon</dt>\n",
       "\t\t<dd>1</dd>\n",
       "\t<dt>$fixedWindow</dt>\n",
       "\t\t<dd>TRUE</dd>\n",
       "\t<dt>$verboseIter</dt>\n",
       "\t\t<dd>FALSE</dd>\n",
       "\t<dt>$returnData</dt>\n",
       "\t\t<dd>TRUE</dd>\n",
       "\t<dt>$returnResamp</dt>\n",
       "\t\t<dd>'final'</dd>\n",
       "\t<dt>$savePredictions</dt>\n",
       "\t\t<dd>FALSE</dd>\n",
       "\t<dt>$classProbs</dt>\n",
       "\t\t<dd>FALSE</dd>\n",
       "\t<dt>$summaryFunction</dt>\n",
       "\t\t<dd><pre class=language-r><code>function (data, lev = NULL, model = NULL) \n",
       "{\n",
       "<span style=white-space:pre-wrap>    if (is.character(data$obs)) </span>\n",
       "<span style=white-space:pre-wrap>        data$obs &lt;- factor(data$obs, levels = lev)</span>\n",
       "<span style=white-space:pre-wrap>    postResample(data[, \"pred\"], data[, \"obs\"])</span>\n",
       "}</code></pre></dd>\n",
       "\t<dt>$selectionFunction</dt>\n",
       "\t\t<dd>'best'</dd>\n",
       "\t<dt>$preProcOptions</dt>\n",
       "\t\t<dd><dl>\n",
       "\t<dt>$thresh</dt>\n",
       "\t\t<dd>0.95</dd>\n",
       "\t<dt>$ICAcomp</dt>\n",
       "\t\t<dd>3</dd>\n",
       "\t<dt>$k</dt>\n",
       "\t\t<dd>5</dd>\n",
       "</dl>\n",
       "</dd>\n",
       "\t<dt>$index</dt>\n",
       "\t\t<dd>NULL</dd>\n",
       "\t<dt>$indexOut</dt>\n",
       "\t\t<dd>NULL</dd>\n",
       "\t<dt>$timingSamps</dt>\n",
       "\t\t<dd>0</dd>\n",
       "\t<dt>$predictionBounds</dt>\n",
       "\t\t<dd><style>\n",
       ".list-inline {list-style: none; margin:0; padding: 0}\n",
       ".list-inline>li {display: inline-block}\n",
       ".list-inline>li:not(:last-child)::after {content: \"\\00b7\"; padding: 0 .5ex}\n",
       "</style>\n",
       "<ol class=list-inline><li>FALSE</li><li>FALSE</li></ol>\n",
       "</dd>\n",
       "\t<dt>$seeds</dt>\n",
       "\t\t<dd>&lt;NA&gt;</dd>\n",
       "\t<dt>$adaptive</dt>\n",
       "\t\t<dd><dl>\n",
       "\t<dt>$min</dt>\n",
       "\t\t<dd>5</dd>\n",
       "\t<dt>$alpha</dt>\n",
       "\t\t<dd>0.05</dd>\n",
       "\t<dt>$method</dt>\n",
       "\t\t<dd>'gls'</dd>\n",
       "\t<dt>$complete</dt>\n",
       "\t\t<dd>TRUE</dd>\n",
       "</dl>\n",
       "</dd>\n",
       "\t<dt>$trim</dt>\n",
       "\t\t<dd>FALSE</dd>\n",
       "\t<dt>$allowParallel</dt>\n",
       "\t\t<dd>TRUE</dd>\n",
       "</dl>\n"
      ],
      "text/latex": [
       "\\begin{description}\n",
       "\\item[\\$method] 'repeatedcv'\n",
       "\\item[\\$number] 5\n",
       "\\item[\\$repeats] 5\n",
       "\\item[\\$p] 0.75\n",
       "\\item[\\$initialWindow] NULL\n",
       "\\item[\\$horizon] 1\n",
       "\\item[\\$fixedWindow] TRUE\n",
       "\\item[\\$verboseIter] FALSE\n",
       "\\item[\\$returnData] TRUE\n",
       "\\item[\\$returnResamp] 'final'\n",
       "\\item[\\$savePredictions] FALSE\n",
       "\\item[\\$classProbs] FALSE\n",
       "\\item[\\$summaryFunction] \\begin{minted}{r}\n",
       "function (data, lev = NULL, model = NULL) \n",
       "\\{\n",
       "    if (is.character(data\\$obs)) \n",
       "        data\\$obs <- factor(data\\$obs, levels = lev)\n",
       "    postResample(data{[}, \"pred\"{]}, data{[}, \"obs\"{]})\n",
       "\\}\n",
       "\\end{minted}\n",
       "\\item[\\$selectionFunction] 'best'\n",
       "\\item[\\$preProcOptions] \\begin{description}\n",
       "\\item[\\$thresh] 0.95\n",
       "\\item[\\$ICAcomp] 3\n",
       "\\item[\\$k] 5\n",
       "\\end{description}\n",
       "\n",
       "\\item[\\$index] NULL\n",
       "\\item[\\$indexOut] NULL\n",
       "\\item[\\$timingSamps] 0\n",
       "\\item[\\$predictionBounds] \\begin{enumerate*}\n",
       "\\item FALSE\n",
       "\\item FALSE\n",
       "\\end{enumerate*}\n",
       "\n",
       "\\item[\\$seeds] <NA>\n",
       "\\item[\\$adaptive] \\begin{description}\n",
       "\\item[\\$min] 5\n",
       "\\item[\\$alpha] 0.05\n",
       "\\item[\\$method] 'gls'\n",
       "\\item[\\$complete] TRUE\n",
       "\\end{description}\n",
       "\n",
       "\\item[\\$trim] FALSE\n",
       "\\item[\\$allowParallel] TRUE\n",
       "\\end{description}\n"
      ],
      "text/markdown": [
       "$method\n",
       ":   'repeatedcv'\n",
       "$number\n",
       ":   5\n",
       "$repeats\n",
       ":   5\n",
       "$p\n",
       ":   0.75\n",
       "$initialWindow\n",
       ":   NULL\n",
       "$horizon\n",
       ":   1\n",
       "$fixedWindow\n",
       ":   TRUE\n",
       "$verboseIter\n",
       ":   FALSE\n",
       "$returnData\n",
       ":   TRUE\n",
       "$returnResamp\n",
       ":   'final'\n",
       "$savePredictions\n",
       ":   FALSE\n",
       "$classProbs\n",
       ":   FALSE\n",
       "$summaryFunction\n",
       ":   ```r\n",
       "function (data, lev = NULL, model = NULL) \n",
       "{\n",
       "    if (is.character(data$obs)) \n",
       "        data$obs <- factor(data$obs, levels = lev)\n",
       "    postResample(data[, \"pred\"], data[, \"obs\"])\n",
       "}\n",
       "```\n",
       "$selectionFunction\n",
       ":   'best'\n",
       "$preProcOptions\n",
       ":   $thresh\n",
       ":   0.95\n",
       "$ICAcomp\n",
       ":   3\n",
       "$k\n",
       ":   5\n",
       "\n",
       "\n",
       "\n",
       "$index\n",
       ":   NULL\n",
       "$indexOut\n",
       ":   NULL\n",
       "$timingSamps\n",
       ":   0\n",
       "$predictionBounds\n",
       ":   1. FALSE\n",
       "2. FALSE\n",
       "\n",
       "\n",
       "\n",
       "$seeds\n",
       ":   &lt;NA&gt;\n",
       "$adaptive\n",
       ":   $min\n",
       ":   5\n",
       "$alpha\n",
       ":   0.05\n",
       "$method\n",
       ":   'gls'\n",
       "$complete\n",
       ":   TRUE\n",
       "\n",
       "\n",
       "\n",
       "$trim\n",
       ":   FALSE\n",
       "$allowParallel\n",
       ":   TRUE\n",
       "\n",
       "\n"
      ],
      "text/plain": [
       "$method\n",
       "[1] \"repeatedcv\"\n",
       "\n",
       "$number\n",
       "[1] 5\n",
       "\n",
       "$repeats\n",
       "[1] 5\n",
       "\n",
       "$p\n",
       "[1] 0.75\n",
       "\n",
       "$initialWindow\n",
       "NULL\n",
       "\n",
       "$horizon\n",
       "[1] 1\n",
       "\n",
       "$fixedWindow\n",
       "[1] TRUE\n",
       "\n",
       "$verboseIter\n",
       "[1] FALSE\n",
       "\n",
       "$returnData\n",
       "[1] TRUE\n",
       "\n",
       "$returnResamp\n",
       "[1] \"final\"\n",
       "\n",
       "$savePredictions\n",
       "[1] FALSE\n",
       "\n",
       "$classProbs\n",
       "[1] FALSE\n",
       "\n",
       "$summaryFunction\n",
       "function (data, lev = NULL, model = NULL) \n",
       "{\n",
       "    if (is.character(data$obs)) \n",
       "        data$obs <- factor(data$obs, levels = lev)\n",
       "    postResample(data[, \"pred\"], data[, \"obs\"])\n",
       "}\n",
       "<bytecode: 0x00000182c5b5db48>\n",
       "<environment: namespace:caret>\n",
       "\n",
       "$selectionFunction\n",
       "[1] \"best\"\n",
       "\n",
       "$preProcOptions\n",
       "$preProcOptions$thresh\n",
       "[1] 0.95\n",
       "\n",
       "$preProcOptions$ICAcomp\n",
       "[1] 3\n",
       "\n",
       "$preProcOptions$k\n",
       "[1] 5\n",
       "\n",
       "\n",
       "$index\n",
       "NULL\n",
       "\n",
       "$indexOut\n",
       "NULL\n",
       "\n",
       "$timingSamps\n",
       "[1] 0\n",
       "\n",
       "$predictionBounds\n",
       "[1] FALSE FALSE\n",
       "\n",
       "$seeds\n",
       "[1] NA\n",
       "\n",
       "$adaptive\n",
       "$adaptive$min\n",
       "[1] 5\n",
       "\n",
       "$adaptive$alpha\n",
       "[1] 0.05\n",
       "\n",
       "$adaptive$method\n",
       "[1] \"gls\"\n",
       "\n",
       "$adaptive$complete\n",
       "[1] TRUE\n",
       "\n",
       "\n",
       "$trim\n",
       "[1] FALSE\n",
       "\n",
       "$allowParallel\n",
       "[1] TRUE\n"
      ]
     },
     "metadata": {},
     "output_type": "display_data"
    }
   ],
   "source": [
    "ctrl <- trainControl(method = 'repeatedcv', number = 5, repeats = 5)\n",
    "ctrl"
   ]
  },
  {
   "cell_type": "code",
   "execution_count": 19,
   "id": "95a3bbbf-d07f-452e-a462-e82eec8f6585",
   "metadata": {
    "tags": []
   },
   "outputs": [],
   "source": [
    "set.seed(3335)\n",
    "suppressWarnings(suppressMessages(library(MASS, quiet = T)))\n",
    "modQdaFit <- train(classe~. , data = Train, method = 'qda', preProcess = c('center', 'scale'), \n",
    "               trControl = ctrl)"
   ]
  },
  {
   "cell_type": "code",
   "execution_count": 20,
   "id": "dc04339d-97f6-4ca0-a6c6-c7bb06386cd3",
   "metadata": {
    "tags": []
   },
   "outputs": [
    {
     "data": {
      "text/html": [
       "<table class=\"dataframe\">\n",
       "<caption>A data.frame: 1 × 5</caption>\n",
       "<thead>\n",
       "\t<tr><th></th><th scope=col>parameter</th><th scope=col>Accuracy</th><th scope=col>Kappa</th><th scope=col>AccuracySD</th><th scope=col>KappaSD</th></tr>\n",
       "\t<tr><th></th><th scope=col>&lt;chr&gt;</th><th scope=col>&lt;dbl&gt;</th><th scope=col>&lt;dbl&gt;</th><th scope=col>&lt;dbl&gt;</th><th scope=col>&lt;dbl&gt;</th></tr>\n",
       "</thead>\n",
       "<tbody>\n",
       "\t<tr><th scope=row>1</th><td>none</td><td>0.8930502</td><td>0.8649185</td><td>0.005943923</td><td>0.007469182</td></tr>\n",
       "</tbody>\n",
       "</table>\n"
      ],
      "text/latex": [
       "A data.frame: 1 × 5\n",
       "\\begin{tabular}{r|lllll}\n",
       "  & parameter & Accuracy & Kappa & AccuracySD & KappaSD\\\\\n",
       "  & <chr> & <dbl> & <dbl> & <dbl> & <dbl>\\\\\n",
       "\\hline\n",
       "\t1 & none & 0.8930502 & 0.8649185 & 0.005943923 & 0.007469182\\\\\n",
       "\\end{tabular}\n"
      ],
      "text/markdown": [
       "\n",
       "A data.frame: 1 × 5\n",
       "\n",
       "| <!--/--> | parameter &lt;chr&gt; | Accuracy &lt;dbl&gt; | Kappa &lt;dbl&gt; | AccuracySD &lt;dbl&gt; | KappaSD &lt;dbl&gt; |\n",
       "|---|---|---|---|---|---|\n",
       "| 1 | none | 0.8930502 | 0.8649185 | 0.005943923 | 0.007469182 |\n",
       "\n"
      ],
      "text/plain": [
       "  parameter Accuracy  Kappa     AccuracySD  KappaSD    \n",
       "1 none      0.8930502 0.8649185 0.005943923 0.007469182"
      ]
     },
     "metadata": {},
     "output_type": "display_data"
    }
   ],
   "source": [
    "modQdaFit$results"
   ]
  },
  {
   "cell_type": "code",
   "execution_count": 21,
   "id": "dbce8746-dd8c-46e4-b9b1-4ac94d78fe9d",
   "metadata": {
    "tags": []
   },
   "outputs": [],
   "source": [
    "predictQda<-predict(modQdaFit, Test)\n",
    "predictQda<-data.frame(class = predictQda)"
   ]
  },
  {
   "cell_type": "code",
   "execution_count": 22,
   "id": "390310d0-26b8-4fac-bb2a-b5b3448809cb",
   "metadata": {},
   "outputs": [],
   "source": [
    "# Random Forest\n",
    "set.seed(3335)\n",
    "#Cross validation set\n",
    "cvset <- createDataPartition(trainPredSet$classe, p=.8, list = F)\n",
    "cvTrain <- trainPredSet[cvset,] \n",
    "cvTest <- trainPredSet[-cvset,]"
   ]
  },
  {
   "cell_type": "code",
   "execution_count": 23,
   "id": "aeb91b7f-46cb-40f6-b482-376b1af4b1a4",
   "metadata": {},
   "outputs": [],
   "source": [
    "inTrainRF <- createDataPartition(cvTrain$classe, p = .7, list = F)\n",
    "\n",
    "train <- cvTrain[inTrainRF,]\n",
    "test <- cvTrain[-inTrainRF,]"
   ]
  },
  {
   "cell_type": "code",
   "execution_count": 24,
   "id": "a6eccdf4-9a0b-450e-86f3-adfd1fcb18cc",
   "metadata": {},
   "outputs": [],
   "source": [
    "modRfFit <- randomForest(classe~., data = train)"
   ]
  },
  {
   "cell_type": "code",
   "execution_count": 67,
   "id": "c7e48646-2b7e-427a-a4ed-58e351cb8441",
   "metadata": {
    "tags": []
   },
   "outputs": [
    {
     "data": {
      "text/html": [
       "500"
      ],
      "text/latex": [
       "500"
      ],
      "text/markdown": [
       "500"
      ],
      "text/plain": [
       "[1] 500"
      ]
     },
     "metadata": {},
     "output_type": "display_data"
    }
   ],
   "source": [
    "# ntree\n",
    "modRfFit$ntree"
   ]
  },
  {
   "cell_type": "code",
   "execution_count": 68,
   "id": "b4c62b67-f9c1-4e83-9e51-7550504c2924",
   "metadata": {
    "tags": []
   },
   "outputs": [
    {
     "data": {
      "text/html": [
       "<table class=\"dataframe\">\n",
       "<caption>A matrix: 500 × 6 of type dbl</caption>\n",
       "<thead>\n",
       "\t<tr><th scope=col>OOB</th><th scope=col>A</th><th scope=col>B</th><th scope=col>C</th><th scope=col>D</th><th scope=col>E</th></tr>\n",
       "</thead>\n",
       "<tbody>\n",
       "\t<tr><td>0.11345776</td><td>0.07712082</td><td>0.14046392</td><td>0.16320475</td><td>0.11911765</td><td>0.092903226</td></tr>\n",
       "\t<tr><td>0.10512782</td><td>0.06694561</td><td>0.13443396</td><td>0.15254237</td><td>0.11029412</td><td>0.086206897</td></tr>\n",
       "\t<tr><td>0.09846827</td><td>0.06141465</td><td>0.12098299</td><td>0.13802817</td><td>0.11621021</td><td>0.079628401</td></tr>\n",
       "\t<tr><td>0.09455804</td><td>0.05595463</td><td>0.11771364</td><td>0.12695435</td><td>0.10807292</td><td>0.087853774</td></tr>\n",
       "\t<tr><td>0.08816682</td><td>0.04876325</td><td>0.11128776</td><td>0.12485414</td><td>0.10901340</td><td>0.071982281</td></tr>\n",
       "\t<tr><td>0.08127003</td><td>0.03872283</td><td>0.10880567</td><td>0.11547085</td><td>0.10745743</td><td>0.062896406</td></tr>\n",
       "\t<tr><td>0.06928253</td><td>0.03597602</td><td>0.09394983</td><td>0.09716157</td><td>0.08553387</td><td>0.054067971</td></tr>\n",
       "\t<tr><td>0.06146660</td><td>0.02820597</td><td>0.08680892</td><td>0.09032258</td><td>0.07539683</td><td>0.046700508</td></tr>\n",
       "\t<tr><td>0.05320133</td><td>0.02401818</td><td>0.07684918</td><td>0.07336523</td><td>0.07195053</td><td>0.037783375</td></tr>\n",
       "\t<tr><td>0.05119956</td><td>0.02353320</td><td>0.07421503</td><td>0.07135307</td><td>0.06759777</td><td>0.036126443</td></tr>\n",
       "\t<tr><td>0.04430611</td><td>0.01768489</td><td>0.06113744</td><td>0.06509186</td><td>0.05859375</td><td>0.035376183</td></tr>\n",
       "\t<tr><td>0.04048250</td><td>0.01637765</td><td>0.05581835</td><td>0.05817610</td><td>0.05512249</td><td>0.031824963</td></tr>\n",
       "\t<tr><td>0.03658425</td><td>0.01412067</td><td>0.05382436</td><td>0.05389848</td><td>0.05058366</td><td>0.024293505</td></tr>\n",
       "\t<tr><td>0.03398633</td><td>0.01345723</td><td>0.04616109</td><td>0.05384213</td><td>0.04053304</td><td>0.028259792</td></tr>\n",
       "\t<tr><td>0.03023129</td><td>0.01184758</td><td>0.04235294</td><td>0.04597701</td><td>0.03664631</td><td>0.025260030</td></tr>\n",
       "\t<tr><td>0.02848562</td><td>0.01120359</td><td>0.04090268</td><td>0.04334204</td><td>0.03442532</td><td>0.022761009</td></tr>\n",
       "\t<tr><td>0.02374670</td><td>0.00864000</td><td>0.03479079</td><td>0.03810021</td><td>0.02941176</td><td>0.016823355</td></tr>\n",
       "\t<tr><td>0.02310982</td><td>0.00768000</td><td>0.03432064</td><td>0.03705637</td><td>0.02941176</td><td>0.016328550</td></tr>\n",
       "\t<tr><td>0.02174506</td><td>0.00704000</td><td>0.03102962</td><td>0.03601253</td><td>0.02663707</td><td>0.016823355</td></tr>\n",
       "\t<tr><td>0.01983441</td><td>0.00544000</td><td>0.02820874</td><td>0.03705637</td><td>0.02497225</td><td>0.012370114</td></tr>\n",
       "\t<tr><td>0.01946870</td><td>0.00672000</td><td>0.02867889</td><td>0.03286385</td><td>0.02386238</td><td>0.012864918</td></tr>\n",
       "\t<tr><td>0.01955968</td><td>0.00576000</td><td>0.02726845</td><td>0.03234220</td><td>0.02885683</td><td>0.012370114</td></tr>\n",
       "\t<tr><td>0.01819505</td><td>0.00512000</td><td>0.02491772</td><td>0.03182055</td><td>0.02608213</td><td>0.011380505</td></tr>\n",
       "\t<tr><td>0.01692140</td><td>0.00544000</td><td>0.02115656</td><td>0.03182055</td><td>0.02386238</td><td>0.009896091</td></tr>\n",
       "\t<tr><td>0.01673945</td><td>0.00512000</td><td>0.02209685</td><td>0.03077726</td><td>0.02330744</td><td>0.009896091</td></tr>\n",
       "\t<tr><td>0.01610262</td><td>0.00448000</td><td>0.02256700</td><td>0.02921231</td><td>0.02219756</td><td>0.009401286</td></tr>\n",
       "\t<tr><td>0.01510189</td><td>0.00416000</td><td>0.01974612</td><td>0.02764737</td><td>0.02108768</td><td>0.009896091</td></tr>\n",
       "\t<tr><td>0.01501092</td><td>0.00448000</td><td>0.01974612</td><td>0.02660407</td><td>0.02108768</td><td>0.009896091</td></tr>\n",
       "\t<tr><td>0.01428311</td><td>0.00480000</td><td>0.02021627</td><td>0.02295253</td><td>0.02053274</td><td>0.008906482</td></tr>\n",
       "\t<tr><td>0.01355531</td><td>0.00448000</td><td>0.01974612</td><td>0.02295253</td><td>0.01942286</td><td>0.006927264</td></tr>\n",
       "\t<tr><td>⋮</td><td>⋮</td><td>⋮</td><td>⋮</td><td>⋮</td><td>⋮</td></tr>\n",
       "\t<tr><td>0.006914119</td><td>0.00064</td><td>0.008932769</td><td>0.009911320</td><td>0.01442841</td><td>0.004948046</td></tr>\n",
       "\t<tr><td>0.006823144</td><td>0.00064</td><td>0.008932769</td><td>0.009389671</td><td>0.01442841</td><td>0.004948046</td></tr>\n",
       "\t<tr><td>0.006823144</td><td>0.00064</td><td>0.008932769</td><td>0.009911320</td><td>0.01442841</td><td>0.004453241</td></tr>\n",
       "\t<tr><td>0.007096070</td><td>0.00064</td><td>0.009402915</td><td>0.009911320</td><td>0.01442841</td><td>0.005442850</td></tr>\n",
       "\t<tr><td>0.006914119</td><td>0.00064</td><td>0.009402915</td><td>0.009911320</td><td>0.01442841</td><td>0.004453241</td></tr>\n",
       "\t<tr><td>0.007005095</td><td>0.00064</td><td>0.008932769</td><td>0.010432968</td><td>0.01442841</td><td>0.004948046</td></tr>\n",
       "\t<tr><td>0.007005095</td><td>0.00064</td><td>0.009402915</td><td>0.010432968</td><td>0.01387347</td><td>0.004948046</td></tr>\n",
       "\t<tr><td>0.007005095</td><td>0.00064</td><td>0.009402915</td><td>0.009911320</td><td>0.01442841</td><td>0.004948046</td></tr>\n",
       "\t<tr><td>0.007096070</td><td>0.00064</td><td>0.009873061</td><td>0.009911320</td><td>0.01442841</td><td>0.004948046</td></tr>\n",
       "\t<tr><td>0.007187045</td><td>0.00064</td><td>0.009873061</td><td>0.009911320</td><td>0.01442841</td><td>0.005442850</td></tr>\n",
       "\t<tr><td>0.007005095</td><td>0.00064</td><td>0.009402915</td><td>0.009911320</td><td>0.01387347</td><td>0.005442850</td></tr>\n",
       "\t<tr><td>0.007096070</td><td>0.00064</td><td>0.009402915</td><td>0.009911320</td><td>0.01442841</td><td>0.005442850</td></tr>\n",
       "\t<tr><td>0.007187045</td><td>0.00064</td><td>0.009873061</td><td>0.009911320</td><td>0.01442841</td><td>0.005442850</td></tr>\n",
       "\t<tr><td>0.007187045</td><td>0.00064</td><td>0.009873061</td><td>0.009911320</td><td>0.01442841</td><td>0.005442850</td></tr>\n",
       "\t<tr><td>0.007278020</td><td>0.00064</td><td>0.009873061</td><td>0.010432968</td><td>0.01442841</td><td>0.005442850</td></tr>\n",
       "\t<tr><td>0.006914119</td><td>0.00064</td><td>0.009402915</td><td>0.009911320</td><td>0.01442841</td><td>0.004453241</td></tr>\n",
       "\t<tr><td>0.007005095</td><td>0.00064</td><td>0.009873061</td><td>0.009911320</td><td>0.01442841</td><td>0.004453241</td></tr>\n",
       "\t<tr><td>0.007096070</td><td>0.00064</td><td>0.009873061</td><td>0.010432968</td><td>0.01442841</td><td>0.004453241</td></tr>\n",
       "\t<tr><td>0.007096070</td><td>0.00064</td><td>0.009873061</td><td>0.010432968</td><td>0.01442841</td><td>0.004453241</td></tr>\n",
       "\t<tr><td>0.007187045</td><td>0.00064</td><td>0.009873061</td><td>0.010432968</td><td>0.01442841</td><td>0.004948046</td></tr>\n",
       "\t<tr><td>0.007005095</td><td>0.00064</td><td>0.009873061</td><td>0.009911320</td><td>0.01442841</td><td>0.004453241</td></tr>\n",
       "\t<tr><td>0.007005095</td><td>0.00064</td><td>0.009873061</td><td>0.009911320</td><td>0.01442841</td><td>0.004453241</td></tr>\n",
       "\t<tr><td>0.007005095</td><td>0.00064</td><td>0.009873061</td><td>0.009911320</td><td>0.01442841</td><td>0.004453241</td></tr>\n",
       "\t<tr><td>0.007096070</td><td>0.00064</td><td>0.009873061</td><td>0.010432968</td><td>0.01442841</td><td>0.004453241</td></tr>\n",
       "\t<tr><td>0.007368996</td><td>0.00064</td><td>0.009873061</td><td>0.011476265</td><td>0.01442841</td><td>0.004948046</td></tr>\n",
       "\t<tr><td>0.007187045</td><td>0.00064</td><td>0.009873061</td><td>0.010432968</td><td>0.01442841</td><td>0.004948046</td></tr>\n",
       "\t<tr><td>0.007187045</td><td>0.00064</td><td>0.009873061</td><td>0.010432968</td><td>0.01442841</td><td>0.004948046</td></tr>\n",
       "\t<tr><td>0.007278020</td><td>0.00064</td><td>0.009873061</td><td>0.010954617</td><td>0.01442841</td><td>0.004948046</td></tr>\n",
       "\t<tr><td>0.007096070</td><td>0.00064</td><td>0.009873061</td><td>0.009911320</td><td>0.01442841</td><td>0.004948046</td></tr>\n",
       "\t<tr><td>0.007187045</td><td>0.00064</td><td>0.009873061</td><td>0.010432968</td><td>0.01442841</td><td>0.004948046</td></tr>\n",
       "</tbody>\n",
       "</table>\n"
      ],
      "text/latex": [
       "A matrix: 500 × 6 of type dbl\n",
       "\\begin{tabular}{llllll}\n",
       " OOB & A & B & C & D & E\\\\\n",
       "\\hline\n",
       "\t 0.11345776 & 0.07712082 & 0.14046392 & 0.16320475 & 0.11911765 & 0.092903226\\\\\n",
       "\t 0.10512782 & 0.06694561 & 0.13443396 & 0.15254237 & 0.11029412 & 0.086206897\\\\\n",
       "\t 0.09846827 & 0.06141465 & 0.12098299 & 0.13802817 & 0.11621021 & 0.079628401\\\\\n",
       "\t 0.09455804 & 0.05595463 & 0.11771364 & 0.12695435 & 0.10807292 & 0.087853774\\\\\n",
       "\t 0.08816682 & 0.04876325 & 0.11128776 & 0.12485414 & 0.10901340 & 0.071982281\\\\\n",
       "\t 0.08127003 & 0.03872283 & 0.10880567 & 0.11547085 & 0.10745743 & 0.062896406\\\\\n",
       "\t 0.06928253 & 0.03597602 & 0.09394983 & 0.09716157 & 0.08553387 & 0.054067971\\\\\n",
       "\t 0.06146660 & 0.02820597 & 0.08680892 & 0.09032258 & 0.07539683 & 0.046700508\\\\\n",
       "\t 0.05320133 & 0.02401818 & 0.07684918 & 0.07336523 & 0.07195053 & 0.037783375\\\\\n",
       "\t 0.05119956 & 0.02353320 & 0.07421503 & 0.07135307 & 0.06759777 & 0.036126443\\\\\n",
       "\t 0.04430611 & 0.01768489 & 0.06113744 & 0.06509186 & 0.05859375 & 0.035376183\\\\\n",
       "\t 0.04048250 & 0.01637765 & 0.05581835 & 0.05817610 & 0.05512249 & 0.031824963\\\\\n",
       "\t 0.03658425 & 0.01412067 & 0.05382436 & 0.05389848 & 0.05058366 & 0.024293505\\\\\n",
       "\t 0.03398633 & 0.01345723 & 0.04616109 & 0.05384213 & 0.04053304 & 0.028259792\\\\\n",
       "\t 0.03023129 & 0.01184758 & 0.04235294 & 0.04597701 & 0.03664631 & 0.025260030\\\\\n",
       "\t 0.02848562 & 0.01120359 & 0.04090268 & 0.04334204 & 0.03442532 & 0.022761009\\\\\n",
       "\t 0.02374670 & 0.00864000 & 0.03479079 & 0.03810021 & 0.02941176 & 0.016823355\\\\\n",
       "\t 0.02310982 & 0.00768000 & 0.03432064 & 0.03705637 & 0.02941176 & 0.016328550\\\\\n",
       "\t 0.02174506 & 0.00704000 & 0.03102962 & 0.03601253 & 0.02663707 & 0.016823355\\\\\n",
       "\t 0.01983441 & 0.00544000 & 0.02820874 & 0.03705637 & 0.02497225 & 0.012370114\\\\\n",
       "\t 0.01946870 & 0.00672000 & 0.02867889 & 0.03286385 & 0.02386238 & 0.012864918\\\\\n",
       "\t 0.01955968 & 0.00576000 & 0.02726845 & 0.03234220 & 0.02885683 & 0.012370114\\\\\n",
       "\t 0.01819505 & 0.00512000 & 0.02491772 & 0.03182055 & 0.02608213 & 0.011380505\\\\\n",
       "\t 0.01692140 & 0.00544000 & 0.02115656 & 0.03182055 & 0.02386238 & 0.009896091\\\\\n",
       "\t 0.01673945 & 0.00512000 & 0.02209685 & 0.03077726 & 0.02330744 & 0.009896091\\\\\n",
       "\t 0.01610262 & 0.00448000 & 0.02256700 & 0.02921231 & 0.02219756 & 0.009401286\\\\\n",
       "\t 0.01510189 & 0.00416000 & 0.01974612 & 0.02764737 & 0.02108768 & 0.009896091\\\\\n",
       "\t 0.01501092 & 0.00448000 & 0.01974612 & 0.02660407 & 0.02108768 & 0.009896091\\\\\n",
       "\t 0.01428311 & 0.00480000 & 0.02021627 & 0.02295253 & 0.02053274 & 0.008906482\\\\\n",
       "\t 0.01355531 & 0.00448000 & 0.01974612 & 0.02295253 & 0.01942286 & 0.006927264\\\\\n",
       "\t ⋮ & ⋮ & ⋮ & ⋮ & ⋮ & ⋮\\\\\n",
       "\t 0.006914119 & 0.00064 & 0.008932769 & 0.009911320 & 0.01442841 & 0.004948046\\\\\n",
       "\t 0.006823144 & 0.00064 & 0.008932769 & 0.009389671 & 0.01442841 & 0.004948046\\\\\n",
       "\t 0.006823144 & 0.00064 & 0.008932769 & 0.009911320 & 0.01442841 & 0.004453241\\\\\n",
       "\t 0.007096070 & 0.00064 & 0.009402915 & 0.009911320 & 0.01442841 & 0.005442850\\\\\n",
       "\t 0.006914119 & 0.00064 & 0.009402915 & 0.009911320 & 0.01442841 & 0.004453241\\\\\n",
       "\t 0.007005095 & 0.00064 & 0.008932769 & 0.010432968 & 0.01442841 & 0.004948046\\\\\n",
       "\t 0.007005095 & 0.00064 & 0.009402915 & 0.010432968 & 0.01387347 & 0.004948046\\\\\n",
       "\t 0.007005095 & 0.00064 & 0.009402915 & 0.009911320 & 0.01442841 & 0.004948046\\\\\n",
       "\t 0.007096070 & 0.00064 & 0.009873061 & 0.009911320 & 0.01442841 & 0.004948046\\\\\n",
       "\t 0.007187045 & 0.00064 & 0.009873061 & 0.009911320 & 0.01442841 & 0.005442850\\\\\n",
       "\t 0.007005095 & 0.00064 & 0.009402915 & 0.009911320 & 0.01387347 & 0.005442850\\\\\n",
       "\t 0.007096070 & 0.00064 & 0.009402915 & 0.009911320 & 0.01442841 & 0.005442850\\\\\n",
       "\t 0.007187045 & 0.00064 & 0.009873061 & 0.009911320 & 0.01442841 & 0.005442850\\\\\n",
       "\t 0.007187045 & 0.00064 & 0.009873061 & 0.009911320 & 0.01442841 & 0.005442850\\\\\n",
       "\t 0.007278020 & 0.00064 & 0.009873061 & 0.010432968 & 0.01442841 & 0.005442850\\\\\n",
       "\t 0.006914119 & 0.00064 & 0.009402915 & 0.009911320 & 0.01442841 & 0.004453241\\\\\n",
       "\t 0.007005095 & 0.00064 & 0.009873061 & 0.009911320 & 0.01442841 & 0.004453241\\\\\n",
       "\t 0.007096070 & 0.00064 & 0.009873061 & 0.010432968 & 0.01442841 & 0.004453241\\\\\n",
       "\t 0.007096070 & 0.00064 & 0.009873061 & 0.010432968 & 0.01442841 & 0.004453241\\\\\n",
       "\t 0.007187045 & 0.00064 & 0.009873061 & 0.010432968 & 0.01442841 & 0.004948046\\\\\n",
       "\t 0.007005095 & 0.00064 & 0.009873061 & 0.009911320 & 0.01442841 & 0.004453241\\\\\n",
       "\t 0.007005095 & 0.00064 & 0.009873061 & 0.009911320 & 0.01442841 & 0.004453241\\\\\n",
       "\t 0.007005095 & 0.00064 & 0.009873061 & 0.009911320 & 0.01442841 & 0.004453241\\\\\n",
       "\t 0.007096070 & 0.00064 & 0.009873061 & 0.010432968 & 0.01442841 & 0.004453241\\\\\n",
       "\t 0.007368996 & 0.00064 & 0.009873061 & 0.011476265 & 0.01442841 & 0.004948046\\\\\n",
       "\t 0.007187045 & 0.00064 & 0.009873061 & 0.010432968 & 0.01442841 & 0.004948046\\\\\n",
       "\t 0.007187045 & 0.00064 & 0.009873061 & 0.010432968 & 0.01442841 & 0.004948046\\\\\n",
       "\t 0.007278020 & 0.00064 & 0.009873061 & 0.010954617 & 0.01442841 & 0.004948046\\\\\n",
       "\t 0.007096070 & 0.00064 & 0.009873061 & 0.009911320 & 0.01442841 & 0.004948046\\\\\n",
       "\t 0.007187045 & 0.00064 & 0.009873061 & 0.010432968 & 0.01442841 & 0.004948046\\\\\n",
       "\\end{tabular}\n"
      ],
      "text/markdown": [
       "\n",
       "A matrix: 500 × 6 of type dbl\n",
       "\n",
       "| OOB | A | B | C | D | E |\n",
       "|---|---|---|---|---|---|\n",
       "| 0.11345776 | 0.07712082 | 0.14046392 | 0.16320475 | 0.11911765 | 0.092903226 |\n",
       "| 0.10512782 | 0.06694561 | 0.13443396 | 0.15254237 | 0.11029412 | 0.086206897 |\n",
       "| 0.09846827 | 0.06141465 | 0.12098299 | 0.13802817 | 0.11621021 | 0.079628401 |\n",
       "| 0.09455804 | 0.05595463 | 0.11771364 | 0.12695435 | 0.10807292 | 0.087853774 |\n",
       "| 0.08816682 | 0.04876325 | 0.11128776 | 0.12485414 | 0.10901340 | 0.071982281 |\n",
       "| 0.08127003 | 0.03872283 | 0.10880567 | 0.11547085 | 0.10745743 | 0.062896406 |\n",
       "| 0.06928253 | 0.03597602 | 0.09394983 | 0.09716157 | 0.08553387 | 0.054067971 |\n",
       "| 0.06146660 | 0.02820597 | 0.08680892 | 0.09032258 | 0.07539683 | 0.046700508 |\n",
       "| 0.05320133 | 0.02401818 | 0.07684918 | 0.07336523 | 0.07195053 | 0.037783375 |\n",
       "| 0.05119956 | 0.02353320 | 0.07421503 | 0.07135307 | 0.06759777 | 0.036126443 |\n",
       "| 0.04430611 | 0.01768489 | 0.06113744 | 0.06509186 | 0.05859375 | 0.035376183 |\n",
       "| 0.04048250 | 0.01637765 | 0.05581835 | 0.05817610 | 0.05512249 | 0.031824963 |\n",
       "| 0.03658425 | 0.01412067 | 0.05382436 | 0.05389848 | 0.05058366 | 0.024293505 |\n",
       "| 0.03398633 | 0.01345723 | 0.04616109 | 0.05384213 | 0.04053304 | 0.028259792 |\n",
       "| 0.03023129 | 0.01184758 | 0.04235294 | 0.04597701 | 0.03664631 | 0.025260030 |\n",
       "| 0.02848562 | 0.01120359 | 0.04090268 | 0.04334204 | 0.03442532 | 0.022761009 |\n",
       "| 0.02374670 | 0.00864000 | 0.03479079 | 0.03810021 | 0.02941176 | 0.016823355 |\n",
       "| 0.02310982 | 0.00768000 | 0.03432064 | 0.03705637 | 0.02941176 | 0.016328550 |\n",
       "| 0.02174506 | 0.00704000 | 0.03102962 | 0.03601253 | 0.02663707 | 0.016823355 |\n",
       "| 0.01983441 | 0.00544000 | 0.02820874 | 0.03705637 | 0.02497225 | 0.012370114 |\n",
       "| 0.01946870 | 0.00672000 | 0.02867889 | 0.03286385 | 0.02386238 | 0.012864918 |\n",
       "| 0.01955968 | 0.00576000 | 0.02726845 | 0.03234220 | 0.02885683 | 0.012370114 |\n",
       "| 0.01819505 | 0.00512000 | 0.02491772 | 0.03182055 | 0.02608213 | 0.011380505 |\n",
       "| 0.01692140 | 0.00544000 | 0.02115656 | 0.03182055 | 0.02386238 | 0.009896091 |\n",
       "| 0.01673945 | 0.00512000 | 0.02209685 | 0.03077726 | 0.02330744 | 0.009896091 |\n",
       "| 0.01610262 | 0.00448000 | 0.02256700 | 0.02921231 | 0.02219756 | 0.009401286 |\n",
       "| 0.01510189 | 0.00416000 | 0.01974612 | 0.02764737 | 0.02108768 | 0.009896091 |\n",
       "| 0.01501092 | 0.00448000 | 0.01974612 | 0.02660407 | 0.02108768 | 0.009896091 |\n",
       "| 0.01428311 | 0.00480000 | 0.02021627 | 0.02295253 | 0.02053274 | 0.008906482 |\n",
       "| 0.01355531 | 0.00448000 | 0.01974612 | 0.02295253 | 0.01942286 | 0.006927264 |\n",
       "| ⋮ | ⋮ | ⋮ | ⋮ | ⋮ | ⋮ |\n",
       "| 0.006914119 | 0.00064 | 0.008932769 | 0.009911320 | 0.01442841 | 0.004948046 |\n",
       "| 0.006823144 | 0.00064 | 0.008932769 | 0.009389671 | 0.01442841 | 0.004948046 |\n",
       "| 0.006823144 | 0.00064 | 0.008932769 | 0.009911320 | 0.01442841 | 0.004453241 |\n",
       "| 0.007096070 | 0.00064 | 0.009402915 | 0.009911320 | 0.01442841 | 0.005442850 |\n",
       "| 0.006914119 | 0.00064 | 0.009402915 | 0.009911320 | 0.01442841 | 0.004453241 |\n",
       "| 0.007005095 | 0.00064 | 0.008932769 | 0.010432968 | 0.01442841 | 0.004948046 |\n",
       "| 0.007005095 | 0.00064 | 0.009402915 | 0.010432968 | 0.01387347 | 0.004948046 |\n",
       "| 0.007005095 | 0.00064 | 0.009402915 | 0.009911320 | 0.01442841 | 0.004948046 |\n",
       "| 0.007096070 | 0.00064 | 0.009873061 | 0.009911320 | 0.01442841 | 0.004948046 |\n",
       "| 0.007187045 | 0.00064 | 0.009873061 | 0.009911320 | 0.01442841 | 0.005442850 |\n",
       "| 0.007005095 | 0.00064 | 0.009402915 | 0.009911320 | 0.01387347 | 0.005442850 |\n",
       "| 0.007096070 | 0.00064 | 0.009402915 | 0.009911320 | 0.01442841 | 0.005442850 |\n",
       "| 0.007187045 | 0.00064 | 0.009873061 | 0.009911320 | 0.01442841 | 0.005442850 |\n",
       "| 0.007187045 | 0.00064 | 0.009873061 | 0.009911320 | 0.01442841 | 0.005442850 |\n",
       "| 0.007278020 | 0.00064 | 0.009873061 | 0.010432968 | 0.01442841 | 0.005442850 |\n",
       "| 0.006914119 | 0.00064 | 0.009402915 | 0.009911320 | 0.01442841 | 0.004453241 |\n",
       "| 0.007005095 | 0.00064 | 0.009873061 | 0.009911320 | 0.01442841 | 0.004453241 |\n",
       "| 0.007096070 | 0.00064 | 0.009873061 | 0.010432968 | 0.01442841 | 0.004453241 |\n",
       "| 0.007096070 | 0.00064 | 0.009873061 | 0.010432968 | 0.01442841 | 0.004453241 |\n",
       "| 0.007187045 | 0.00064 | 0.009873061 | 0.010432968 | 0.01442841 | 0.004948046 |\n",
       "| 0.007005095 | 0.00064 | 0.009873061 | 0.009911320 | 0.01442841 | 0.004453241 |\n",
       "| 0.007005095 | 0.00064 | 0.009873061 | 0.009911320 | 0.01442841 | 0.004453241 |\n",
       "| 0.007005095 | 0.00064 | 0.009873061 | 0.009911320 | 0.01442841 | 0.004453241 |\n",
       "| 0.007096070 | 0.00064 | 0.009873061 | 0.010432968 | 0.01442841 | 0.004453241 |\n",
       "| 0.007368996 | 0.00064 | 0.009873061 | 0.011476265 | 0.01442841 | 0.004948046 |\n",
       "| 0.007187045 | 0.00064 | 0.009873061 | 0.010432968 | 0.01442841 | 0.004948046 |\n",
       "| 0.007187045 | 0.00064 | 0.009873061 | 0.010432968 | 0.01442841 | 0.004948046 |\n",
       "| 0.007278020 | 0.00064 | 0.009873061 | 0.010954617 | 0.01442841 | 0.004948046 |\n",
       "| 0.007096070 | 0.00064 | 0.009873061 | 0.009911320 | 0.01442841 | 0.004948046 |\n",
       "| 0.007187045 | 0.00064 | 0.009873061 | 0.010432968 | 0.01442841 | 0.004948046 |\n",
       "\n"
      ],
      "text/plain": [
       "      OOB         A          B           C           D          E          \n",
       " [1,] 0.11345776  0.07712082 0.14046392  0.16320475  0.11911765 0.092903226\n",
       " [2,] 0.10512782  0.06694561 0.13443396  0.15254237  0.11029412 0.086206897\n",
       " [3,] 0.09846827  0.06141465 0.12098299  0.13802817  0.11621021 0.079628401\n",
       " [4,] 0.09455804  0.05595463 0.11771364  0.12695435  0.10807292 0.087853774\n",
       " [5,] 0.08816682  0.04876325 0.11128776  0.12485414  0.10901340 0.071982281\n",
       " [6,] 0.08127003  0.03872283 0.10880567  0.11547085  0.10745743 0.062896406\n",
       " [7,] 0.06928253  0.03597602 0.09394983  0.09716157  0.08553387 0.054067971\n",
       " [8,] 0.06146660  0.02820597 0.08680892  0.09032258  0.07539683 0.046700508\n",
       " [9,] 0.05320133  0.02401818 0.07684918  0.07336523  0.07195053 0.037783375\n",
       "[10,] 0.05119956  0.02353320 0.07421503  0.07135307  0.06759777 0.036126443\n",
       "[11,] 0.04430611  0.01768489 0.06113744  0.06509186  0.05859375 0.035376183\n",
       "[12,] 0.04048250  0.01637765 0.05581835  0.05817610  0.05512249 0.031824963\n",
       "[13,] 0.03658425  0.01412067 0.05382436  0.05389848  0.05058366 0.024293505\n",
       "[14,] 0.03398633  0.01345723 0.04616109  0.05384213  0.04053304 0.028259792\n",
       "[15,] 0.03023129  0.01184758 0.04235294  0.04597701  0.03664631 0.025260030\n",
       "[16,] 0.02848562  0.01120359 0.04090268  0.04334204  0.03442532 0.022761009\n",
       "[17,] 0.02374670  0.00864000 0.03479079  0.03810021  0.02941176 0.016823355\n",
       "[18,] 0.02310982  0.00768000 0.03432064  0.03705637  0.02941176 0.016328550\n",
       "[19,] 0.02174506  0.00704000 0.03102962  0.03601253  0.02663707 0.016823355\n",
       "[20,] 0.01983441  0.00544000 0.02820874  0.03705637  0.02497225 0.012370114\n",
       "[21,] 0.01946870  0.00672000 0.02867889  0.03286385  0.02386238 0.012864918\n",
       "[22,] 0.01955968  0.00576000 0.02726845  0.03234220  0.02885683 0.012370114\n",
       "[23,] 0.01819505  0.00512000 0.02491772  0.03182055  0.02608213 0.011380505\n",
       "[24,] 0.01692140  0.00544000 0.02115656  0.03182055  0.02386238 0.009896091\n",
       "[25,] 0.01673945  0.00512000 0.02209685  0.03077726  0.02330744 0.009896091\n",
       "[26,] 0.01610262  0.00448000 0.02256700  0.02921231  0.02219756 0.009401286\n",
       "[27,] 0.01510189  0.00416000 0.01974612  0.02764737  0.02108768 0.009896091\n",
       "[28,] 0.01501092  0.00448000 0.01974612  0.02660407  0.02108768 0.009896091\n",
       "[29,] 0.01428311  0.00480000 0.02021627  0.02295253  0.02053274 0.008906482\n",
       "[30,] 0.01355531  0.00448000 0.01974612  0.02295253  0.01942286 0.006927264\n",
       "[31,] ⋮           ⋮          ⋮           ⋮           ⋮          ⋮          \n",
       "[32,] 0.006914119 0.00064    0.008932769 0.009911320 0.01442841 0.004948046\n",
       "[33,] 0.006823144 0.00064    0.008932769 0.009389671 0.01442841 0.004948046\n",
       "[34,] 0.006823144 0.00064    0.008932769 0.009911320 0.01442841 0.004453241\n",
       "[35,] 0.007096070 0.00064    0.009402915 0.009911320 0.01442841 0.005442850\n",
       "[36,] 0.006914119 0.00064    0.009402915 0.009911320 0.01442841 0.004453241\n",
       "[37,] 0.007005095 0.00064    0.008932769 0.010432968 0.01442841 0.004948046\n",
       "[38,] 0.007005095 0.00064    0.009402915 0.010432968 0.01387347 0.004948046\n",
       "[39,] 0.007005095 0.00064    0.009402915 0.009911320 0.01442841 0.004948046\n",
       "[40,] 0.007096070 0.00064    0.009873061 0.009911320 0.01442841 0.004948046\n",
       "[41,] 0.007187045 0.00064    0.009873061 0.009911320 0.01442841 0.005442850\n",
       "[42,] 0.007005095 0.00064    0.009402915 0.009911320 0.01387347 0.005442850\n",
       "[43,] 0.007096070 0.00064    0.009402915 0.009911320 0.01442841 0.005442850\n",
       "[44,] 0.007187045 0.00064    0.009873061 0.009911320 0.01442841 0.005442850\n",
       "[45,] 0.007187045 0.00064    0.009873061 0.009911320 0.01442841 0.005442850\n",
       "[46,] 0.007278020 0.00064    0.009873061 0.010432968 0.01442841 0.005442850\n",
       "[47,] 0.006914119 0.00064    0.009402915 0.009911320 0.01442841 0.004453241\n",
       "[48,] 0.007005095 0.00064    0.009873061 0.009911320 0.01442841 0.004453241\n",
       "[49,] 0.007096070 0.00064    0.009873061 0.010432968 0.01442841 0.004453241\n",
       "[50,] 0.007096070 0.00064    0.009873061 0.010432968 0.01442841 0.004453241\n",
       "[51,] 0.007187045 0.00064    0.009873061 0.010432968 0.01442841 0.004948046\n",
       "[52,] 0.007005095 0.00064    0.009873061 0.009911320 0.01442841 0.004453241\n",
       "[53,] 0.007005095 0.00064    0.009873061 0.009911320 0.01442841 0.004453241\n",
       "[54,] 0.007005095 0.00064    0.009873061 0.009911320 0.01442841 0.004453241\n",
       "[55,] 0.007096070 0.00064    0.009873061 0.010432968 0.01442841 0.004453241\n",
       "[56,] 0.007368996 0.00064    0.009873061 0.011476265 0.01442841 0.004948046\n",
       "[57,] 0.007187045 0.00064    0.009873061 0.010432968 0.01442841 0.004948046\n",
       "[58,] 0.007187045 0.00064    0.009873061 0.010432968 0.01442841 0.004948046\n",
       "[59,] 0.007278020 0.00064    0.009873061 0.010954617 0.01442841 0.004948046\n",
       "[60,] 0.007096070 0.00064    0.009873061 0.009911320 0.01442841 0.004948046\n",
       "[61,] 0.007187045 0.00064    0.009873061 0.010432968 0.01442841 0.004948046"
      ]
     },
     "metadata": {},
     "output_type": "display_data"
    }
   ],
   "source": [
    "#err. rate\n",
    "modRfFit$err.rate"
   ]
  },
  {
   "cell_type": "code",
   "execution_count": 59,
   "id": "191891db-fd0f-4592-80dc-8d74d540b525",
   "metadata": {
    "tags": []
   },
   "outputs": [
    {
     "data": {
      "text/html": [
       "<table class=\"dataframe\">\n",
       "<caption>A matrix: 5 × 6 of type dbl</caption>\n",
       "<thead>\n",
       "\t<tr><th></th><th scope=col>A</th><th scope=col>B</th><th scope=col>C</th><th scope=col>D</th><th scope=col>E</th><th scope=col>class.error</th></tr>\n",
       "</thead>\n",
       "<tbody>\n",
       "\t<tr><th scope=row>A</th><td>3123</td><td>   2</td><td>   0</td><td>   0</td><td>   0</td><td>0.000640000</td></tr>\n",
       "\t<tr><th scope=row>B</th><td>  17</td><td>2106</td><td>   4</td><td>   0</td><td>   0</td><td>0.009873061</td></tr>\n",
       "\t<tr><th scope=row>C</th><td>   0</td><td>  18</td><td>1897</td><td>   2</td><td>   0</td><td>0.010432968</td></tr>\n",
       "\t<tr><th scope=row>D</th><td>   0</td><td>   0</td><td>  25</td><td>1776</td><td>   1</td><td>0.014428413</td></tr>\n",
       "\t<tr><th scope=row>E</th><td>   0</td><td>   0</td><td>   2</td><td>   8</td><td>2011</td><td>0.004948046</td></tr>\n",
       "</tbody>\n",
       "</table>\n"
      ],
      "text/latex": [
       "A matrix: 5 × 6 of type dbl\n",
       "\\begin{tabular}{r|llllll}\n",
       "  & A & B & C & D & E & class.error\\\\\n",
       "\\hline\n",
       "\tA & 3123 &    2 &    0 &    0 &    0 & 0.000640000\\\\\n",
       "\tB &   17 & 2106 &    4 &    0 &    0 & 0.009873061\\\\\n",
       "\tC &    0 &   18 & 1897 &    2 &    0 & 0.010432968\\\\\n",
       "\tD &    0 &    0 &   25 & 1776 &    1 & 0.014428413\\\\\n",
       "\tE &    0 &    0 &    2 &    8 & 2011 & 0.004948046\\\\\n",
       "\\end{tabular}\n"
      ],
      "text/markdown": [
       "\n",
       "A matrix: 5 × 6 of type dbl\n",
       "\n",
       "| <!--/--> | A | B | C | D | E | class.error |\n",
       "|---|---|---|---|---|---|---|\n",
       "| A | 3123 |    2 |    0 |    0 |    0 | 0.000640000 |\n",
       "| B |   17 | 2106 |    4 |    0 |    0 | 0.009873061 |\n",
       "| C |    0 |   18 | 1897 |    2 |    0 | 0.010432968 |\n",
       "| D |    0 |    0 |   25 | 1776 |    1 | 0.014428413 |\n",
       "| E |    0 |    0 |    2 |    8 | 2011 | 0.004948046 |\n",
       "\n"
      ],
      "text/plain": [
       "  A    B    C    D    E    class.error\n",
       "A 3123    2    0    0    0 0.000640000\n",
       "B   17 2106    4    0    0 0.009873061\n",
       "C    0   18 1897    2    0 0.010432968\n",
       "D    0    0   25 1776    1 0.014428413\n",
       "E    0    0    2    8 2011 0.004948046"
      ]
     },
     "metadata": {},
     "output_type": "display_data"
    }
   ],
   "source": [
    "#Confusion\n",
    "modRfFit$confusion"
   ]
  },
  {
   "cell_type": "code",
   "execution_count": 65,
   "id": "c9199154-60a2-496d-a29b-5bf8304604a8",
   "metadata": {
    "tags": []
   },
   "outputs": [
    {
     "data": {
      "text/html": [
       "<style>\n",
       ".dl-inline {width: auto; margin:0; padding: 0}\n",
       ".dl-inline>dt, .dl-inline>dd {float: none; width: auto; display: inline-block}\n",
       ".dl-inline>dt::after {content: \":\\0020\"; padding-right: .5ex}\n",
       ".dl-inline>dt:not(:first-of-type) {padding-left: .5ex}\n",
       "</style><dl class=dl-inline><dt>accel_belt_x</dt><dd>1</dd><dt>accel_belt_y</dt><dd>1</dd><dt>accel_belt_z</dt><dd>1</dd><dt>accel_arm_x</dt><dd>1</dd><dt>accel_arm_y</dt><dd>1</dd><dt>accel_arm_z</dt><dd>1</dd><dt>accel_dumbbell_x</dt><dd>1</dd><dt>accel_dumbbell_y</dt><dd>1</dd><dt>accel_dumbbell_z</dt><dd>1</dd><dt>accel_forearm_x</dt><dd>1</dd><dt>accel_forearm_y</dt><dd>1</dd><dt>accel_forearm_z</dt><dd>1</dd><dt>gyros_belt_x</dt><dd>1</dd><dt>gyros_belt_y</dt><dd>1</dd><dt>gyros_belt_z</dt><dd>1</dd><dt>gyros_arm_x</dt><dd>1</dd><dt>gyros_arm_y</dt><dd>1</dd><dt>gyros_arm_z</dt><dd>1</dd><dt>gyros_dumbbell_x</dt><dd>1</dd><dt>gyros_dumbbell_y</dt><dd>1</dd><dt>gyros_dumbbell_z</dt><dd>1</dd><dt>gyros_forearm_x</dt><dd>1</dd><dt>gyros_forearm_y</dt><dd>1</dd><dt>gyros_forearm_z</dt><dd>1</dd><dt>magnet_belt_x</dt><dd>1</dd><dt>magnet_belt_y</dt><dd>1</dd><dt>magnet_belt_z</dt><dd>1</dd><dt>magnet_arm_x</dt><dd>1</dd><dt>magnet_arm_y</dt><dd>1</dd><dt>magnet_arm_z</dt><dd>1</dd><dt>magnet_dumbbell_x</dt><dd>1</dd><dt>magnet_dumbbell_y</dt><dd>1</dd><dt>magnet_dumbbell_z</dt><dd>1</dd><dt>magnet_forearm_x</dt><dd>1</dd><dt>magnet_forearm_y</dt><dd>1</dd><dt>magnet_forearm_z</dt><dd>1</dd><dt>roll_belt</dt><dd>1</dd><dt>roll_arm</dt><dd>1</dd><dt>roll_dumbbell</dt><dd>1</dd><dt>roll_forearm</dt><dd>1</dd><dt>pitch_belt</dt><dd>1</dd><dt>pitch_arm</dt><dd>1</dd><dt>pitch_dumbbell</dt><dd>1</dd><dt>pitch_forearm</dt><dd>1</dd><dt>yaw_belt</dt><dd>1</dd><dt>yaw_arm</dt><dd>1</dd><dt>yaw_dumbbell</dt><dd>1</dd><dt>yaw_forearm</dt><dd>1</dd><dt>total_accel_belt</dt><dd>1</dd><dt>total_accel_arm</dt><dd>1</dd><dt>total_accel_dumbbell</dt><dd>1</dd><dt>total_accel_forearm</dt><dd>1</dd></dl>\n"
      ],
      "text/latex": [
       "\\begin{description*}\n",
       "\\item[accel\\textbackslash{}\\_belt\\textbackslash{}\\_x] 1\n",
       "\\item[accel\\textbackslash{}\\_belt\\textbackslash{}\\_y] 1\n",
       "\\item[accel\\textbackslash{}\\_belt\\textbackslash{}\\_z] 1\n",
       "\\item[accel\\textbackslash{}\\_arm\\textbackslash{}\\_x] 1\n",
       "\\item[accel\\textbackslash{}\\_arm\\textbackslash{}\\_y] 1\n",
       "\\item[accel\\textbackslash{}\\_arm\\textbackslash{}\\_z] 1\n",
       "\\item[accel\\textbackslash{}\\_dumbbell\\textbackslash{}\\_x] 1\n",
       "\\item[accel\\textbackslash{}\\_dumbbell\\textbackslash{}\\_y] 1\n",
       "\\item[accel\\textbackslash{}\\_dumbbell\\textbackslash{}\\_z] 1\n",
       "\\item[accel\\textbackslash{}\\_forearm\\textbackslash{}\\_x] 1\n",
       "\\item[accel\\textbackslash{}\\_forearm\\textbackslash{}\\_y] 1\n",
       "\\item[accel\\textbackslash{}\\_forearm\\textbackslash{}\\_z] 1\n",
       "\\item[gyros\\textbackslash{}\\_belt\\textbackslash{}\\_x] 1\n",
       "\\item[gyros\\textbackslash{}\\_belt\\textbackslash{}\\_y] 1\n",
       "\\item[gyros\\textbackslash{}\\_belt\\textbackslash{}\\_z] 1\n",
       "\\item[gyros\\textbackslash{}\\_arm\\textbackslash{}\\_x] 1\n",
       "\\item[gyros\\textbackslash{}\\_arm\\textbackslash{}\\_y] 1\n",
       "\\item[gyros\\textbackslash{}\\_arm\\textbackslash{}\\_z] 1\n",
       "\\item[gyros\\textbackslash{}\\_dumbbell\\textbackslash{}\\_x] 1\n",
       "\\item[gyros\\textbackslash{}\\_dumbbell\\textbackslash{}\\_y] 1\n",
       "\\item[gyros\\textbackslash{}\\_dumbbell\\textbackslash{}\\_z] 1\n",
       "\\item[gyros\\textbackslash{}\\_forearm\\textbackslash{}\\_x] 1\n",
       "\\item[gyros\\textbackslash{}\\_forearm\\textbackslash{}\\_y] 1\n",
       "\\item[gyros\\textbackslash{}\\_forearm\\textbackslash{}\\_z] 1\n",
       "\\item[magnet\\textbackslash{}\\_belt\\textbackslash{}\\_x] 1\n",
       "\\item[magnet\\textbackslash{}\\_belt\\textbackslash{}\\_y] 1\n",
       "\\item[magnet\\textbackslash{}\\_belt\\textbackslash{}\\_z] 1\n",
       "\\item[magnet\\textbackslash{}\\_arm\\textbackslash{}\\_x] 1\n",
       "\\item[magnet\\textbackslash{}\\_arm\\textbackslash{}\\_y] 1\n",
       "\\item[magnet\\textbackslash{}\\_arm\\textbackslash{}\\_z] 1\n",
       "\\item[magnet\\textbackslash{}\\_dumbbell\\textbackslash{}\\_x] 1\n",
       "\\item[magnet\\textbackslash{}\\_dumbbell\\textbackslash{}\\_y] 1\n",
       "\\item[magnet\\textbackslash{}\\_dumbbell\\textbackslash{}\\_z] 1\n",
       "\\item[magnet\\textbackslash{}\\_forearm\\textbackslash{}\\_x] 1\n",
       "\\item[magnet\\textbackslash{}\\_forearm\\textbackslash{}\\_y] 1\n",
       "\\item[magnet\\textbackslash{}\\_forearm\\textbackslash{}\\_z] 1\n",
       "\\item[roll\\textbackslash{}\\_belt] 1\n",
       "\\item[roll\\textbackslash{}\\_arm] 1\n",
       "\\item[roll\\textbackslash{}\\_dumbbell] 1\n",
       "\\item[roll\\textbackslash{}\\_forearm] 1\n",
       "\\item[pitch\\textbackslash{}\\_belt] 1\n",
       "\\item[pitch\\textbackslash{}\\_arm] 1\n",
       "\\item[pitch\\textbackslash{}\\_dumbbell] 1\n",
       "\\item[pitch\\textbackslash{}\\_forearm] 1\n",
       "\\item[yaw\\textbackslash{}\\_belt] 1\n",
       "\\item[yaw\\textbackslash{}\\_arm] 1\n",
       "\\item[yaw\\textbackslash{}\\_dumbbell] 1\n",
       "\\item[yaw\\textbackslash{}\\_forearm] 1\n",
       "\\item[total\\textbackslash{}\\_accel\\textbackslash{}\\_belt] 1\n",
       "\\item[total\\textbackslash{}\\_accel\\textbackslash{}\\_arm] 1\n",
       "\\item[total\\textbackslash{}\\_accel\\textbackslash{}\\_dumbbell] 1\n",
       "\\item[total\\textbackslash{}\\_accel\\textbackslash{}\\_forearm] 1\n",
       "\\end{description*}\n"
      ],
      "text/markdown": [
       "accel_belt_x\n",
       ":   1accel_belt_y\n",
       ":   1accel_belt_z\n",
       ":   1accel_arm_x\n",
       ":   1accel_arm_y\n",
       ":   1accel_arm_z\n",
       ":   1accel_dumbbell_x\n",
       ":   1accel_dumbbell_y\n",
       ":   1accel_dumbbell_z\n",
       ":   1accel_forearm_x\n",
       ":   1accel_forearm_y\n",
       ":   1accel_forearm_z\n",
       ":   1gyros_belt_x\n",
       ":   1gyros_belt_y\n",
       ":   1gyros_belt_z\n",
       ":   1gyros_arm_x\n",
       ":   1gyros_arm_y\n",
       ":   1gyros_arm_z\n",
       ":   1gyros_dumbbell_x\n",
       ":   1gyros_dumbbell_y\n",
       ":   1gyros_dumbbell_z\n",
       ":   1gyros_forearm_x\n",
       ":   1gyros_forearm_y\n",
       ":   1gyros_forearm_z\n",
       ":   1magnet_belt_x\n",
       ":   1magnet_belt_y\n",
       ":   1magnet_belt_z\n",
       ":   1magnet_arm_x\n",
       ":   1magnet_arm_y\n",
       ":   1magnet_arm_z\n",
       ":   1magnet_dumbbell_x\n",
       ":   1magnet_dumbbell_y\n",
       ":   1magnet_dumbbell_z\n",
       ":   1magnet_forearm_x\n",
       ":   1magnet_forearm_y\n",
       ":   1magnet_forearm_z\n",
       ":   1roll_belt\n",
       ":   1roll_arm\n",
       ":   1roll_dumbbell\n",
       ":   1roll_forearm\n",
       ":   1pitch_belt\n",
       ":   1pitch_arm\n",
       ":   1pitch_dumbbell\n",
       ":   1pitch_forearm\n",
       ":   1yaw_belt\n",
       ":   1yaw_arm\n",
       ":   1yaw_dumbbell\n",
       ":   1yaw_forearm\n",
       ":   1total_accel_belt\n",
       ":   1total_accel_arm\n",
       ":   1total_accel_dumbbell\n",
       ":   1total_accel_forearm\n",
       ":   1\n",
       "\n"
      ],
      "text/plain": [
       "        accel_belt_x         accel_belt_y         accel_belt_z \n",
       "                   1                    1                    1 \n",
       "         accel_arm_x          accel_arm_y          accel_arm_z \n",
       "                   1                    1                    1 \n",
       "    accel_dumbbell_x     accel_dumbbell_y     accel_dumbbell_z \n",
       "                   1                    1                    1 \n",
       "     accel_forearm_x      accel_forearm_y      accel_forearm_z \n",
       "                   1                    1                    1 \n",
       "        gyros_belt_x         gyros_belt_y         gyros_belt_z \n",
       "                   1                    1                    1 \n",
       "         gyros_arm_x          gyros_arm_y          gyros_arm_z \n",
       "                   1                    1                    1 \n",
       "    gyros_dumbbell_x     gyros_dumbbell_y     gyros_dumbbell_z \n",
       "                   1                    1                    1 \n",
       "     gyros_forearm_x      gyros_forearm_y      gyros_forearm_z \n",
       "                   1                    1                    1 \n",
       "       magnet_belt_x        magnet_belt_y        magnet_belt_z \n",
       "                   1                    1                    1 \n",
       "        magnet_arm_x         magnet_arm_y         magnet_arm_z \n",
       "                   1                    1                    1 \n",
       "   magnet_dumbbell_x    magnet_dumbbell_y    magnet_dumbbell_z \n",
       "                   1                    1                    1 \n",
       "    magnet_forearm_x     magnet_forearm_y     magnet_forearm_z \n",
       "                   1                    1                    1 \n",
       "           roll_belt             roll_arm        roll_dumbbell \n",
       "                   1                    1                    1 \n",
       "        roll_forearm           pitch_belt            pitch_arm \n",
       "                   1                    1                    1 \n",
       "      pitch_dumbbell        pitch_forearm             yaw_belt \n",
       "                   1                    1                    1 \n",
       "             yaw_arm         yaw_dumbbell          yaw_forearm \n",
       "                   1                    1                    1 \n",
       "    total_accel_belt      total_accel_arm total_accel_dumbbell \n",
       "                   1                    1                    1 \n",
       " total_accel_forearm \n",
       "                   1 "
      ]
     },
     "metadata": {},
     "output_type": "display_data"
    }
   ],
   "source": [
    "modRfFit$forest$ncat"
   ]
  },
  {
   "cell_type": "code",
   "execution_count": 26,
   "id": "3c8e5fb0-0635-45b9-958a-6ce615d8b50c",
   "metadata": {},
   "outputs": [
    {
     "data": {
      "image/png": "[encoded data removed]",
      "text/plain": [
       "Plot with title \"\""
      ]
     },
     "metadata": {
      "image/png": {
       "height": 420,
       "width": 420
      }
     },
     "output_type": "display_data"
    }
   ],
   "source": [
    "suppressWarnings(suppressMessages(library(rpart, quiet = T)))\n",
    "suppressWarnings(\n",
    "    fancyRpartPlot(train(classe~., train, method = 'rpart')$finalModel, sub = paste(format(Sys.Date(), \"%Y %B %d| %X:%Z\"),\"\\nAuthor: Olha Klishchuk\")))"
   ]
  },
  {
   "cell_type": "code",
   "execution_count": 27,
   "id": "a14e3cb7-15d9-4f99-a7b1-cdec6002f825",
   "metadata": {
    "tags": []
   },
   "outputs": [],
   "source": [
    "modRfFit2 <- randomForest(classe~., data = Train)"
   ]
  },
  {
   "cell_type": "code",
   "execution_count": 28,
   "id": "8a612cb0-ded3-4640-b2b8-76a30f0b496f",
   "metadata": {
    "tags": []
   },
   "outputs": [],
   "source": [
    "predictTest<-predict(modRfFit, test)"
   ]
  },
  {
   "cell_type": "code",
   "execution_count": 29,
   "id": "75f630b3-6bd4-4856-ba49-4af3695818f4",
   "metadata": {
    "tags": []
   },
   "outputs": [
    {
     "name": "stdout",
     "output_type": "stream",
     "text": [
      "99.3 %"
     ]
    }
   ],
   "source": [
    "equality <- as.character(predictTest) == as.character(test$classe)\n",
    "\n",
    "cat(paste(round(sum(equality, na.rm = T)/length(predictTest)*100, 2), \"%\"))\n",
    "\n",
    "predictTest <- data.frame(class = predictTest)"
   ]
  },
  {
   "cell_type": "code",
   "execution_count": 30,
   "id": "22a32a1c-9566-419a-acaa-0a45838c6f7a",
   "metadata": {
    "tags": []
   },
   "outputs": [
    {
     "name": "stdout",
     "output_type": "stream",
     "text": [
      "99.6 %"
     ]
    }
   ],
   "source": [
    "predictTest2 <- predict(modRfFit2, Test)\n",
    "\n",
    "equality2 <- as.character(predictTest2) == as.character(Test$classe)\n",
    "\n",
    "cat(paste(round(sum(equality2, na.rm = T)/length(predictTest2)*100, 1), \"%\"))\n",
    "\n",
    "predictTest2 <- data.frame(class = predictTest2)"
   ]
  },
  {
   "cell_type": "markdown",
   "id": "7771f50a-4d74-41d8-8171-d0b153eb1892",
   "metadata": {},
   "source": [
    "#### Now lets estimate for test sample"
   ]
  },
  {
   "cell_type": "code",
   "execution_count": 31,
   "id": "bb952f92-f1c6-4118-94fd-dc8d2d323cca",
   "metadata": {
    "tags": []
   },
   "outputs": [],
   "source": [
    "# Validation sample\n",
    "predictCV<-predict(modRfFit, cvTest)\n",
    "predictCV<-data.frame(class = predictCV)"
   ]
  },
  {
   "cell_type": "markdown",
   "id": "e0edba74-5b84-46dc-8313-0637008b3bab",
   "metadata": {},
   "source": [
    "# Out-of-sample Error"
   ]
  },
  {
   "cell_type": "markdown",
   "id": "9ceddc34-4e71-42aa-9b95-de87aebfc3e1",
   "metadata": {},
   "source": [
    "### Quadratic Discriminant model"
   ]
  },
  {
   "cell_type": "code",
   "execution_count": 32,
   "id": "510185e3-2741-4b4d-9d9f-1e3e14837802",
   "metadata": {
    "tags": []
   },
   "outputs": [
    {
     "data": {
      "text/plain": [
       "   \n",
       "    FALSE  TRUE\n",
       "  A  3.72 96.28\n",
       "  B 15.36 84.64\n",
       "  C 25.52 74.48\n",
       "  D  7.86 92.14\n",
       "  E  1.67 98.33"
      ]
     },
     "metadata": {},
     "output_type": "display_data"
    }
   ],
   "source": [
    "predictQda[,'sensitivity'] = ifelse(predictQda[,1] == Test$classe, TRUE, FALSE)\n",
    "round(prop.table(table(predictQda[['class']], predictQda[['sensitivity']]), margin = 1)*100, 2)"
   ]
  },
  {
   "cell_type": "markdown",
   "id": "5fbc0f7a-1cf4-4444-a823-352d97186c7b",
   "metadata": {},
   "source": [
    "### Random Forest"
   ]
  },
  {
   "cell_type": "code",
   "execution_count": 33,
   "id": "ed5dd542-a08e-4f37-88f5-7d61f251d753",
   "metadata": {
    "tags": []
   },
   "outputs": [
    {
     "data": {
      "text/html": [
       "<table class=\"dataframe\">\n",
       "<caption>A data.frame: 20 × 2</caption>\n",
       "<thead>\n",
       "\t<tr><th></th><th scope=col>class</th><th scope=col>accuracy</th></tr>\n",
       "\t<tr><th></th><th scope=col>&lt;fct&gt;</th><th scope=col>&lt;lgl&gt;</th></tr>\n",
       "</thead>\n",
       "<tbody>\n",
       "\t<tr><th scope=row>1</th><td>A</td><td>TRUE</td></tr>\n",
       "\t<tr><th scope=row>2</th><td>A</td><td>TRUE</td></tr>\n",
       "\t<tr><th scope=row>3</th><td>A</td><td>TRUE</td></tr>\n",
       "\t<tr><th scope=row>4</th><td>A</td><td>TRUE</td></tr>\n",
       "\t<tr><th scope=row>5</th><td>A</td><td>TRUE</td></tr>\n",
       "\t<tr><th scope=row>6</th><td>A</td><td>TRUE</td></tr>\n",
       "\t<tr><th scope=row>7</th><td>A</td><td>TRUE</td></tr>\n",
       "\t<tr><th scope=row>8</th><td>A</td><td>TRUE</td></tr>\n",
       "\t<tr><th scope=row>9</th><td>A</td><td>TRUE</td></tr>\n",
       "\t<tr><th scope=row>10</th><td>A</td><td>TRUE</td></tr>\n",
       "\t<tr><th scope=row>11</th><td>A</td><td>TRUE</td></tr>\n",
       "\t<tr><th scope=row>12</th><td>A</td><td>TRUE</td></tr>\n",
       "\t<tr><th scope=row>13</th><td>A</td><td>TRUE</td></tr>\n",
       "\t<tr><th scope=row>14</th><td>A</td><td>TRUE</td></tr>\n",
       "\t<tr><th scope=row>15</th><td>A</td><td>TRUE</td></tr>\n",
       "\t<tr><th scope=row>16</th><td>A</td><td>TRUE</td></tr>\n",
       "\t<tr><th scope=row>17</th><td>A</td><td>TRUE</td></tr>\n",
       "\t<tr><th scope=row>18</th><td>A</td><td>TRUE</td></tr>\n",
       "\t<tr><th scope=row>19</th><td>A</td><td>TRUE</td></tr>\n",
       "\t<tr><th scope=row>20</th><td>A</td><td>TRUE</td></tr>\n",
       "</tbody>\n",
       "</table>\n"
      ],
      "text/latex": [
       "A data.frame: 20 × 2\n",
       "\\begin{tabular}{r|ll}\n",
       "  & class & accuracy\\\\\n",
       "  & <fct> & <lgl>\\\\\n",
       "\\hline\n",
       "\t1 & A & TRUE\\\\\n",
       "\t2 & A & TRUE\\\\\n",
       "\t3 & A & TRUE\\\\\n",
       "\t4 & A & TRUE\\\\\n",
       "\t5 & A & TRUE\\\\\n",
       "\t6 & A & TRUE\\\\\n",
       "\t7 & A & TRUE\\\\\n",
       "\t8 & A & TRUE\\\\\n",
       "\t9 & A & TRUE\\\\\n",
       "\t10 & A & TRUE\\\\\n",
       "\t11 & A & TRUE\\\\\n",
       "\t12 & A & TRUE\\\\\n",
       "\t13 & A & TRUE\\\\\n",
       "\t14 & A & TRUE\\\\\n",
       "\t15 & A & TRUE\\\\\n",
       "\t16 & A & TRUE\\\\\n",
       "\t17 & A & TRUE\\\\\n",
       "\t18 & A & TRUE\\\\\n",
       "\t19 & A & TRUE\\\\\n",
       "\t20 & A & TRUE\\\\\n",
       "\\end{tabular}\n"
      ],
      "text/markdown": [
       "\n",
       "A data.frame: 20 × 2\n",
       "\n",
       "| <!--/--> | class &lt;fct&gt; | accuracy &lt;lgl&gt; |\n",
       "|---|---|---|\n",
       "| 1 | A | TRUE |\n",
       "| 2 | A | TRUE |\n",
       "| 3 | A | TRUE |\n",
       "| 4 | A | TRUE |\n",
       "| 5 | A | TRUE |\n",
       "| 6 | A | TRUE |\n",
       "| 7 | A | TRUE |\n",
       "| 8 | A | TRUE |\n",
       "| 9 | A | TRUE |\n",
       "| 10 | A | TRUE |\n",
       "| 11 | A | TRUE |\n",
       "| 12 | A | TRUE |\n",
       "| 13 | A | TRUE |\n",
       "| 14 | A | TRUE |\n",
       "| 15 | A | TRUE |\n",
       "| 16 | A | TRUE |\n",
       "| 17 | A | TRUE |\n",
       "| 18 | A | TRUE |\n",
       "| 19 | A | TRUE |\n",
       "| 20 | A | TRUE |\n",
       "\n"
      ],
      "text/plain": [
       "   class accuracy\n",
       "1  A     TRUE    \n",
       "2  A     TRUE    \n",
       "3  A     TRUE    \n",
       "4  A     TRUE    \n",
       "5  A     TRUE    \n",
       "6  A     TRUE    \n",
       "7  A     TRUE    \n",
       "8  A     TRUE    \n",
       "9  A     TRUE    \n",
       "10 A     TRUE    \n",
       "11 A     TRUE    \n",
       "12 A     TRUE    \n",
       "13 A     TRUE    \n",
       "14 A     TRUE    \n",
       "15 A     TRUE    \n",
       "16 A     TRUE    \n",
       "17 A     TRUE    \n",
       "18 A     TRUE    \n",
       "19 A     TRUE    \n",
       "20 A     TRUE    "
      ]
     },
     "metadata": {},
     "output_type": "display_data"
    }
   ],
   "source": [
    "# Prediction on the testing sample\n",
    "predictTest[,'accuracy'] = ifelse(predictTest[,'class'] == test$classe, TRUE, FALSE)\n",
    "head(predictTest, 20)"
   ]
  },
  {
   "cell_type": "code",
   "execution_count": 34,
   "id": "4b138ef0-519d-4293-bcc4-2d5455a648f3",
   "metadata": {
    "tags": []
   },
   "outputs": [
    {
     "data": {
      "text/plain": [
       "   \n",
       "    FALSE  TRUE\n",
       "  A  0.45 99.55\n",
       "  B  0.66 99.34\n",
       "  C  1.81 98.19\n",
       "  D  0.65 99.35\n",
       "  E  0.12 99.88"
      ]
     },
     "metadata": {},
     "output_type": "display_data"
    }
   ],
   "source": [
    "accuracy_levels<-prop.table(table(predictTest$class,predictTest$accuracy), margin = 1)*100\n",
    "round(accuracy_levels, 2)"
   ]
  },
  {
   "cell_type": "code",
   "execution_count": 35,
   "id": "311ec365-0a37-43ce-bae7-727cb2cb9fef",
   "metadata": {
    "tags": []
   },
   "outputs": [
    {
     "data": {
      "text/html": [
       "<table class=\"dataframe\">\n",
       "<caption>A data.frame: 6 × 2</caption>\n",
       "<thead>\n",
       "\t<tr><th></th><th scope=col>class</th><th scope=col>accuracy</th></tr>\n",
       "\t<tr><th></th><th scope=col>&lt;fct&gt;</th><th scope=col>&lt;lgl&gt;</th></tr>\n",
       "</thead>\n",
       "<tbody>\n",
       "\t<tr><th scope=row>1</th><td>A</td><td>TRUE</td></tr>\n",
       "\t<tr><th scope=row>2</th><td>A</td><td>TRUE</td></tr>\n",
       "\t<tr><th scope=row>3</th><td>A</td><td>TRUE</td></tr>\n",
       "\t<tr><th scope=row>4</th><td>A</td><td>TRUE</td></tr>\n",
       "\t<tr><th scope=row>5</th><td>A</td><td>TRUE</td></tr>\n",
       "\t<tr><th scope=row>6</th><td>A</td><td>TRUE</td></tr>\n",
       "</tbody>\n",
       "</table>\n"
      ],
      "text/latex": [
       "A data.frame: 6 × 2\n",
       "\\begin{tabular}{r|ll}\n",
       "  & class & accuracy\\\\\n",
       "  & <fct> & <lgl>\\\\\n",
       "\\hline\n",
       "\t1 & A & TRUE\\\\\n",
       "\t2 & A & TRUE\\\\\n",
       "\t3 & A & TRUE\\\\\n",
       "\t4 & A & TRUE\\\\\n",
       "\t5 & A & TRUE\\\\\n",
       "\t6 & A & TRUE\\\\\n",
       "\\end{tabular}\n"
      ],
      "text/markdown": [
       "\n",
       "A data.frame: 6 × 2\n",
       "\n",
       "| <!--/--> | class &lt;fct&gt; | accuracy &lt;lgl&gt; |\n",
       "|---|---|---|\n",
       "| 1 | A | TRUE |\n",
       "| 2 | A | TRUE |\n",
       "| 3 | A | TRUE |\n",
       "| 4 | A | TRUE |\n",
       "| 5 | A | TRUE |\n",
       "| 6 | A | TRUE |\n",
       "\n"
      ],
      "text/plain": [
       "  class accuracy\n",
       "1 A     TRUE    \n",
       "2 A     TRUE    \n",
       "3 A     TRUE    \n",
       "4 A     TRUE    \n",
       "5 A     TRUE    \n",
       "6 A     TRUE    "
      ]
     },
     "metadata": {},
     "output_type": "display_data"
    }
   ],
   "source": [
    "# Cross validation sample\n",
    "predictCV<-data.frame(class = predictCV)\n",
    "predictCV[,'accuracy'] = ifelse(predictCV[,1] == cvTest$classe, TRUE, FALSE)\n",
    "head(predictCV)"
   ]
  },
  {
   "cell_type": "code",
   "execution_count": 36,
   "id": "c5897bd5-6741-44b7-b42b-f72d9a80c9d2",
   "metadata": {
    "tags": []
   },
   "outputs": [
    {
     "data": {
      "text/plain": [
       "   \n",
       "    FALSE TRUE\n",
       "  A     2 1115\n",
       "  B     4  756\n",
       "  C    18  679\n",
       "  D     7  627\n",
       "  E     0  715"
      ]
     },
     "metadata": {},
     "output_type": "display_data"
    }
   ],
   "source": [
    "table(predictCV$class,predictCV$accuracy)"
   ]
  },
  {
   "cell_type": "code",
   "execution_count": 37,
   "id": "789f8399-5d87-4af0-9989-9f563e666716",
   "metadata": {
    "tags": []
   },
   "outputs": [
    {
     "data": {
      "text/plain": [
       "   \n",
       "     FALSE   TRUE\n",
       "  A   0.18  99.82\n",
       "  B   0.53  99.47\n",
       "  C   2.58  97.42\n",
       "  D   1.10  98.90\n",
       "  E   0.00 100.00"
      ]
     },
     "metadata": {},
     "output_type": "display_data"
    }
   ],
   "source": [
    "accuracy_level<-prop.table(table(predictCV$class,predictCV$accuracy), margin = 1)*100\n",
    "\n",
    "round(accuracy_level, 2)"
   ]
  },
  {
   "cell_type": "code",
   "execution_count": 38,
   "id": "9756d038-b786-4a2a-b973-1bf9bba6f9a9",
   "metadata": {
    "tags": []
   },
   "outputs": [
    {
     "data": {
      "text/html": [
       "<table class=\"dataframe\">\n",
       "<caption>A data.frame: 20 × 2</caption>\n",
       "<thead>\n",
       "\t<tr><th></th><th scope=col>class</th><th scope=col>accuracy</th></tr>\n",
       "\t<tr><th></th><th scope=col>&lt;fct&gt;</th><th scope=col>&lt;lgl&gt;</th></tr>\n",
       "</thead>\n",
       "<tbody>\n",
       "\t<tr><th scope=row>1</th><td>A</td><td>TRUE</td></tr>\n",
       "\t<tr><th scope=row>2</th><td>A</td><td>TRUE</td></tr>\n",
       "\t<tr><th scope=row>3</th><td>A</td><td>TRUE</td></tr>\n",
       "\t<tr><th scope=row>4</th><td>A</td><td>TRUE</td></tr>\n",
       "\t<tr><th scope=row>5</th><td>A</td><td>TRUE</td></tr>\n",
       "\t<tr><th scope=row>6</th><td>A</td><td>TRUE</td></tr>\n",
       "\t<tr><th scope=row>7</th><td>A</td><td>TRUE</td></tr>\n",
       "\t<tr><th scope=row>8</th><td>A</td><td>TRUE</td></tr>\n",
       "\t<tr><th scope=row>9</th><td>A</td><td>TRUE</td></tr>\n",
       "\t<tr><th scope=row>10</th><td>A</td><td>TRUE</td></tr>\n",
       "\t<tr><th scope=row>11</th><td>A</td><td>TRUE</td></tr>\n",
       "\t<tr><th scope=row>12</th><td>A</td><td>TRUE</td></tr>\n",
       "\t<tr><th scope=row>13</th><td>A</td><td>TRUE</td></tr>\n",
       "\t<tr><th scope=row>14</th><td>A</td><td>TRUE</td></tr>\n",
       "\t<tr><th scope=row>15</th><td>A</td><td>TRUE</td></tr>\n",
       "\t<tr><th scope=row>16</th><td>A</td><td>TRUE</td></tr>\n",
       "\t<tr><th scope=row>17</th><td>A</td><td>TRUE</td></tr>\n",
       "\t<tr><th scope=row>18</th><td>A</td><td>TRUE</td></tr>\n",
       "\t<tr><th scope=row>19</th><td>A</td><td>TRUE</td></tr>\n",
       "\t<tr><th scope=row>20</th><td>A</td><td>TRUE</td></tr>\n",
       "</tbody>\n",
       "</table>\n"
      ],
      "text/latex": [
       "A data.frame: 20 × 2\n",
       "\\begin{tabular}{r|ll}\n",
       "  & class & accuracy\\\\\n",
       "  & <fct> & <lgl>\\\\\n",
       "\\hline\n",
       "\t1 & A & TRUE\\\\\n",
       "\t2 & A & TRUE\\\\\n",
       "\t3 & A & TRUE\\\\\n",
       "\t4 & A & TRUE\\\\\n",
       "\t5 & A & TRUE\\\\\n",
       "\t6 & A & TRUE\\\\\n",
       "\t7 & A & TRUE\\\\\n",
       "\t8 & A & TRUE\\\\\n",
       "\t9 & A & TRUE\\\\\n",
       "\t10 & A & TRUE\\\\\n",
       "\t11 & A & TRUE\\\\\n",
       "\t12 & A & TRUE\\\\\n",
       "\t13 & A & TRUE\\\\\n",
       "\t14 & A & TRUE\\\\\n",
       "\t15 & A & TRUE\\\\\n",
       "\t16 & A & TRUE\\\\\n",
       "\t17 & A & TRUE\\\\\n",
       "\t18 & A & TRUE\\\\\n",
       "\t19 & A & TRUE\\\\\n",
       "\t20 & A & TRUE\\\\\n",
       "\\end{tabular}\n"
      ],
      "text/markdown": [
       "\n",
       "A data.frame: 20 × 2\n",
       "\n",
       "| <!--/--> | class &lt;fct&gt; | accuracy &lt;lgl&gt; |\n",
       "|---|---|---|\n",
       "| 1 | A | TRUE |\n",
       "| 2 | A | TRUE |\n",
       "| 3 | A | TRUE |\n",
       "| 4 | A | TRUE |\n",
       "| 5 | A | TRUE |\n",
       "| 6 | A | TRUE |\n",
       "| 7 | A | TRUE |\n",
       "| 8 | A | TRUE |\n",
       "| 9 | A | TRUE |\n",
       "| 10 | A | TRUE |\n",
       "| 11 | A | TRUE |\n",
       "| 12 | A | TRUE |\n",
       "| 13 | A | TRUE |\n",
       "| 14 | A | TRUE |\n",
       "| 15 | A | TRUE |\n",
       "| 16 | A | TRUE |\n",
       "| 17 | A | TRUE |\n",
       "| 18 | A | TRUE |\n",
       "| 19 | A | TRUE |\n",
       "| 20 | A | TRUE |\n",
       "\n"
      ],
      "text/plain": [
       "   class accuracy\n",
       "1  A     TRUE    \n",
       "2  A     TRUE    \n",
       "3  A     TRUE    \n",
       "4  A     TRUE    \n",
       "5  A     TRUE    \n",
       "6  A     TRUE    \n",
       "7  A     TRUE    \n",
       "8  A     TRUE    \n",
       "9  A     TRUE    \n",
       "10 A     TRUE    \n",
       "11 A     TRUE    \n",
       "12 A     TRUE    \n",
       "13 A     TRUE    \n",
       "14 A     TRUE    \n",
       "15 A     TRUE    \n",
       "16 A     TRUE    \n",
       "17 A     TRUE    \n",
       "18 A     TRUE    \n",
       "19 A     TRUE    \n",
       "20 A     TRUE    "
      ]
     },
     "metadata": {},
     "output_type": "display_data"
    }
   ],
   "source": [
    "# Test sample\n",
    "predictTest2[,'accuracy'] = ifelse(predictTest2$class == Test$classe, TRUE, FALSE)\n",
    "head(predictTest2, 20)"
   ]
  },
  {
   "cell_type": "code",
   "execution_count": 39,
   "id": "b4dfd0d9-c42e-45f9-91c2-931c9c2a42ef",
   "metadata": {
    "tags": []
   },
   "outputs": [
    {
     "data": {
      "text/plain": [
       "   \n",
       "     FALSE   TRUE\n",
       "  A   0.09  99.91\n",
       "  B   0.13  99.87\n",
       "  C   1.44  98.56\n",
       "  D   0.63  99.37\n",
       "  E   0.00 100.00"
      ]
     },
     "metadata": {},
     "output_type": "display_data"
    }
   ],
   "source": [
    "round(prop.table(table(predictTest2$class, predictTest2$accuracy), margin = 1)*100, 2)\n"
   ]
  },
  {
   "cell_type": "code",
   "execution_count": 40,
   "id": "1c89a9ec-cf79-4d2c-9356-100e33b91f7b",
   "metadata": {},
   "outputs": [
    {
     "data": {
      "text/plain": [
       "Confusion Matrix and Statistics\n",
       "\n",
       "          Reference\n",
       "Prediction    A    B    C    D    E\n",
       "         A 1034   40    0    0    0\n",
       "         B   49  628   39    3   23\n",
       "         C   10   82  642   97   31\n",
       "         D   22    3    3  539   18\n",
       "         E    1    6    0    4  649\n",
       "\n",
       "Overall Statistics\n",
       "                                          \n",
       "               Accuracy : 0.8901          \n",
       "                 95% CI : (0.8799, 0.8998)\n",
       "    No Information Rate : 0.2845          \n",
       "    P-Value [Acc > NIR] : < 2.2e-16       \n",
       "                                          \n",
       "                  Kappa : 0.8613          \n",
       " Mcnemar's Test P-Value : < 2.2e-16       \n",
       "\n",
       "Statistics by Class:\n",
       "\n",
       "                     Class: A Class: B Class: C Class: D Class: E\n",
       "Sensitivity            0.9265   0.8274   0.9386   0.8383   0.9001\n",
       "Specificity            0.9857   0.9640   0.9321   0.9860   0.9966\n",
       "Pos Pred Value         0.9628   0.8464   0.7448   0.9214   0.9833\n",
       "Neg Pred Value         0.9712   0.9588   0.9863   0.9688   0.9779\n",
       "Prevalence             0.2845   0.1935   0.1744   0.1639   0.1838\n",
       "Detection Rate         0.2636   0.1601   0.1637   0.1374   0.1654\n",
       "Detection Prevalence   0.2738   0.1891   0.2197   0.1491   0.1682\n",
       "Balanced Accuracy      0.9561   0.8957   0.9353   0.9121   0.9484"
      ]
     },
     "metadata": {},
     "output_type": "display_data"
    }
   ],
   "source": [
    "# confusion Matrix\n",
    "# QDA model\n",
    "confusionMatrix(predictQda$class, Test$classe)"
   ]
  },
  {
   "cell_type": "code",
   "execution_count": 41,
   "id": "a280f6b1-6249-4f4e-8451-6143de62985f",
   "metadata": {
    "tags": []
   },
   "outputs": [
    {
     "data": {
      "text/plain": [
       "Confusion Matrix and Statistics\n",
       "\n",
       "          Reference\n",
       "Prediction    A    B    C    D    E\n",
       "         A 1337    6    0    0    0\n",
       "         B    1  904    5    0    0\n",
       "         C    0    1  815   12    2\n",
       "         D    0    0    1  759    4\n",
       "         E    1    0    0    0  859\n",
       "\n",
       "Overall Statistics\n",
       "                                          \n",
       "               Accuracy : 0.993           \n",
       "                 95% CI : (0.9902, 0.9952)\n",
       "    No Information Rate : 0.2845          \n",
       "    P-Value [Acc > NIR] : < 2.2e-16       \n",
       "                                          \n",
       "                  Kappa : 0.9911          \n",
       " Mcnemar's Test P-Value : NA              \n",
       "\n",
       "Statistics by Class:\n",
       "\n",
       "                     Class: A Class: B Class: C Class: D Class: E\n",
       "Sensitivity            0.9985   0.9923   0.9927   0.9844   0.9931\n",
       "Specificity            0.9982   0.9984   0.9961   0.9987   0.9997\n",
       "Pos Pred Value         0.9955   0.9934   0.9819   0.9935   0.9988\n",
       "Neg Pred Value         0.9994   0.9982   0.9985   0.9970   0.9984\n",
       "Prevalence             0.2845   0.1935   0.1744   0.1638   0.1838\n",
       "Detection Rate         0.2840   0.1921   0.1731   0.1612   0.1825\n",
       "Detection Prevalence   0.2853   0.1933   0.1763   0.1623   0.1827\n",
       "Balanced Accuracy      0.9984   0.9954   0.9944   0.9916   0.9964"
      ]
     },
     "metadata": {},
     "output_type": "display_data"
    }
   ],
   "source": [
    "#RF\n",
    "# test set\n",
    "confusionMatrix(predictTest$class, test$classe)"
   ]
  },
  {
   "cell_type": "code",
   "execution_count": 42,
   "id": "8b4e7ee5-46ee-4998-974a-c53836af4c91",
   "metadata": {
    "tags": []
   },
   "outputs": [
    {
     "data": {
      "text/plain": [
       "Confusion Matrix and Statistics\n",
       "\n",
       "          Reference\n",
       "Prediction    A    B    C    D    E\n",
       "         A 1115    2    0    0    0\n",
       "         B    1  756    3    0    0\n",
       "         C    0    1  679   16    1\n",
       "         D    0    0    2  627    5\n",
       "         E    0    0    0    0  715\n",
       "\n",
       "Overall Statistics\n",
       "                                          \n",
       "               Accuracy : 0.9921          \n",
       "                 95% CI : (0.9888, 0.9946)\n",
       "    No Information Rate : 0.2845          \n",
       "    P-Value [Acc > NIR] : < 2.2e-16       \n",
       "                                          \n",
       "                  Kappa : 0.99            \n",
       " Mcnemar's Test P-Value : NA              \n",
       "\n",
       "Statistics by Class:\n",
       "\n",
       "                     Class: A Class: B Class: C Class: D Class: E\n",
       "Sensitivity            0.9991   0.9960   0.9927   0.9751   0.9917\n",
       "Specificity            0.9993   0.9987   0.9944   0.9979   1.0000\n",
       "Pos Pred Value         0.9982   0.9947   0.9742   0.9890   1.0000\n",
       "Neg Pred Value         0.9996   0.9991   0.9985   0.9951   0.9981\n",
       "Prevalence             0.2845   0.1935   0.1744   0.1639   0.1838\n",
       "Detection Rate         0.2842   0.1927   0.1731   0.1598   0.1823\n",
       "Detection Prevalence   0.2847   0.1937   0.1777   0.1616   0.1823\n",
       "Balanced Accuracy      0.9992   0.9974   0.9936   0.9865   0.9958"
      ]
     },
     "metadata": {},
     "output_type": "display_data"
    }
   ],
   "source": [
    "# validation set\n",
    "confusionMatrix(predictCV$class, cvTest$classe)"
   ]
  },
  {
   "cell_type": "code",
   "execution_count": 43,
   "id": "e3b8415a-2933-469c-b4c3-21734b7e22e7",
   "metadata": {
    "tags": []
   },
   "outputs": [
    {
     "data": {
      "text/plain": [
       "Confusion Matrix and Statistics\n",
       "\n",
       "          Reference\n",
       "Prediction    A    B    C    D    E\n",
       "         A 1115    1    0    0    0\n",
       "         B    1  757    0    0    0\n",
       "         C    0    1  683    9    0\n",
       "         D    0    0    1  634    3\n",
       "         E    0    0    0    0  718\n",
       "\n",
       "Overall Statistics\n",
       "                                          \n",
       "               Accuracy : 0.9959          \n",
       "                 95% CI : (0.9934, 0.9977)\n",
       "    No Information Rate : 0.2845          \n",
       "    P-Value [Acc > NIR] : < 2.2e-16       \n",
       "                                          \n",
       "                  Kappa : 0.9948          \n",
       " Mcnemar's Test P-Value : NA              \n",
       "\n",
       "Statistics by Class:\n",
       "\n",
       "                     Class: A Class: B Class: C Class: D Class: E\n",
       "Sensitivity            0.9991   0.9974   0.9985   0.9860   0.9958\n",
       "Specificity            0.9996   0.9997   0.9969   0.9988   1.0000\n",
       "Pos Pred Value         0.9991   0.9987   0.9856   0.9937   1.0000\n",
       "Neg Pred Value         0.9996   0.9994   0.9997   0.9973   0.9991\n",
       "Prevalence             0.2845   0.1935   0.1744   0.1639   0.1838\n",
       "Detection Rate         0.2842   0.1930   0.1741   0.1616   0.1830\n",
       "Detection Prevalence   0.2845   0.1932   0.1767   0.1626   0.1830\n",
       "Balanced Accuracy      0.9994   0.9985   0.9977   0.9924   0.9979"
      ]
     },
     "metadata": {},
     "output_type": "display_data"
    }
   ],
   "source": [
    "# test sample from pml-testing.csv\n",
    "confusionMatrix(predictTest2$class, Test$classe)"
   ]
  },
  {
   "cell_type": "markdown",
   "id": "7f224c17-74ed-4042-a105-79cd4ca608a5",
   "metadata": {
    "tags": []
   },
   "source": [
    "We can see that RF model is outperform QDA model. Therefore, we will employ it for forecasting 20 cases."
   ]
  },
  {
   "cell_type": "markdown",
   "id": "092f4b03-b3fa-4f98-92f1-798c035d7edb",
   "metadata": {},
   "source": [
    "# Prediction"
   ]
  },
  {
   "cell_type": "code",
   "execution_count": 53,
   "id": "10cc5ab5-b208-471b-b864-b11b0681de1d",
   "metadata": {
    "tags": []
   },
   "outputs": [],
   "source": [
    "testPredict <- predict(modRfFit2, newdata = testPredSet)\n",
    "\n",
    "# testPredict[1:20,'classe']"
   ]
  },
  {
   "cell_type": "code",
   "execution_count": 54,
   "id": "a424a705-5c2c-4355-988d-4a0e8fd7b7a5",
   "metadata": {
    "tags": []
   },
   "outputs": [
    {
     "data": {
      "text/html": [
       "<table class=\"dataframe\">\n",
       "<caption>A data.frame: 20 × 2</caption>\n",
       "<thead>\n",
       "\t<tr><th scope=col>question</th><th scope=col>class</th></tr>\n",
       "\t<tr><th scope=col>&lt;int&gt;</th><th scope=col>&lt;chr&gt;</th></tr>\n",
       "</thead>\n",
       "<tbody>\n",
       "\t<tr><td> 1</td><td>B</td></tr>\n",
       "\t<tr><td> 2</td><td>A</td></tr>\n",
       "\t<tr><td> 3</td><td>B</td></tr>\n",
       "\t<tr><td> 4</td><td>A</td></tr>\n",
       "\t<tr><td> 5</td><td>A</td></tr>\n",
       "\t<tr><td> 6</td><td>E</td></tr>\n",
       "\t<tr><td> 7</td><td>D</td></tr>\n",
       "\t<tr><td> 8</td><td>B</td></tr>\n",
       "\t<tr><td> 9</td><td>A</td></tr>\n",
       "\t<tr><td>10</td><td>A</td></tr>\n",
       "\t<tr><td>11</td><td>B</td></tr>\n",
       "\t<tr><td>12</td><td>C</td></tr>\n",
       "\t<tr><td>13</td><td>B</td></tr>\n",
       "\t<tr><td>14</td><td>A</td></tr>\n",
       "\t<tr><td>15</td><td>E</td></tr>\n",
       "\t<tr><td>16</td><td>E</td></tr>\n",
       "\t<tr><td>17</td><td>A</td></tr>\n",
       "\t<tr><td>18</td><td>B</td></tr>\n",
       "\t<tr><td>19</td><td>B</td></tr>\n",
       "\t<tr><td>20</td><td>B</td></tr>\n",
       "</tbody>\n",
       "</table>\n"
      ],
      "text/latex": [
       "A data.frame: 20 × 2\n",
       "\\begin{tabular}{ll}\n",
       " question & class\\\\\n",
       " <int> & <chr>\\\\\n",
       "\\hline\n",
       "\t  1 & B\\\\\n",
       "\t  2 & A\\\\\n",
       "\t  3 & B\\\\\n",
       "\t  4 & A\\\\\n",
       "\t  5 & A\\\\\n",
       "\t  6 & E\\\\\n",
       "\t  7 & D\\\\\n",
       "\t  8 & B\\\\\n",
       "\t  9 & A\\\\\n",
       "\t 10 & A\\\\\n",
       "\t 11 & B\\\\\n",
       "\t 12 & C\\\\\n",
       "\t 13 & B\\\\\n",
       "\t 14 & A\\\\\n",
       "\t 15 & E\\\\\n",
       "\t 16 & E\\\\\n",
       "\t 17 & A\\\\\n",
       "\t 18 & B\\\\\n",
       "\t 19 & B\\\\\n",
       "\t 20 & B\\\\\n",
       "\\end{tabular}\n"
      ],
      "text/markdown": [
       "\n",
       "A data.frame: 20 × 2\n",
       "\n",
       "| question &lt;int&gt; | class &lt;chr&gt; |\n",
       "|---|---|\n",
       "|  1 | B |\n",
       "|  2 | A |\n",
       "|  3 | B |\n",
       "|  4 | A |\n",
       "|  5 | A |\n",
       "|  6 | E |\n",
       "|  7 | D |\n",
       "|  8 | B |\n",
       "|  9 | A |\n",
       "| 10 | A |\n",
       "| 11 | B |\n",
       "| 12 | C |\n",
       "| 13 | B |\n",
       "| 14 | A |\n",
       "| 15 | E |\n",
       "| 16 | E |\n",
       "| 17 | A |\n",
       "| 18 | B |\n",
       "| 19 | B |\n",
       "| 20 | B |\n",
       "\n"
      ],
      "text/plain": [
       "   question class\n",
       "1   1       B    \n",
       "2   2       A    \n",
       "3   3       B    \n",
       "4   4       A    \n",
       "5   5       A    \n",
       "6   6       E    \n",
       "7   7       D    \n",
       "8   8       B    \n",
       "9   9       A    \n",
       "10 10       A    \n",
       "11 11       B    \n",
       "12 12       C    \n",
       "13 13       B    \n",
       "14 14       A    \n",
       "15 15       E    \n",
       "16 16       E    \n",
       "17 17       A    \n",
       "18 18       B    \n",
       "19 19       B    \n",
       "20 20       B    "
      ]
     },
     "metadata": {},
     "output_type": "display_data"
    }
   ],
   "source": [
    "data.frame(question = 1:20, class = as.character(testPredict[1:20]))"
   ]
  },
  {
   "cell_type": "code",
   "execution_count": 52,
   "id": "f21a821f-ba3b-418c-9de9-5916284699b5",
   "metadata": {
    "tags": []
   },
   "outputs": [
    {
     "data": {
      "text/html": [
       "<table class=\"dataframe\">\n",
       "<caption>A data.frame: 20 × 2</caption>\n",
       "<thead>\n",
       "\t<tr><th scope=col>question</th><th scope=col>class</th></tr>\n",
       "\t<tr><th scope=col>&lt;int&gt;</th><th scope=col>&lt;chr&gt;</th></tr>\n",
       "</thead>\n",
       "<tbody>\n",
       "\t<tr><td> 1</td><td>A</td></tr>\n",
       "\t<tr><td> 2</td><td>A</td></tr>\n",
       "\t<tr><td> 3</td><td>B</td></tr>\n",
       "\t<tr><td> 4</td><td>A</td></tr>\n",
       "\t<tr><td> 5</td><td>A</td></tr>\n",
       "\t<tr><td> 6</td><td>E</td></tr>\n",
       "\t<tr><td> 7</td><td>D</td></tr>\n",
       "\t<tr><td> 8</td><td>B</td></tr>\n",
       "\t<tr><td> 9</td><td>A</td></tr>\n",
       "\t<tr><td>10</td><td>A</td></tr>\n",
       "\t<tr><td>11</td><td>B</td></tr>\n",
       "\t<tr><td>12</td><td>C</td></tr>\n",
       "\t<tr><td>13</td><td>B</td></tr>\n",
       "\t<tr><td>14</td><td>A</td></tr>\n",
       "\t<tr><td>15</td><td>E</td></tr>\n",
       "\t<tr><td>16</td><td>E</td></tr>\n",
       "\t<tr><td>17</td><td>A</td></tr>\n",
       "\t<tr><td>18</td><td>B</td></tr>\n",
       "\t<tr><td>19</td><td>B</td></tr>\n",
       "\t<tr><td>20</td><td>B</td></tr>\n",
       "</tbody>\n",
       "</table>\n"
      ],
      "text/latex": [
       "A data.frame: 20 × 2\n",
       "\\begin{tabular}{ll}\n",
       " question & class\\\\\n",
       " <int> & <chr>\\\\\n",
       "\\hline\n",
       "\t  1 & A\\\\\n",
       "\t  2 & A\\\\\n",
       "\t  3 & B\\\\\n",
       "\t  4 & A\\\\\n",
       "\t  5 & A\\\\\n",
       "\t  6 & E\\\\\n",
       "\t  7 & D\\\\\n",
       "\t  8 & B\\\\\n",
       "\t  9 & A\\\\\n",
       "\t 10 & A\\\\\n",
       "\t 11 & B\\\\\n",
       "\t 12 & C\\\\\n",
       "\t 13 & B\\\\\n",
       "\t 14 & A\\\\\n",
       "\t 15 & E\\\\\n",
       "\t 16 & E\\\\\n",
       "\t 17 & A\\\\\n",
       "\t 18 & B\\\\\n",
       "\t 19 & B\\\\\n",
       "\t 20 & B\\\\\n",
       "\\end{tabular}\n"
      ],
      "text/markdown": [
       "\n",
       "A data.frame: 20 × 2\n",
       "\n",
       "| question &lt;int&gt; | class &lt;chr&gt; |\n",
       "|---|---|\n",
       "|  1 | A |\n",
       "|  2 | A |\n",
       "|  3 | B |\n",
       "|  4 | A |\n",
       "|  5 | A |\n",
       "|  6 | E |\n",
       "|  7 | D |\n",
       "|  8 | B |\n",
       "|  9 | A |\n",
       "| 10 | A |\n",
       "| 11 | B |\n",
       "| 12 | C |\n",
       "| 13 | B |\n",
       "| 14 | A |\n",
       "| 15 | E |\n",
       "| 16 | E |\n",
       "| 17 | A |\n",
       "| 18 | B |\n",
       "| 19 | B |\n",
       "| 20 | B |\n",
       "\n"
      ],
      "text/plain": [
       "   question class\n",
       "1   1       A    \n",
       "2   2       A    \n",
       "3   3       B    \n",
       "4   4       A    \n",
       "5   5       A    \n",
       "6   6       E    \n",
       "7   7       D    \n",
       "8   8       B    \n",
       "9   9       A    \n",
       "10 10       A    \n",
       "11 11       B    \n",
       "12 12       C    \n",
       "13 13       B    \n",
       "14 14       A    \n",
       "15 15       E    \n",
       "16 16       E    \n",
       "17 17       A    \n",
       "18 18       B    \n",
       "19 19       B    \n",
       "20 20       B    "
      ]
     },
     "metadata": {},
     "output_type": "display_data"
    }
   ],
   "source": [
    "testPredict<- predict(modQdaFit, newdata = testPredSet)\n",
    "data.frame(question = 1:20, class = as.character(testPredict[1:20]))"
   ]
  },
  {
   "cell_type": "markdown",
   "id": "8b1e9adc-bbab-436b-b043-b1547e672c06",
   "metadata": {},
   "source": [
    "# Summary"
   ]
  },
  {
   "cell_type": "markdown",
   "id": "1a43423b-3690-4875-b4d7-5388806680ba",
   "metadata": {
    "tags": []
   },
   "source": [
    "> Therefore we can conclude:\n",
    "    > - random forest demonstrates more classification accuracy (around 99%) in predicting model than linear model,\n",
    "    > - if you perform exercise without swinging (roll_belt < 131, pitch_forearm < -34, magnet_dumbbel_y < 437) you will with 100% of probability correctly and safely perform the exercise.\n"
   ]
  },
  {
   "cell_type": "code",
   "execution_count": 73,
   "id": "1ae13b9b-b2aa-481f-a646-1457081ae993",
   "metadata": {
    "tags": []
   },
   "outputs": [],
   "source": [
    "nb_rmd = rmarkdown:::convert_ipynb('Final Exam.ipynb')"
   ]
  }
 ],
 "metadata": {
  "kernelspec": {
   "display_name": "R",
   "language": "R",
   "name": "ir"
  },
  "language_info": {
   "codemirror_mode": "r",
   "file_extension": ".r",
   "mimetype": "text/x-r-source",
   "name": "R",
   "pygments_lexer": "r",
   "version": "4.2.1"
  }
 },
 "nbformat": 4,
 "nbformat_minor": 5
}
